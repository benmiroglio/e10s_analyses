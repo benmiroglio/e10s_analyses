{
 "cells": [
  {
   "cell_type": "markdown",
   "metadata": {},
   "source": [
    "### e10s-beta45-withoutaddons: Stability analysis"
   ]
  },
  {
   "cell_type": "markdown",
   "metadata": {},
   "source": [
    "[Bug 1222890](https://bugzilla.mozilla.org/show_bug.cgi?id=1222890)"
   ]
  },
  {
   "cell_type": "markdown",
   "metadata": {},
   "source": [
    "This analysis compares e10s and non-e10s crash rates."
   ]
  },
  {
   "cell_type": "code",
   "execution_count": 1,
   "metadata": {
    "collapsed": false
   },
   "outputs": [
    {
     "name": "stdout",
     "output_type": "stream",
     "text": [
      "Unable to parse whitelist (/home/hadoop/anaconda2/lib/python2.7/site-packages/moztelemetry/bucket-whitelist.json). Assuming all histograms are acceptable.\n"
     ]
    }
   ],
   "source": [
    "import IPython\n",
    "\n",
    "from moztelemetry.spark import get_pings, get_pings_properties"
   ]
  },
  {
   "cell_type": "code",
   "execution_count": 2,
   "metadata": {
    "collapsed": false
   },
   "outputs": [
    {
     "name": "stdout",
     "output_type": "stream",
     "text": [
      "Populating the interactive namespace from numpy and matplotlib\n"
     ]
    }
   ],
   "source": [
    "%pylab inline\n",
    "IPython.core.pylabtools.figsize(16, 7)"
   ]
  },
  {
   "cell_type": "code",
   "execution_count": 3,
   "metadata": {
    "collapsed": true
   },
   "outputs": [],
   "source": [
    "PING_OPTIONS = {\n",
    "    \"app\": \"Firefox\",\n",
    "    \"channel\": \"beta\",\n",
    "    \"version\": \"45.0\",\n",
    "    \"build_id\": \"*\",\n",
    "    \"submission_date\": (\"20160211\", \"20160222\")\n",
    "}"
   ]
  },
  {
   "cell_type": "code",
   "execution_count": 3,
   "metadata": {
    "collapsed": true
   },
   "outputs": [],
   "source": [
    "main_pings = get_pings(sc, doc_type=\"main\", **PING_OPTIONS)\n",
    "main_ping_data = get_pings_properties(main_pings,\n",
    "                                      [\"environment/addons/activeExperiment/id\",\n",
    "                                       \"environment/addons/activeExperiment/branch\",\n",
    "                                       \"environment/settings/e10sEnabled\",\n",
    "                                       \"payload/info/subsessionLength\",\n",
    "                                       \"payload/keyedHistograms/SUBPROCESS_CRASHES_WITH_DUMP/content\",\n",
    "                                       \"payload/keyedHistograms/SUBPROCESS_CRASHES_WITH_DUMP/plugin\"])"
   ]
  },
  {
   "cell_type": "code",
   "execution_count": 4,
   "metadata": {
    "collapsed": true
   },
   "outputs": [],
   "source": [
    "crash_pings = get_pings(sc, doc_type=\"crash\", **PING_OPTIONS)\n",
    "crash_ping_data = get_pings_properties(crash_pings,\n",
    "                                       [\"environment/addons/activeExperiment/id\",\n",
    "                                        \"environment/addons/activeExperiment/branch\",\n",
    "                                        \"environment/settings/e10sEnabled\"])"
   ]
  },
  {
   "cell_type": "code",
   "execution_count": 5,
   "metadata": {
    "collapsed": true
   },
   "outputs": [],
   "source": [
    "def experiment_filter(d):\n",
    "    try:\n",
    "        return d[\"environment/addons/activeExperiment/id\"] == \"e10s-beta45-withoutaddons@experiments.mozilla.org\" \\\n",
    "            and d[\"environment/addons/activeExperiment/branch\"] in (\"control-no-addons\", \"experiment-no-addons\")\n",
    "    except KeyError:\n",
    "        raise ValueError(\"Whoa nellie, missing a key: \" + repr(d))\n",
    "\n",
    "main_data_filtered = main_ping_data.filter(experiment_filter).cache()\n",
    "crash_data_filtered = crash_ping_data.filter(experiment_filter).cache()"
   ]
  },
  {
   "cell_type": "markdown",
   "metadata": {},
   "source": [
    "How many pings do we have in each branch?"
   ]
  },
  {
   "cell_type": "code",
   "execution_count": 6,
   "metadata": {
    "collapsed": false
   },
   "outputs": [
    {
     "data": {
      "text/plain": [
       "defaultdict(int,\n",
       "            {(u'control-no-addons', False): 3412732,\n",
       "             (u'experiment-no-addons', False): 20,\n",
       "             (u'experiment-no-addons', True): 3067306})"
      ]
     },
     "execution_count": 6,
     "metadata": {},
     "output_type": "execute_result"
    }
   ],
   "source": [
    "from operator import add\n",
    "main_data_filtered.map(lambda d: (d[\"environment/addons/activeExperiment/branch\"],\n",
    "                                  d[\"environment/settings/e10sEnabled\"])).countByValue()"
   ]
  },
  {
   "cell_type": "code",
   "execution_count": 8,
   "metadata": {
    "collapsed": false
   },
   "outputs": [],
   "source": [
    "class Accumulators():\n",
    "    def __init__(self, cx):\n",
    "        self.main_crashes = cx.accumulator(0)\n",
    "        self.content_crashes = cx.accumulator(0)\n",
    "        self.plugin_crashes = cx.accumulator(0)\n",
    "        self.session_seconds = cx.accumulator(0)\n",
    "        \n",
    "    def hours(self):\n",
    "        return self.session_seconds.value / 3600.0 / 1000\n",
    "\n",
    "non_e10s = Accumulators(sc)\n",
    "e10s = Accumulators(sc)"
   ]
  },
  {
   "cell_type": "code",
   "execution_count": null,
   "metadata": {
    "collapsed": true
   },
   "outputs": [],
   "source": [
    "def process_main(d):\n",
    "    if d[\"environment/addons/activeExperiment/branch\"] == \"control-no-addons\":\n",
    "        acc = non_e10s\n",
    "    else:\n",
    "        acc = e10s\n",
    "\n",
    "    content = d[\"payload/keyedHistograms/SUBPROCESS_CRASHES_WITH_DUMP/content\"]\n",
    "    if content is not None:\n",
    "        acc.content_crashes.add(content)\n",
    "\n",
    "    plugin = d[\"payload/keyedHistograms/SUBPROCESS_CRASHES_WITH_DUMP/plugin\"]\n",
    "    if plugin is not None:\n",
    "        acc.plugin_crashes.add(plugin)\n",
    "    \n",
    "    length = d[\"payload/info/subsessionLength\"]\n",
    "    if length is not None:\n",
    "        acc.session_seconds.add(length)\n",
    "\n",
    "main_data_filtered.foreach(process_main)"
   ]
  },
  {
   "cell_type": "code",
   "execution_count": null,
   "metadata": {
    "collapsed": true
   },
   "outputs": [],
   "source": [
    "def process_crash(d):\n",
    "    if d[\"environment/addons/activeExperiment/branch\"] == \"control-no-addons\":\n",
    "        acc = non_e10s\n",
    "    else:\n",
    "        acc = e10s\n",
    "\n",
    "    acc.main_crashes.add(1)\n",
    "\n",
    "crash_data_filtered.foreach(process_crash)"
   ]
  },
  {
   "cell_type": "code",
   "execution_count": 9,
   "metadata": {
    "collapsed": false
   },
   "outputs": [
    {
     "name": "stdout",
     "output_type": "stream",
     "text": [
      "                                 non-e10s       e10s\n",
      "usage hours                          5382       4742\n",
      "chrome crashes                      72659      33591\n",
      "content crashes                     11731      75757\n",
      "plugin crashes                      41897      55809\n",
      "main crash rate                     13.50       7.08\n",
      "main+content crash rate             15.68      23.06\n",
      "plugin crash rate                    7.78      11.77\n"
     ]
    }
   ],
   "source": [
    "def p(name, type, v1, v2):\n",
    "    print (\"{:30s} {:>10\" + type + \"} {:>10\" + type + \"}\").format(name, v1, v2)\n",
    "\n",
    "p(\"\", \"s\", \"non-e10s\", \"e10s\")\n",
    "p(\"usage hours\", \".0f\", non_e10s.hours(), e10s.hours())\n",
    "p(\"chrome crashes\", \"d\", non_e10s.main_crashes.value, e10s.main_crashes.value)\n",
    "p(\"content crashes\", \"d\", non_e10s.content_crashes.value, e10s.content_crashes.value)\n",
    "p(\"plugin crashes\", \"d\", non_e10s.plugin_crashes.value, e10s.plugin_crashes.value)\n",
    "p(\"main crash rate\", \".2f\",\n",
    "  non_e10s.main_crashes.value / non_e10s.hours(),\n",
    "  e10s.main_crashes.value / e10s.hours())\n",
    "p(\"main+content crash rate\", \".2f\",\n",
    "  (non_e10s.main_crashes.value + non_e10s.content_crashes.value) / non_e10s.hours(),\n",
    "  (e10s.main_crashes.value + e10s.content_crashes.value) / e10s.hours())\n",
    "p(\"plugin crash rate\", \".2f\",\n",
    "  non_e10s.plugin_crashes.value / non_e10s.hours(),\n",
    "  e10s.plugin_crashes.value / e10s.hours())"
   ]
  }
 ],
 "metadata": {
  "kernelspec": {
   "display_name": "Python 2",
   "language": "python",
   "name": "python2"
  },
  "language_info": {
   "codemirror_mode": {
    "name": "ipython",
    "version": 2
   },
   "file_extension": ".py",
   "mimetype": "text/x-python",
   "name": "python",
   "nbconvert_exporter": "python",
   "pygments_lexer": "ipython2",
   "version": "2.7.10"
  }
 },
 "nbformat": 4,
 "nbformat_minor": 0
}
