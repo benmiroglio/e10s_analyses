{
 "cells": [
  {
   "cell_type": "markdown",
   "metadata": {},
   "source": [
    "### e10s-beta45-withaddons: Top addons"
   ]
  },
  {
   "cell_type": "markdown",
   "metadata": {},
   "source": [
    "[Bug 1224518](https://bugzilla.mozilla.org/show_bug.cgi?id=1224518)\n",
    "\n",
    "This analysis lists the top addons in the Telemetry pings and compares them to the [whitelisted e10s addon list](https://wiki.mozilla.org/Electrolysis/Addons)."
   ]
  },
  {
   "cell_type": "code",
   "execution_count": 1,
   "metadata": {
    "collapsed": false
   },
   "outputs": [
    {
     "name": "stdout",
     "output_type": "stream",
     "text": [
      "Unable to parse whitelist (/home/hadoop/anaconda2/lib/python2.7/site-packages/moztelemetry/bucket-whitelist.json). Assuming all histograms are acceptable.\n",
      "Populating the interactive namespace from numpy and matplotlib\n"
     ]
    }
   ],
   "source": [
    "import ujson as json\n",
    "import matplotlib.pyplot as plt\n",
    "import pandas as pd\n",
    "import numpy as np\n",
    "import plotly.plotly as py\n",
    "import IPython\n",
    "\n",
    "from __future__ import division\n",
    "from moztelemetry.spark import get_pings, get_one_ping_per_client, get_pings_properties\n",
    "from montecarlino import grouped_permutation_test\n",
    "\n",
    "from whitelist import ADDON_WHITELIST\n",
    "\n",
    "%pylab inline\n",
    "IPython.core.pylabtools.figsize(16, 7)"
   ]
  },
  {
   "cell_type": "code",
   "execution_count": 2,
   "metadata": {
    "collapsed": false
   },
   "outputs": [
    {
     "data": {
      "text/plain": [
       "160"
      ]
     },
     "execution_count": 2,
     "metadata": {},
     "output_type": "execute_result"
    }
   ],
   "source": [
    "sc.defaultParallelism"
   ]
  },
  {
   "cell_type": "markdown",
   "metadata": {},
   "source": [
    "#### Get addons"
   ]
  },
  {
   "cell_type": "code",
   "execution_count": 3,
   "metadata": {
    "collapsed": false
   },
   "outputs": [],
   "source": [
    "dataset = sqlContext.read.load(\"s3://telemetry-parquet/e10s-experiment/e10s-beta45-withaddons@experiments.mozilla.org/generationDate=20160207\", \"parquet\")"
   ]
  },
  {
   "cell_type": "markdown",
   "metadata": {},
   "source": [
    "Transform Dataframe to RDD of pings"
   ]
  },
  {
   "cell_type": "code",
   "execution_count": 4,
   "metadata": {
    "collapsed": true
   },
   "outputs": [],
   "source": [
    "def row_2_ping(row):\n",
    "    ping = {\"environment\": {\"addons\": json.loads(row.addons)}}\n",
    "    return ping"
   ]
  },
  {
   "cell_type": "code",
   "execution_count": 5,
   "metadata": {
    "collapsed": false
   },
   "outputs": [],
   "source": [
    "subset = dataset.rdd.map(row_2_ping)\n",
    "subset_count = subset.count()"
   ]
  },
  {
   "cell_type": "code",
   "execution_count": 6,
   "metadata": {
    "collapsed": false
   },
   "outputs": [
    {
     "data": {
      "text/plain": [
       "959609"
      ]
     },
     "execution_count": 6,
     "metadata": {},
     "output_type": "execute_result"
    }
   ],
   "source": [
    "subset_count"
   ]
  },
  {
   "cell_type": "code",
   "execution_count": 7,
   "metadata": {
    "collapsed": false
   },
   "outputs": [],
   "source": [
    "def ping_has_addons(ping, check_id_func):\n",
    "    activeAddons = ping[\"environment\"][\"addons\"].get(\"activeAddons\", {})\n",
    "    if not activeAddons:\n",
    "        return False\n",
    "    for k, v in activeAddons.iteritems():\n",
    "        if not check_id_func(k):\n",
    "            return False\n",
    "    return True"
   ]
  },
  {
   "cell_type": "markdown",
   "metadata": {},
   "source": [
    "How many clients had at least one addon?"
   ]
  },
  {
   "cell_type": "code",
   "execution_count": 8,
   "metadata": {
    "collapsed": false
   },
   "outputs": [],
   "source": [
    "any_subset = subset.filter(lambda p: ping_has_addons(p, lambda k: True))\n",
    "any_subset_count = any_subset.count()"
   ]
  },
  {
   "cell_type": "code",
   "execution_count": 9,
   "metadata": {
    "collapsed": false
   },
   "outputs": [
    {
     "name": "stdout",
     "output_type": "stream",
     "text": [
      "99.29%\n"
     ]
    }
   ],
   "source": [
    "print \"{:.2f}%\".format(100.0 * any_subset_count / subset_count)"
   ]
  },
  {
   "cell_type": "markdown",
   "metadata": {},
   "source": [
    "How many clients had only whitelisted addons?"
   ]
  },
  {
   "cell_type": "code",
   "execution_count": 10,
   "metadata": {
    "collapsed": false
   },
   "outputs": [],
   "source": [
    "whitelisted_subset = subset.filter(lambda p: ping_has_addons(p, lambda k: k in ADDON_WHITELIST))\n",
    "whitelisted_subset_count = whitelisted_subset.count()"
   ]
  },
  {
   "cell_type": "code",
   "execution_count": 11,
   "metadata": {
    "collapsed": false
   },
   "outputs": [
    {
     "name": "stdout",
     "output_type": "stream",
     "text": [
      "0.04%\n"
     ]
    }
   ],
   "source": [
    "print \"{:.2f}%\".format(100.0 * whitelisted_subset_count / subset_count)"
   ]
  },
  {
   "cell_type": "markdown",
   "metadata": {},
   "source": [
    "How many clients had at least one unwhitelisted addon?"
   ]
  },
  {
   "cell_type": "code",
   "execution_count": 12,
   "metadata": {
    "collapsed": false
   },
   "outputs": [
    {
     "name": "stdout",
     "output_type": "stream",
     "text": [
      "99.25%\n"
     ]
    }
   ],
   "source": [
    "print \"{:.2f}%\".format(100.0 * (any_subset_count - whitelisted_subset_count) / subset_count)"
   ]
  },
  {
   "cell_type": "code",
   "execution_count": 13,
   "metadata": {
    "collapsed": true
   },
   "outputs": [],
   "source": [
    "def get_ping_addons(ping):\n",
    "    activeAddons = ping[\"environment\"][\"addons\"].get(\"activeAddons\", {})\n",
    "    for k, v in activeAddons.iteritems():\n",
    "        if v.get(\"name\"):\n",
    "            yield (k, v[\"name\"].encode(\"ascii\", \"ignore\"))\n",
    "\n",
    "addons = subset.flatMap(get_ping_addons)"
   ]
  },
  {
   "cell_type": "code",
   "execution_count": 14,
   "metadata": {
    "collapsed": false
   },
   "outputs": [],
   "source": [
    "addon_counts = addons.countByKey()"
   ]
  },
  {
   "cell_type": "markdown",
   "metadata": {},
   "source": [
    "How many addons did the clients have installed in total?"
   ]
  },
  {
   "cell_type": "code",
   "execution_count": 15,
   "metadata": {
    "collapsed": false
   },
   "outputs": [
    {
     "data": {
      "text/plain": [
       "2103048"
      ]
     },
     "execution_count": 15,
     "metadata": {},
     "output_type": "execute_result"
    }
   ],
   "source": [
    "total_addons = sum(addon_counts.values())\n",
    "total_addons"
   ]
  },
  {
   "cell_type": "markdown",
   "metadata": {},
   "source": [
    "Which whitelisted addons did not appear in the pings?"
   ]
  },
  {
   "cell_type": "code",
   "execution_count": 16,
   "metadata": {
    "collapsed": false,
    "scrolled": false
   },
   "outputs": [
    {
     "name": "stdout",
     "output_type": "stream",
     "text": [
      "Vertical Tabs\n"
     ]
    }
   ],
   "source": [
    "for addon in ADDON_WHITELIST:\n",
    "    if not addon in addon_counts:\n",
    "        print ADDON_WHITELIST[addon]"
   ]
  },
  {
   "cell_type": "markdown",
   "metadata": {},
   "source": [
    "#### Top whitelisted addons"
   ]
  },
  {
   "cell_type": "code",
   "execution_count": 17,
   "metadata": {
    "collapsed": false
   },
   "outputs": [
    {
     "name": "stdout",
     "output_type": "stream",
     "text": [
      "4.217%: Adblock Plus\n",
      "1.231%: IDM CC\n",
      "1.084%: Video DownloadHelper\n",
      "1.017%: Avast Online Security\n",
      "0.688%: Download YouTube Videos as MP4\n",
      "0.613%: Firebug\n",
      "0.553%: YouTube Video and Audio Downloader\n",
      "0.543%: 1-Click YouTube Video Downloader\n",
      "0.518%: McAfee WebAdvisor\n",
      "0.491%: Flash Video Downloader - YouTube HD Download [4K]\n",
      "0.371%: DownThemAll!\n",
      "0.329%: Greasemonkey\n",
      "0.321%: Kaspersky URL Advisor\n",
      "0.294%: Avira Browser Safety\n",
      "0.290%: Adblock Plus Pop-up Addon\n",
      "0.228%: MEGA\n",
      "0.220%: Yandex Visual Bookmarks\n",
      "0.213%: Yandex Elements\n",
      "0.211%: AVG SafeGuard toolbar\n",
      "0.199%: Ghostery\n",
      "0.196%: FlashGot\n",
      "0.170%: WOT\n",
      "0.154%: NoScript\n",
      "0.150%: Google Translator for Firefox\n",
      "0.126%: Pin It button\n",
      "0.115%: Adblock Edge\n",
      "0.114%: Element Hiding Helper for Adblock Plus\n",
      "0.105%: Flagfox\n",
      "0.101%: Yahoo! Toolbar\n",
      "0.100%: Download Status Bar\n",
      "0.099%: Tab Mix Plus\n",
      "0.089%: IE Tab 2\n",
      "0.084%: Stylish\n",
      "0.072%: FireFTP\n",
      "0.070%: Personas Plus\n",
      "0.047%: Garmin Communicator\n",
      "0.043%: Xmarks\n",
      "0.039%: Flashblock\n",
      "0.039%: uBlock\n",
      "0.038%: ColorfulTabs\n",
      "0.030%: Amazon 1Button App for Firefox\n",
      "0.025%: HTTPS-Everywhere\n",
      "0.023%: 1Password\n",
      "0.010%: LastPass\n",
      "0.007%: McAfee Security Scan Plus\n",
      "0.006%: OneTab\n",
      "0.006%: FoxTab\n",
      "0.004%: Aol Toolbar\n",
      "0.001%: Cliqz\n",
      "0.000%: CCK2\n",
      "0.000%: GBBD Banco Santander (Brasil) S.A.\n"
     ]
    }
   ],
   "source": [
    "from collections import Counter\n",
    "\n",
    "for addon, addon_count in Counter(addon_counts).most_common():\n",
    "    if addon in ADDON_WHITELIST:\n",
    "        print \"{:.3f}%: {}\".format(100.0 * addon_count / total_addons, ADDON_WHITELIST[addon])"
   ]
  },
  {
   "cell_type": "markdown",
   "metadata": {},
   "source": [
    "#### Top unwhitelisted addons"
   ]
  },
  {
   "cell_type": "code",
   "execution_count": 18,
   "metadata": {
    "collapsed": false
   },
   "outputs": [],
   "source": [
    "# An addon ID might have multiple names. Pick the longer one because some addons appear to have\n",
    "# invalid names (e.g. single space).\n",
    "addon_names = addons.reduceByKey(lambda a, b: a if len(a) > len(b) else b).collectAsMap()"
   ]
  },
  {
   "cell_type": "code",
   "execution_count": 19,
   "metadata": {
    "collapsed": false
   },
   "outputs": [
    {
     "name": "stdout",
     "output_type": "stream",
     "text": [
      "45.211%: Firefox Hello Beta (loop@mozilla.org)\n",
      "4.637%: Test Pilot (testpilot@labs.mozilla.com)\n",
      "2.617%: Skype Click to Call ({82AF8DCA-6DE9-405D-BD5E-43525BDAD38A})\n",
      "0.744%: FromDocToPDF (_65Members_@download.fromdoctopdf.com)\n",
      "0.672%: SaveFrom.net - helper (helper-sig@savefrom.net)\n",
      "0.553%: iLivid (LVD-SAE@iacsearchandmedia.com)\n",
      "0.502%: Module de blocage des sites Internet dangereux (content_blocker@kaspersky.com)\n",
      "0.495%: anonymoX (client@anonymox.net)\n",
      "0.443%: Kaspersky Bescherming (light_plugin_D772DC8D6FAF43A29B25C4EBAA5AD1DE@kaspersky.com)\n",
      "0.426%: Virtualioji klaviatra (virtual_keyboard_07402848C2F6470194F131B0F3DE025E@kaspersky.com)\n",
      "0.426%: Module de blocage des sites Internet dangereux (content_blocker_663BE84DBCC949E88C7600F63CA7F098@kaspersky.com)\n",
      "0.409%: goMovix - Movies And More (caa1-aDOiCAxFFMOVIX@jetpack)\n",
      "0.403%: MySmartPrice (@mysmartprice-ff)\n",
      "0.399%: Facebook Messenger (www.facebook.com@services.mozilla.org)\n",
      "0.395%: WeatherBlink (_gcMembers_@www.weatherblink.com)\n",
      "0.383%: PConverter (_dzMembers_@www.pconverter.com)\n",
      "0.373%: Music Box (MUB-SAE@iacsearchandmedia.com)\n",
      "0.359%: Avast SafePrice (sp@avast.com)\n",
      "0.349%: Sicherer Zahlungsverkehr (online_banking_08806E753BE44495B44E90AA2513BDC5@kaspersky.com)\n",
      "0.347%: VideoDownloadConverter (_4zMembers_@www.videodownloadconverter.com)\n",
      "0.328%: Reklam Bal Engelleyicisi (anti_banner@kaspersky.com)\n",
      "0.325%: Easy Youtube Video Downloader Express ({b9acf540-acba-11e1-8ccb-001fd0e08bd4})\n",
      "0.324%: Virtuellt tangentbord (virtual_keyboard@kaspersky.com)\n",
      "0.324%: Sicherer Zahlungsverkehr (online_banking@kaspersky.com)\n",
      "0.294%: ADB Helper (adbhelper@mozilla.org)\n",
      "0.255%: Valence (fxdevtools-adapters@mozilla.org)\n",
      "0.248%: Allin1Convert (_8hMembers_@download.allin1convert.com)\n",
      "0.242%: Flash and Video Download ({bee6eb20-01e0-ebd1-da83-080329fb9a3a})\n",
      "0.224%: GamingWonderland (_gtMembers_@free.gamingwonderland.com)\n",
      "0.197%: Free Games Zone (FGZ-SAE@iacsearchandmedia.com)\n",
      "0.194%: Ant Video Downloader (anttoolbar@ant.com)\n",
      "0.187%: Klawiatura wirtualna (virtual_keyboard_294FF26A1D5B455495946778FDE7CEDB@kaspersky.com)\n",
      "0.187%: Module de blocage des sites Internet dangereux (content_blocker_6418E0D362104DADA084DC312DFA8ABC@kaspersky.com)\n",
      "0.186%: Internet Speed Tracker (_9tMembers_@download.internetspeedtracker.com)\n",
      "0.182%: TelevisionFanatic (_64Members_@download.televisionfanatic.com)\n",
      "0.181%: ProductivityBoss (_e5Members_@www.productivityboss.com)\n",
      "0.178%: OnlineMapFinder (_9pMembers_@free.onlinemapfinder.com)\n",
      "0.175%: FilmFanatic (_paMembers_@www.filmfanatic.com)\n",
      "0.174%: YouTube mp3 (info@youtube-mp3.org)\n",
      "0.171%: ERail Plugin for Firefox (ERAIL.IN.FFPLUGIN@jetpack)\n",
      "0.169%: ZenMate Security, Privacy & Unblock VPN (firefox@zenmate.com)\n",
      "0.167%: YouTube Flash Player (jid1-HAV2inXAnQPIeA@jetpack)\n",
      "0.166%:  . (sovetnik@metabar.ru)\n",
      "0.152%: GetFormsOnline (_dbMembers_@free.getformsonline.com)\n",
      "0.145%: FirefixTab (deskCutv2@gmail.com)\n",
      "0.142%: Proteccin de Internet 360 (WebProtection@360safe.com)\n",
      "0.141%: YouTube Flash Video Player ({f3bd3dd2-2888-44c5-91a2-2caeb33fb898})\n",
      "0.140%: Video Downloader professional (ffext_basicvideoext@startpage24)\n",
      "0.138%: uBlock Origin (uBlock0@raymondhill.net)\n",
      "0.138%: Bing Search Engine (bingsearch.full@microsoft.com)\n",
      "0.134%: Sicherer Zahlungsverkehr (online_banking_69A4E213815F42BD863D889007201D82@kaspersky.com)\n",
      "0.131%: VideoScavenger (_1eMembers_@www.videoscavenger.com)\n",
      "0.131%: DownSpeedTest (_dqMembers_@www.downspeedtest.com)\n",
      "0.125%:   @Mail.Ru ({a38384b3-2d1d-4f36-bc22-0f7ae402bcd7})\n",
      "0.123%: ReadingFanatic (_6xMembers_@www.readingfanatic.com)\n",
      "0.118%: Google+ (plus.google.com@services.mozilla.org)\n",
      "0.115%: Youtube Downloader - 4K Download (paulsaintuzb@gmail.com)\n",
      "0.113%: Yahoo Mail (mg.mail.yahoo.com@services.mozilla.org)\n",
      "0.111%:   Mail.Ru (homepage@mail.ru)\n",
      "0.110%: EPUBReader ({5384767E-00D9-40E9-B72F-9CC39D655D6F})\n",
      "0.109%: @Mail.Ru (search@mail.ru)\n",
      "0.105%: musixlib (jid1-lpoiffmusixlib@jetpack)\n",
      "0.104%: Awesome screenshot: Capture and Annotate (jid0-GXjLLfbCoAx0LcltEdFrEkQdQPI@jetpack)\n",
      "0.101%: Youtube and more - Easy Video Downloader (vdpure@link64)\n",
      "0.100%: AdBlock for YouTube (jid1-q4sG8pYhq8KGHs@jetpack)\n",
      "0.097%: YouTube High Definition ({7b1bf0b6-a1b9-42b0-b75d-252036438bdc})\n",
      "0.095%: gomusix (ar1er-ewrgfdgomusix@jetpack)\n",
      "0.093%: Youtube Best Video Downloader 2 ({170503FA-3349-4F17-BC86-001888A5C8E2})\n",
      "0.091%: YahooToolsProtected (yahooprotected@gmail.com)\n"
     ]
    }
   ],
   "source": [
    "for addon, addon_count in Counter(addon_counts).most_common(100):\n",
    "    if not addon in ADDON_WHITELIST:\n",
    "        print \"{:.3f}%: {} ({})\".format(100.0 * addon_count / total_addons, addon_names[addon], addon)"
   ]
  }
 ],
 "metadata": {
  "kernelspec": {
   "display_name": "Python 2",
   "language": "python",
   "name": "python2"
  },
  "language_info": {
   "codemirror_mode": {
    "name": "ipython",
    "version": 2
   },
   "file_extension": ".py",
   "mimetype": "text/x-python",
   "name": "python",
   "nbconvert_exporter": "python",
   "pygments_lexer": "ipython2",
   "version": "2.7.10"
  }
 },
 "nbformat": 4,
 "nbformat_minor": 0
}
