{
 "cells": [
  {
   "cell_type": "markdown",
   "metadata": {},
   "source": [
    "### e10s-beta45-withaddons: Top hang stacks"
   ]
  },
  {
   "cell_type": "markdown",
   "metadata": {},
   "source": [
    "[Bug 1222972](https://bugzilla.mozilla.org/show_bug.cgi?id=1222972)\n",
    "\n",
    "This analysis compares e10s and non-e10s hang stacks and their frequencies."
   ]
  },
  {
   "cell_type": "code",
   "execution_count": 1,
   "metadata": {
    "collapsed": false
   },
   "outputs": [
    {
     "name": "stdout",
     "output_type": "stream",
     "text": [
      "Unable to parse whitelist (/home/hadoop/anaconda2/lib/python2.7/site-packages/moztelemetry/bucket-whitelist.json). Assuming all histograms are acceptable.\n",
      "Populating the interactive namespace from numpy and matplotlib\n"
     ]
    }
   ],
   "source": [
    "import ujson as json\n",
    "import matplotlib.pyplot as plt\n",
    "import pandas as pd\n",
    "import numpy as np\n",
    "import plotly.plotly as py\n",
    "import IPython\n",
    "import functools\n",
    "\n",
    "from __future__ import division\n",
    "from moztelemetry.spark import get_pings, get_one_ping_per_client, get_pings_properties\n",
    "from montecarlino import grouped_permutation_test\n",
    "\n",
    "%pylab inline\n",
    "IPython.core.pylabtools.figsize(16, 7)"
   ]
  },
  {
   "cell_type": "code",
   "execution_count": 2,
   "metadata": {
    "collapsed": false
   },
   "outputs": [
    {
     "data": {
      "text/plain": [
       "160"
      ]
     },
     "execution_count": 2,
     "metadata": {},
     "output_type": "execute_result"
    }
   ],
   "source": [
    "sc.defaultParallelism"
   ]
  },
  {
   "cell_type": "markdown",
   "metadata": {},
   "source": [
    "#### Get e10s and non-e10s partitions"
   ]
  },
  {
   "cell_type": "code",
   "execution_count": 3,
   "metadata": {
    "collapsed": false
   },
   "outputs": [],
   "source": [
    "dataset = sqlContext.read.load(\"s3://telemetry-parquet/e10s-experiment/e10s-beta45-withaddons@experiments.mozilla.org/generationDate=20160207\", \"parquet\")"
   ]
  },
  {
   "cell_type": "markdown",
   "metadata": {},
   "source": [
    "How many pings do we have in each branch?"
   ]
  },
  {
   "cell_type": "code",
   "execution_count": 4,
   "metadata": {
    "collapsed": false
   },
   "outputs": [
    {
     "data": {
      "text/plain": [
       "464344"
      ]
     },
     "execution_count": 4,
     "metadata": {},
     "output_type": "execute_result"
    }
   ],
   "source": [
    "dataset.filter(dataset[\"experimentBranch\"] == \"experiment\").count()"
   ]
  },
  {
   "cell_type": "code",
   "execution_count": 5,
   "metadata": {
    "collapsed": false
   },
   "outputs": [
    {
     "data": {
      "text/plain": [
       "495265"
      ]
     },
     "execution_count": 5,
     "metadata": {},
     "output_type": "execute_result"
    }
   ],
   "source": [
    "dataset.filter(dataset[\"experimentBranch\"] == \"control\").count()"
   ]
  },
  {
   "cell_type": "markdown",
   "metadata": {},
   "source": [
    "Sample by cliet ID"
   ]
  },
  {
   "cell_type": "code",
   "execution_count": 6,
   "metadata": {
    "collapsed": true
   },
   "outputs": [],
   "source": [
    "sampled = dataset.filter(dataset.sampleId <= 10)"
   ]
  },
  {
   "cell_type": "code",
   "execution_count": 7,
   "metadata": {
    "collapsed": false
   },
   "outputs": [
    {
     "data": {
      "text/plain": [
       "105548"
      ]
     },
     "execution_count": 7,
     "metadata": {},
     "output_type": "execute_result"
    }
   ],
   "source": [
    "sampled.count()"
   ]
  },
  {
   "cell_type": "markdown",
   "metadata": {},
   "source": [
    "Transform Dataframe to RDD of pings"
   ]
  },
  {
   "cell_type": "code",
   "execution_count": 8,
   "metadata": {
    "collapsed": true
   },
   "outputs": [],
   "source": [
    "def row_2_ping(row):\n",
    "    ping = {\"payload\": {\"threadHangStats\": json.loads(row.threadHangStats)},\n",
    "            \"e10s\": True if row.experimentBranch == \"experiment\" else False}\n",
    "    return ping"
   ]
  },
  {
   "cell_type": "code",
   "execution_count": 9,
   "metadata": {
    "collapsed": false
   },
   "outputs": [],
   "source": [
    "subset = sampled.rdd.map(row_2_ping)"
   ]
  },
  {
   "cell_type": "markdown",
   "metadata": {},
   "source": [
    "### Thread activity"
   ]
  },
  {
   "cell_type": "code",
   "execution_count": 10,
   "metadata": {
    "collapsed": true
   },
   "outputs": [],
   "source": [
    "def chi2_distance(xs, ys, eps = 1e-10, normalize = True):\n",
    "    histA = xs.sum(axis=0)\n",
    "    histB = ys.sum(axis=0)\n",
    "    \n",
    "    if normalize:\n",
    "        histA = histA/histA.sum()\n",
    "        histB = histB/histB.sum()\n",
    "    \n",
    "    d = 0.5 * np.sum([((a - b) ** 2) / (a + b + eps)\n",
    "        for (a, b) in zip(histA, histB)])\n",
    "\n",
    "    return d\n",
    "\n",
    "def ignore_below_(min_limit, histogram):\n",
    "    histogram = histogram.ix[129:].set_value(0, histogram.ix[0: 128].sum()).sort_index()\n",
    "    histogram = histogram.ix[min_limit:]\n",
    "    return histogram\n",
    "\n",
    "def ignore_below(histograms, min_limit=0):\n",
    "    return histograms.map(functools.partial(ignore_below_, min_limit))\n",
    "\n",
    "def normalize(histograms):\n",
    "    return histograms.map(lambda h: h/max(h.sum(), 1))\n",
    "\n",
    "def compare_histogram(histogram, e10s, none10s):\n",
    "    pvalue = grouped_permutation_test(chi2_distance, [e10s, none10s], num_samples=100)\n",
    "    \n",
    "    eTotal = e10s.sum()\n",
    "    nTotal = none10s.sum()\n",
    "        \n",
    "    eTotal = 100*eTotal/eTotal.sum()\n",
    "    nTotal = 100*nTotal/nTotal.sum()\n",
    "        \n",
    "    fig = plt.figure()\n",
    "    fig.subplots_adjust(hspace=0.3)\n",
    "        \n",
    "    ax = fig.add_subplot(1, 1, 1)\n",
    "    ax2 = ax.twinx()\n",
    "    width = 0.4\n",
    "    ylim = max(eTotal.max(), nTotal.max())\n",
    "        \n",
    "    eTotal.plot(kind=\"bar\", alpha=0.5, color=\"green\", label=\"e10s\", ax=ax, width=width, position=0, ylim=(0, ylim + 1))\n",
    "    nTotal.plot(kind=\"bar\", alpha=0.5, color=\"blue\", label=\"non e10s\", ax=ax2, width=width, position=1, grid=False, ylim=ax.get_ylim())\n",
    "        \n",
    "    ax.legend(ax.get_legend_handles_labels()[0] + ax2.get_legend_handles_labels()[0],\n",
    "              [\"e10s ({} samples\".format(len(e10s)), \"non e10s ({} samples)\".format(len(none10s))])\n",
    "\n",
    "    plt.title(histogram)\n",
    "    plt.xlabel(histogram)\n",
    "    plt.ylabel(\"Frequency %\")\n",
    "    plt.show()\n",
    "        \n",
    "    print \"The probability that the distributions for {} are differing by chance is {:.2f}.\".format(histogram, pvalue)\n",
    "\n",
    "def compare_histograms(histogram, e10s, none10s, min_limit):\n",
    "    e10s = ignore_below(e10s, min_limit)\n",
    "    none10s = ignore_below(none10s, min_limit)\n",
    "    compare_histogram(histogram + \" (normalized)\", normalize(e10s), normalize(none10s))\n",
    "    compare_histogram(histogram + \" (absolute)\", e10s, none10s)"
   ]
  },
  {
   "cell_type": "code",
   "execution_count": 11,
   "metadata": {
    "collapsed": false
   },
   "outputs": [],
   "source": [
    "# Manually massage the thread activity histogram into payload/histograms so that\n",
    "# get_pings_properties will treat is a histogram.\n",
    "def get_activity(ping):\n",
    "    for thread in ping[\"payload\"][\"threadHangStats\"]:\n",
    "        if thread[\"name\"] != \"Gecko\":\n",
    "            continue\n",
    "\n",
    "        values = {str(int(k) + 1): v for k, v in thread[\"activity\"][\"values\"].iteritems()}                                        \n",
    "        yield {\"e10s\": ping[\"e10s\"], \"payload\": {\"histograms\": {\"GECKO_THREAD_ACTIVITY_MS\": {\"values\": values}}}}\n",
    "\n",
    "def compare_thread_activity(pings, name, min_limit=0, normalize=True):\n",
    "    histograms = json.loads(\"\"\"\n",
    "    {\n",
    "      \"GECKO_THREAD_ACTIVITY_MS\": {\n",
    "        \"expires_in_version\": \"default\",\n",
    "        \"kind\": \"exponential\",\n",
    "        \"high\": \"2**24\",\n",
    "        \"n_buckets\": 26,\n",
    "        \"description\": \"\"\n",
    "      }\n",
    "    }\n",
    "    \"\"\")\n",
    "                \n",
    "    histogram = \"payload/histograms/GECKO_THREAD_ACTIVITY_MS\"\n",
    "    props = get_pings_properties(pings.flatMap(get_activity), [\"e10s\", histogram], additional_histograms=histograms)\n",
    "    frame = pd.DataFrame(props.collect())\n",
    "    \n",
    "    e10s = frame[frame[\"e10s\"] == True]\n",
    "    none10s = frame[frame[\"e10s\"] == False]\n",
    "    \n",
    "    compare_histograms(histogram, e10s[histogram].dropna(), none10s[histogram].dropna(), min_limit)"
   ]
  },
  {
   "cell_type": "markdown",
   "metadata": {},
   "source": [
    "#### Parent main thread activity with 64ms and below buckets merged into the 0 bucket"
   ]
  },
  {
   "cell_type": "code",
   "execution_count": 12,
   "metadata": {
    "collapsed": false
   },
   "outputs": [
    {
     "data": {
      "image/png": "[encoded data removed]",
      "text/plain": [
       "<matplotlib.figure.Figure at 0x7f08afaccc10>"
      ]
     },
     "metadata": {},
     "output_type": "display_data"
    },
    {
     "name": "stdout",
     "output_type": "stream",
     "text": [
      "The probability that the distributions for payload/histograms/GECKO_THREAD_ACTIVITY_MS (normalized) are differing by chance is 0.00.\n"
     ]
    },
    {
     "data": {
      "image/png": "[encoded data removed]",
      "text/plain": [
       "<matplotlib.figure.Figure at 0x7f0897c93650>"
      ]
     },
     "metadata": {},
     "output_type": "display_data"
    },
    {
     "name": "stdout",
     "output_type": "stream",
     "text": [
      "The probability that the distributions for payload/histograms/GECKO_THREAD_ACTIVITY_MS (absolute) are differing by chance is 0.00.\n"
     ]
    }
   ],
   "source": [
    "compare_thread_activity(subset, \"Gecko\", 0)"
   ]
  },
  {
   "cell_type": "markdown",
   "metadata": {},
   "source": [
    "#### Parent main thread activity with buckets below 128-255ms ignored completely"
   ]
  },
  {
   "cell_type": "code",
   "execution_count": 13,
   "metadata": {
    "collapsed": false
   },
   "outputs": [
    {
     "data": {
      "image/png": "[encoded data removed]",
      "text/plain": [
       "<matplotlib.figure.Figure at 0x7f0892e3c510>"
      ]
     },
     "metadata": {},
     "output_type": "display_data"
    },
    {
     "name": "stdout",
     "output_type": "stream",
     "text": [
      "The probability that the distributions for payload/histograms/GECKO_THREAD_ACTIVITY_MS (normalized) are differing by chance is 0.00.\n"
     ]
    },
    {
     "data": {
      "image/png": "[encoded data removed]",
      "text/plain": [
       "<matplotlib.figure.Figure at 0x7f089c987c10>"
      ]
     },
     "metadata": {},
     "output_type": "display_data"
    },
    {
     "name": "stdout",
     "output_type": "stream",
     "text": [
      "The probability that the distributions for payload/histograms/GECKO_THREAD_ACTIVITY_MS (absolute) are differing by chance is 0.01.\n"
     ]
    }
   ],
   "source": [
    "compare_thread_activity(subset, \"Gecko\", 256)"
   ]
  },
  {
   "cell_type": "markdown",
   "metadata": {},
   "source": [
    "#### Get top stacks"
   ]
  },
  {
   "cell_type": "code",
   "execution_count": 14,
   "metadata": {
    "collapsed": false
   },
   "outputs": [],
   "source": [
    "def get_stacks(subset):\n",
    "    def yield_ping_stacks(ping):\n",
    "        for thread in ping[\"payload\"][\"threadHangStats\"]:\n",
    "            if thread[\"name\"] != \"Gecko\":\n",
    "                continue\n",
    "            for hang in thread[\"hangs\"]:\n",
    "                if not hang[\"stack\"]:\n",
    "                    continue\n",
    "                values = hang[\"histogram\"][\"values\"]\n",
    "                histogram = pd.Series(values.values(), index=map(int, values.keys())).sort_index()\n",
    "                over_min_ms_count = histogram[histogram.index >= 255].sum()\n",
    "                yield (tuple(hang[\"stack\"]), over_min_ms_count)\n",
    "    return subset.flatMap(yield_ping_stacks).reduceByKey(lambda a, b: a + b).collectAsMap()"
   ]
  },
  {
   "cell_type": "code",
   "execution_count": 15,
   "metadata": {
    "collapsed": false
   },
   "outputs": [],
   "source": [
    "we10s_stacks = get_stacks(subset.filter(lambda p: p[\"e10s\"]))"
   ]
  },
  {
   "cell_type": "code",
   "execution_count": 16,
   "metadata": {
    "collapsed": false
   },
   "outputs": [],
   "source": [
    "ne10s_stacks = get_stacks(subset.filter(lambda p: not p[\"e10s\"]))"
   ]
  },
  {
   "cell_type": "code",
   "execution_count": 17,
   "metadata": {
    "collapsed": true
   },
   "outputs": [],
   "source": [
    "def group_by_top_frame(stacks):\n",
    "    total_hits = 0\n",
    "    top_frames = {}\n",
    "    for stack, hits in stacks.iteritems():\n",
    "        stack_top_frame = stack[-1]\n",
    "        if not stack_top_frame in top_frames:\n",
    "            top_frames[stack_top_frame] = { \"frame\": stack_top_frame, \"stacks\": [], \"hits\": 0 }\n",
    "\n",
    "        top_frame = top_frames[stack_top_frame]\n",
    "\n",
    "        # Keep stacks sorted by hits.\n",
    "        top_frame[\"stacks\"].append((stack, hits))\n",
    "        top_frame[\"stacks\"].sort(key=lambda d: d[1], reverse=True)\n",
    "\n",
    "        top_frame[\"hits\"] += hits\n",
    "        total_hits += hits\n",
    "\n",
    "    return top_frames, total_hits\n",
    "\n",
    "def get_stack_hits(stacks, stack):\n",
    "    for s, h in stacks:\n",
    "        if s == stack:\n",
    "            return h\n",
    "    return 0"
   ]
  },
  {
   "cell_type": "code",
   "execution_count": 18,
   "metadata": {
    "collapsed": false
   },
   "outputs": [],
   "source": [
    "we10s_groups, we10s_total_hits = group_by_top_frame(we10s_stacks)"
   ]
  },
  {
   "cell_type": "code",
   "execution_count": 19,
   "metadata": {
    "collapsed": false
   },
   "outputs": [],
   "source": [
    "ne10s_groups, ne10s_total_hits = group_by_top_frame(ne10s_stacks)"
   ]
  },
  {
   "cell_type": "markdown",
   "metadata": {},
   "source": [
    "### Top stacks grouped by top frame"
   ]
  },
  {
   "cell_type": "code",
   "execution_count": 20,
   "metadata": {
    "collapsed": false
   },
   "outputs": [],
   "source": [
    "we10s_sorted_groups = sorted(we10s_groups.values(), key=lambda d: d[\"hits\"], reverse=True)\n",
    "\n",
    "def print_e10s_groups(group_count, stack_count):\n",
    "    for we10s_group in we10s_sorted_groups[0:group_count]:\n",
    "        ne10s_group = ne10s_groups.get(we10s_group[\"frame\"], {})\n",
    "        ne10s_stacks = ne10s_group.get(\"stacks\", [])\n",
    "        ne10s_hits = ne10s_group.get(\"hits\", 0)\n",
    "\n",
    "        print \"{:.2f}% ({:.2f}%): {} ({})\".format(\n",
    "            100.0 * we10s_group[\"hits\"] / we10s_total_hits,\n",
    "            100.0 * ne10s_hits / ne10s_total_hits,\n",
    "            we10s_group[\"frame\"],\n",
    "            we10s_group[\"hits\"])\n",
    "        for we10s_stack, we10s_stack_hits in we10s_group[\"stacks\"][0:stack_count]:\n",
    "            ne10s_stack_hits = get_stack_hits(ne10s_stacks, we10s_stack)\n",
    "            print \"  - {:.4f}% ({:.4f}%):\".format(\n",
    "                100.0 * we10s_stack_hits / we10s_total_hits,\n",
    "                100.0 * ne10s_stack_hits / ne10s_total_hits)\n",
    "            print \"    {}\\n\".format(\"\\n    \".join(reversed(we10s_stack)))"
   ]
  },
  {
   "cell_type": "markdown",
   "metadata": {},
   "source": [
    "#### Parent process top frames"
   ]
  },
  {
   "cell_type": "markdown",
   "metadata": {},
   "source": [
    "The results are in the form: `e10s% (non-e10s%): top frame (total e10s hits)`"
   ]
  },
  {
   "cell_type": "code",
   "execution_count": 21,
   "metadata": {
    "collapsed": false,
    "scrolled": false
   },
   "outputs": [
    {
     "name": "stdout",
     "output_type": "stream",
     "text": [
      "17.22% (0.00%): IPDL::PJavaScript::SendGet (644956)\n",
      "11.95% (4.34%): Startup::XRE_Main (447614)\n",
      "8.26% (1.11%): nsFilePicker::ShowFilePicker (309325)\n",
      "4.08% (0.00%): IPDL::PJavaScript::SendCallOrConstruct (152917)\n",
      "3.55% (13.68%): js::GCRuntime::collect (133009)\n",
      "2.96% (0.77%): (chrome script) (111006)\n",
      "2.22% (0.00%): IPDL::PJavaScript::SendGetPropertyDescriptor (83027)\n",
      "2.19% (0.56%): self-hosted:649 (82182)\n",
      "2.15% (0.74%): DisplayList::Draw (80485)\n",
      "1.92% (0.00%): IPDL::PPrinting::RecvShowPrintDialog (71975)\n",
      "1.90% (0.00%): CPOWProxyHandler::get (71205)\n",
      "1.49% (5.05%): PresShell::DoReflow (55880)\n",
      "1.19% (0.50%): app/modules/WindowsJumpLists.jsm:316 (44726)\n",
      "1.15% (0.16%): app/modules/WindowsJumpLists.jsm:270 (43090)\n",
      "0.98% (0.40%): gre/modules/TelemetryController.jsm:282 (36748)\n",
      "0.92% (3.60%): IPDL::PLayerTransaction::SendUpdate (34374)\n",
      "0.91% (0.08%): xpc::AddonWrapper<class js::CrossCompartmentWrapper>::get (34226)\n",
      "0.89% (0.22%): nsInputStreamPump::OnStateStop (33406)\n",
      "0.86% (0.13%): nsXREDirProvider::DoShutdown (32256)\n",
      "0.82% (0.03%): gre/components/multiprocessShims.js:138 (30698)\n",
      "0.82% (0.32%): Timer::Fire (30547)\n",
      "0.76% (0.00%): IPDL::PJavaScript::SendHas (28346)\n",
      "0.73% (0.17%): browser/content/browser.xul:1 (27449)\n",
      "0.64% (0.16%): mozilla::scache::StartupCache::GetBuffer (23816)\n",
      "0.63% (0.18%): mozilla::ipc::GeckoChildProcessHost::WaitUntilConnected (23726)\n"
     ]
    }
   ],
   "source": [
    "print_e10s_groups(25, 0)"
   ]
  },
  {
   "cell_type": "markdown",
   "metadata": {},
   "source": [
    "#### Parent process top stacks for top frames"
   ]
  },
  {
   "cell_type": "code",
   "execution_count": 22,
   "metadata": {
    "collapsed": false
   },
   "outputs": [
    {
     "name": "stdout",
     "output_type": "stream",
     "text": [
      "17.22% (0.00%): IPDL::PJavaScript::SendGet (644956)\n",
      "  - 2.4084% (0.0000%):\n",
      "    IPDL::PJavaScript::SendGet\n",
      "    CPOWProxyHandler::get\n",
      "    xpc::AddonWrapper<class js::CrossCompartmentWrapper>::get\n",
      "    saff/content/annotationEngine.js:152\n",
      "    Timer::Fire\n",
      "    Startup::XRE_Main\n",
      "\n",
      "  - 1.5931% (0.0000%):\n",
      "    IPDL::PJavaScript::SendGet\n",
      "    CPOWProxyHandler::get\n",
      "    xpc::AddonWrapper<class js::CrossCompartmentWrapper>::get\n",
      "    idmhelper5.js:99\n",
      "    idmhelper8.js:45\n",
      "    IPDL::PContent::RecvRpcMessage\n",
      "    Startup::XRE_Main\n",
      "\n",
      "  - 1.4119% (0.0000%):\n",
      "    IPDL::PJavaScript::SendGet\n",
      "    CPOWProxyHandler::get\n",
      "    xpc::AddonWrapper<class js::CrossCompartmentWrapper>::get\n",
      "    Timer::Fire\n",
      "    Startup::XRE_Main\n",
      "\n",
      "11.95% (4.34%): Startup::XRE_Main (447614)\n",
      "  - 11.9541% (4.3365%):\n",
      "    Startup::XRE_Main\n",
      "\n",
      "8.26% (1.11%): nsFilePicker::ShowFilePicker (309325)\n",
      "  - 7.4920% (1.0427%):\n",
      "    nsFilePicker::ShowFilePicker\n",
      "    Startup::XRE_Main\n",
      "\n",
      "  - 0.6995% (0.0413%):\n",
      "    nsFilePicker::ShowFilePicker\n",
      "    gre/components/nsHelperAppDlg.js:311\n",
      "    gre/modules/DownloadLastDir.jsm:162\n",
      "    gre/modules/ContentPrefUtils.jsm:36\n",
      "    gre/modules/ContentPrefService2.jsm:146\n",
      "    gre/modules/ContentPrefService2.jsm:738\n",
      "    Startup::XRE_Main\n",
      "\n",
      "  - 0.0209% (0.0000%):\n",
      "    nsFilePicker::ShowFilePicker\n",
      "    nsViewManager::DispatchEvent\n",
      "    Startup::XRE_Main\n",
      "\n",
      "4.08% (0.00%): IPDL::PJavaScript::SendCallOrConstruct (152917)\n",
      "  - 0.8857% (0.0000%):\n",
      "    IPDL::PJavaScript::SendCallOrConstruct\n",
      "    CPOWProxyHandler::call\n",
      "    saff/content/annotationEngine.js:152\n",
      "    Timer::Fire\n",
      "    Startup::XRE_Main\n",
      "\n",
      "  - 0.2861% (0.0000%):\n",
      "    IPDL::PJavaScript::SendCallOrConstruct\n",
      "    CPOWProxyHandler::call\n",
      "    saff/content/annotationEngine.js:148\n",
      "    Timer::Fire\n",
      "    Startup::XRE_Main\n",
      "\n",
      "  - 0.2378% (0.0000%):\n",
      "    IPDL::PJavaScript::SendCallOrConstruct\n",
      "    CPOWProxyHandler::call\n",
      "    CPOWDOMQI\n",
      "    idmhelper5.js:91\n",
      "    Startup::XRE_Main\n",
      "\n",
      "3.55% (13.68%): js::GCRuntime::collect (133009)\n",
      "  - 1.5551% (6.5728%):\n",
      "    js::GCRuntime::collect\n",
      "    nsJSContext::GarbageCollectNow\n",
      "    Timer::Fire\n",
      "    Startup::XRE_Main\n",
      "\n",
      "  - 0.7705% (4.8404%):\n",
      "    js::GCRuntime::collect\n",
      "    nsRefreshDriver::Tick\n",
      "    Startup::XRE_Main\n",
      "\n",
      "  - 0.4436% (0.1781%):\n",
      "    js::GCRuntime::collect\n",
      "    nsXREDirProvider::DoShutdown\n",
      "    Startup::XRE_Main\n",
      "\n",
      "2.96% (0.77%): (chrome script) (111006)\n",
      "  - 1.1325% (0.2768%):\n",
      "    (chrome script)\n",
      "    Startup::XRE_Main\n",
      "\n",
      "  - 0.2323% (0.0610%):\n",
      "    (chrome script)\n",
      "    gre/modules/Promise-backend.js:792\n",
      "    gre/modules/Promise-backend.js:746\n",
      "    Startup::XRE_Main\n",
      "\n",
      "  - 0.1089% (0.0282%):\n",
      "    (chrome script)\n",
      "    self-hosted:749\n",
      "    self-hosted:649\n",
      "    gre/modules/Task.jsm:308\n",
      "    gre/modules/Promise-backend.js:792\n",
      "    gre/modules/Promise-backend.js:746\n",
      "    Startup::XRE_Main\n",
      "\n",
      "2.22% (0.00%): IPDL::PJavaScript::SendGetPropertyDescriptor (83027)\n",
      "  - 1.1862% (0.0000%):\n",
      "    IPDL::PJavaScript::SendGetPropertyDescriptor\n",
      "    CPOWProxyHandler::getPropertyDescriptor\n",
      "    CPOWDOMQI\n",
      "    idmhelper5.js:91\n",
      "    Startup::XRE_Main\n",
      "\n",
      "  - 0.1476% (0.0000%):\n",
      "    IPDL::PJavaScript::SendGetPropertyDescriptor\n",
      "    CPOWProxyHandler::getPropertyDescriptor\n",
      "    CPOWDOMQI\n",
      "    idmhelper5.js:130\n",
      "    Startup::XRE_Main\n",
      "\n",
      "  - 0.1151% (0.0000%):\n",
      "    IPDL::PJavaScript::SendGetPropertyDescriptor\n",
      "    CPOWProxyHandler::getPropertyDescriptor\n",
      "    CPOWDOMQI\n",
      "    mozilla_cc2@internetdownloadmanager.com/components/idmhelper5.js:91\n",
      "    Startup::XRE_Main\n",
      "\n",
      "2.19% (0.56%): self-hosted:649 (82182)\n",
      "  - 1.6748% (0.4204%):\n",
      "    self-hosted:649\n",
      "    gre/modules/Task.jsm:308\n",
      "    gre/modules/Promise-backend.js:792\n",
      "    gre/modules/Promise-backend.js:746\n",
      "    Startup::XRE_Main\n",
      "\n",
      "  - 0.1311% (0.0360%):\n",
      "    self-hosted:649\n",
      "    gre/modules/Task.jsm:226\n",
      "    gre/components/nsBlocklistService.js:621\n",
      "    EventDispatcher::Dispatch\n",
      "    nsXMLHttpRequest::OnStopRequest\n",
      "    nsHttpChannel::OnStopRequest\n",
      "    nsInputStreamPump::OnStateStop\n",
      "    nsInputStreamPump::OnInputStreamReady\n",
      "    Startup::XRE_Main\n",
      "\n",
      "  - 0.0852% (0.0143%):\n",
      "    self-hosted:649\n",
      "    gre/modules/Task.jsm:308\n",
      "    gre/modules/Promise-backend.js:792\n",
      "    gre/modules/Promise-backend.js:746\n",
      "    Events::ProcessGeckoEvents\n",
      "    Startup::XRE_Main\n",
      "\n",
      "2.15% (0.74%): DisplayList::Draw (80485)\n",
      "  - 1.6612% (0.5187%):\n",
      "    DisplayList::Draw\n",
      "    FrameLayerBuilder::DrawPaintedLayer\n",
      "    ClientPaintedLayer::PaintThebes\n",
      "    ClientLayerManager::EndTransactionInternal\n",
      "    nsDisplayList::PaintRoot\n",
      "    nsLayoutUtils::PaintFrame\n",
      "    PresShell::Paint\n",
      "    nsRefreshDriver::Tick\n",
      "    Startup::XRE_Main\n",
      "\n",
      "  - 0.2606% (0.0446%):\n",
      "    DisplayList::Draw\n",
      "    FrameLayerBuilder::DrawPaintedLayer\n",
      "    ClientPaintedLayer::PaintThebes\n",
      "    ClientLayerManager::EndTransactionInternal\n",
      "    nsDisplayList::PaintRoot\n",
      "    nsLayoutUtils::PaintFrame\n",
      "    PresShell::Paint\n",
      "    nsRefreshDriver::Tick\n",
      "    IPDL::PCompositor::RecvDidComposite\n",
      "    Startup::XRE_Main\n",
      "\n",
      "  - 0.0713% (0.0237%):\n",
      "    DisplayList::Draw\n",
      "    FrameLayerBuilder::DrawPaintedLayer\n",
      "    ClientPaintedLayer::PaintThebes\n",
      "    ClientLayerManager::EndTransactionInternal\n",
      "    nsDisplayList::PaintRoot\n",
      "    nsLayoutUtils::PaintFrame\n",
      "    PresShell::Paint\n",
      "    Startup::XRE_Main\n",
      "\n",
      "1.92% (0.00%): IPDL::PPrinting::RecvShowPrintDialog (71975)\n",
      "  - 1.8983% (0.0000%):\n",
      "    IPDL::PPrinting::RecvShowPrintDialog\n",
      "    Startup::XRE_Main\n",
      "\n",
      "  - 0.0213% (0.0000%):\n",
      "    IPDL::PPrinting::RecvShowPrintDialog\n",
      "    Events::ProcessGeckoEvents\n",
      "    Startup::XRE_Main\n",
      "\n",
      "  - 0.0010% (0.0000%):\n",
      "    IPDL::PPrinting::RecvShowPrintDialog\n",
      "    services-common/async.js:156\n",
      "    gre/modules/services-sync/service.js:978\n",
      "    services-sync/util.js:146\n",
      "    services-sync/util.js:98\n",
      "    services-sync/util.js:76\n",
      "    gre/modules/services-sync/service.js:1279\n",
      "    services-sync/util.js:76\n",
      "    gre/modules/services-sync/service.js:1271\n",
      "    Startup::XRE_Main\n",
      "\n",
      "1.90% (0.00%): CPOWProxyHandler::get (71205)\n",
      "  - 0.6648% (0.0000%):\n",
      "    CPOWProxyHandler::get\n",
      "    xpc::AddonWrapper<class js::CrossCompartmentWrapper>::get\n",
      "    (chrome script)\n",
      "    Timer::Fire\n",
      "    Startup::XRE_Main\n",
      "\n",
      "  - 0.3673% (0.0000%):\n",
      "    CPOWProxyHandler::get\n",
      "    xpc::AddonWrapper<class js::CrossCompartmentWrapper>::get\n",
      "    saff/content/annotationEngine.js:152\n",
      "    Timer::Fire\n",
      "    Startup::XRE_Main\n",
      "\n",
      "  - 0.1471% (0.0000%):\n",
      "    CPOWProxyHandler::get\n",
      "    xpc::AddonWrapper<class js::CrossCompartmentWrapper>::get\n",
      "    Timer::Fire\n",
      "    Startup::XRE_Main\n",
      "\n",
      "1.49% (5.05%): PresShell::DoReflow (55880)\n",
      "  - 0.5562% (1.2178%):\n",
      "    PresShell::DoReflow\n",
      "    PresShell::Flush\n",
      "    nsRefreshDriver::Tick\n",
      "    Startup::XRE_Main\n",
      "\n",
      "  - 0.2795% (0.0995%):\n",
      "    PresShell::DoReflow\n",
      "    PresShell::Flush\n",
      "    browser/content/newtab/newTab.js:714\n",
      "    browser/content/newtab/newTab.js:419\n",
      "    Timer::Fire\n",
      "    Startup::XRE_Main\n",
      "\n",
      "  - 0.1229% (0.0000%):\n",
      "    PresShell::DoReflow\n",
      "    PresShell::Flush\n",
      "    browser/content/browser.xul:1\n",
      "    EventDispatcher::Dispatch\n",
      "    browser/content/tabbrowser.xml:4022\n",
      "    IPDL::PBrowser::RecvRpcMessage\n",
      "    Startup::XRE_Main\n",
      "\n",
      "1.19% (0.50%): app/modules/WindowsJumpLists.jsm:316 (44726)\n",
      "  - 1.1785% (0.4913%):\n",
      "    app/modules/WindowsJumpLists.jsm:316\n",
      "    app/modules/WindowsJumpLists.jsm:446\n",
      "    Startup::XRE_Main\n",
      "\n",
      "  - 0.0026% (0.0005%):\n",
      "    app/modules/WindowsJumpLists.jsm:316\n",
      "    app/modules/WindowsJumpLists.jsm:432\n",
      "    Startup::XRE_Main\n",
      "\n",
      "  - 0.0026% (0.0014%):\n",
      "    app/modules/WindowsJumpLists.jsm:316\n",
      "    app/modules/WindowsJumpLists.jsm:446\n",
      "    nsFilePicker::ShowFilePicker\n",
      "    Startup::XRE_Main\n",
      "\n",
      "1.15% (0.16%): app/modules/WindowsJumpLists.jsm:270 (43090)\n",
      "  - 1.1422% (0.1606%):\n",
      "    app/modules/WindowsJumpLists.jsm:270\n",
      "    app/modules/WindowsJumpLists.jsm:316\n",
      "    app/modules/WindowsJumpLists.jsm:446\n",
      "    Startup::XRE_Main\n",
      "\n",
      "  - 0.0025% (0.0002%):\n",
      "    app/modules/WindowsJumpLists.jsm:270\n",
      "    app/modules/WindowsJumpLists.jsm:316\n",
      "    app/modules/WindowsJumpLists.jsm:446\n",
      "    nsFilePicker::ShowFilePicker\n",
      "    Startup::XRE_Main\n",
      "\n",
      "  - 0.0009% (0.0000%):\n",
      "    app/modules/WindowsJumpLists.jsm:270\n",
      "    app/modules/WindowsJumpLists.jsm:316\n",
      "    app/modules/WindowsJumpLists.jsm:446\n",
      "    nsXULWindow::ShowModal\n",
      "    _gcmembers_/content/mindspark/homepageSpecific.js:134\n",
      "    _gcmembers_/content/mindspark/core.js:300\n",
      "    _gcmembers_/content/search/protection.js:12\n",
      "    gre/components/nsSearchService.js:3753\n",
      "    gre/modules/Promise-backend.js:792\n",
      "    gre/modules/Promise-backend.js:746\n",
      "    Startup::XRE_Main\n",
      "\n",
      "0.98% (0.40%): gre/modules/TelemetryController.jsm:282 (36748)\n",
      "  - 0.7484% (0.3146%):\n",
      "    gre/modules/TelemetryController.jsm:282\n",
      "    gre/modules/TelemetrySession.jsm:334\n",
      "    gre/modules/Timer.jsm:29\n",
      "    Timer::Fire\n",
      "    Startup::XRE_Main\n",
      "\n",
      "  - 0.0464% (0.0205%):\n",
      "    gre/modules/TelemetryController.jsm:282\n",
      "    gre/modules/TelemetrySession.jsm:336\n",
      "    gre/modules/Timer.jsm:29\n",
      "    Timer::Fire\n",
      "    Startup::XRE_Main\n",
      "\n",
      "  - 0.0435% (0.0172%):\n",
      "    gre/modules/TelemetryController.jsm:282\n",
      "    gre/modules/TelemetrySession.jsm:384\n",
      "    Startup::XRE_Main\n",
      "\n",
      "0.92% (3.60%): IPDL::PLayerTransaction::SendUpdate (34374)\n",
      "  - 0.7550% (2.8363%):\n",
      "    IPDL::PLayerTransaction::SendUpdate\n",
      "    ShadowLayerForwarder::EndTransaction\n",
      "    nsDisplayList::PaintRoot\n",
      "    nsLayoutUtils::PaintFrame\n",
      "    PresShell::Paint\n",
      "    nsRefreshDriver::Tick\n",
      "    Startup::XRE_Main\n",
      "\n",
      "  - 0.1204% (0.6308%):\n",
      "    IPDL::PLayerTransaction::SendUpdate\n",
      "    ShadowLayerForwarder::EndTransaction\n",
      "    nsDisplayList::PaintRoot\n",
      "    nsLayoutUtils::PaintFrame\n",
      "    PresShell::Paint\n",
      "    nsRefreshDriver::Tick\n",
      "    IPDL::PCompositor::RecvDidComposite\n",
      "    Startup::XRE_Main\n",
      "\n",
      "  - 0.0286% (0.0164%):\n",
      "    IPDL::PLayerTransaction::SendUpdate\n",
      "    ShadowLayerForwarder::EndTransaction\n",
      "    nsDisplayList::PaintRoot\n",
      "    nsLayoutUtils::PaintFrame\n",
      "    PresShell::Paint\n",
      "    Startup::XRE_Main\n",
      "\n",
      "0.91% (0.08%): xpc::AddonWrapper<class js::CrossCompartmentWrapper>::get (34226)\n",
      "  - 0.1776% (0.0000%):\n",
      "    xpc::AddonWrapper<class js::CrossCompartmentWrapper>::get\n",
      "    saff/content/annotationEngine.js:152\n",
      "    Timer::Fire\n",
      "    Startup::XRE_Main\n",
      "\n",
      "  - 0.1113% (0.0000%):\n",
      "    xpc::AddonWrapper<class js::CrossCompartmentWrapper>::get\n",
      "    Timer::Fire\n",
      "    Startup::XRE_Main\n",
      "\n",
      "  - 0.1080% (0.0000%):\n",
      "    xpc::AddonWrapper<class js::CrossCompartmentWrapper>::get\n",
      "    idmhelper5.js:99\n",
      "    idmhelper8.js:45\n",
      "    IPDL::PContent::RecvRpcMessage\n",
      "    Startup::XRE_Main\n",
      "\n",
      "0.89% (0.22%): nsInputStreamPump::OnStateStop (33406)\n",
      "  - 0.8122% (0.2003%):\n",
      "    nsInputStreamPump::OnStateStop\n",
      "    nsInputStreamPump::OnInputStreamReady\n",
      "    Startup::XRE_Main\n",
      "\n",
      "  - 0.0257% (0.0059%):\n",
      "    nsInputStreamPump::OnStateStop\n",
      "    nsInputStreamPump::OnInputStreamReady\n",
      "    self-hosted:749\n",
      "    self-hosted:649\n",
      "    gre/modules/Task.jsm:308\n",
      "    gre/modules/Promise-backend.js:792\n",
      "    gre/modules/Promise-backend.js:746\n",
      "    Startup::XRE_Main\n",
      "\n",
      "  - 0.0244% (0.0000%):\n",
      "    nsInputStreamPump::OnStateStop\n",
      "    nsInputStreamPump::OnInputStreamReady\n",
      "    IPDL::PContent::RecvCreateWindow\n",
      "    Startup::XRE_Main\n",
      "\n",
      "0.86% (0.13%): nsXREDirProvider::DoShutdown (32256)\n",
      "  - 0.8613% (0.1309%):\n",
      "    nsXREDirProvider::DoShutdown\n",
      "    Startup::XRE_Main\n",
      "\n",
      "  - 0.0001% (0.0000%):\n",
      "    nsXREDirProvider::DoShutdown\n",
      "    nsViewManager::DispatchEvent\n",
      "    Startup::XRE_Main\n",
      "\n",
      "0.82% (0.03%): gre/components/multiprocessShims.js:138 (30698)\n",
      "  - 0.1600% (0.0000%):\n",
      "    gre/components/multiprocessShims.js:138\n",
      "    xpc::AddonWrapper<class js::CrossCompartmentWrapper>::get\n",
      "    saff/content/annotationEngine.js:152\n",
      "    Timer::Fire\n",
      "    Startup::XRE_Main\n",
      "\n",
      "  - 0.1052% (0.0000%):\n",
      "    gre/components/multiprocessShims.js:138\n",
      "    xpc::AddonWrapper<class js::CrossCompartmentWrapper>::get\n",
      "    idmhelper5.js:99\n",
      "    idmhelper8.js:45\n",
      "    IPDL::PContent::RecvRpcMessage\n",
      "    Startup::XRE_Main\n",
      "\n",
      "  - 0.0988% (0.0000%):\n",
      "    gre/components/multiprocessShims.js:138\n",
      "    xpc::AddonWrapper<class js::CrossCompartmentWrapper>::get\n",
      "    Timer::Fire\n",
      "    Startup::XRE_Main\n",
      "\n",
      "0.82% (0.32%): Timer::Fire (30547)\n",
      "  - 0.6976% (0.2934%):\n",
      "    Timer::Fire\n",
      "    Startup::XRE_Main\n",
      "\n",
      "  - 0.0841% (0.0166%):\n",
      "    Timer::Fire\n",
      "    Events::ProcessGeckoEvents\n",
      "    Startup::XRE_Main\n",
      "\n",
      "  - 0.0073% (0.0017%):\n",
      "    Timer::Fire\n",
      "    nsXREDirProvider::DoShutdown\n",
      "    Startup::XRE_Main\n",
      "\n",
      "0.76% (0.00%): IPDL::PJavaScript::SendHas (28346)\n",
      "  - 0.6744% (0.0000%):\n",
      "    IPDL::PJavaScript::SendHas\n",
      "    CPOWProxyHandler::has\n",
      "    Timer::Fire\n",
      "    Startup::XRE_Main\n",
      "\n",
      "  - 0.0306% (0.0000%):\n",
      "    IPDL::PJavaScript::SendHas\n",
      "    CPOWProxyHandler::has\n",
      "    idmhelper8.js:45\n",
      "    IPDL::PContent::RecvRpcMessage\n",
      "    Startup::XRE_Main\n",
      "\n",
      "  - 0.0134% (0.0000%):\n",
      "    IPDL::PJavaScript::SendHas\n",
      "    CPOWProxyHandler::has\n",
      "    Startup::XRE_Main\n",
      "\n",
      "0.73% (0.17%): browser/content/browser.xul:1 (27449)\n",
      "  - 0.4877% (0.1222%):\n",
      "    browser/content/browser.xul:1\n",
      "    EventDispatcher::Dispatch\n",
      "    nsViewManager::DispatchEvent\n",
      "    Startup::XRE_Main\n",
      "\n",
      "  - 0.1201% (0.0265%):\n",
      "    browser/content/browser.xul:1\n",
      "    EventDispatcher::Dispatch\n",
      "    Startup::XRE_Main\n",
      "\n",
      "  - 0.0274% (0.0000%):\n",
      "    browser/content/browser.xul:1\n",
      "    EventDispatcher::Dispatch\n",
      "    browser/content/tabbrowser.xml:4022\n",
      "    IPDL::PBrowser::RecvRpcMessage\n",
      "    Startup::XRE_Main\n",
      "\n",
      "0.64% (0.16%): mozilla::scache::StartupCache::GetBuffer (23816)\n",
      "  - 0.0278% (0.0000%):\n",
      "    mozilla::scache::StartupCache::GetBuffer\n",
      "    mozilla::dom::ContentParent::CreateBrowserOrApp\n",
      "    nsFrameLoader::CreateRemoteBrowser\n",
      "    nsFrameLoader::ShowRemoteFrame\n",
      "    mozilla::AsyncFrameInit::Run\n",
      "    browser/content/tabbrowser.xml:1574\n",
      "    /modules/sessionstore/SessionStore.jsm:3161\n",
      "    /modules/sessionstore/SessionStore.jsm:2514\n",
      "    gre/modules/Promise-backend.js:792\n",
      "    gre/modules/Promise-backend.js:746\n",
      "    Startup::XRE_Main\n",
      "\n",
      "  - 0.0226% (0.0000%):\n",
      "    mozilla::scache::StartupCache::GetBuffer\n",
      "    (chrome script)\n",
      "    global/content/bindings/browser.xml:843\n",
      "    browser/content/tabbrowser.xml:1574\n",
      "    /modules/sessionstore/SessionStore.jsm:3161\n",
      "    /modules/sessionstore/SessionStore.jsm:2514\n",
      "    gre/modules/Promise-backend.js:792\n",
      "    gre/modules/Promise-backend.js:746\n",
      "    Startup::XRE_Main\n",
      "\n",
      "  - 0.0179% (0.0000%):\n",
      "    mozilla::scache::StartupCache::GetBuffer\n",
      "    global/content/bindings/remote-browser.xml:337\n",
      "    browser/content/tabbrowser.xml:1574\n",
      "    /modules/sessionstore/SessionStore.jsm:3161\n",
      "    /modules/sessionstore/SessionStore.jsm:2514\n",
      "    gre/modules/Promise-backend.js:792\n",
      "    gre/modules/Promise-backend.js:746\n",
      "    Startup::XRE_Main\n",
      "\n",
      "0.63% (0.18%): mozilla::ipc::GeckoChildProcessHost::WaitUntilConnected (23726)\n",
      "  - 0.6169% (0.0000%):\n",
      "    mozilla::ipc::GeckoChildProcessHost::WaitUntilConnected\n",
      "    GetNewPluginLibrary\n",
      "    nsNPAPIPlugin::CreatePlugin\n",
      "    nsPluginHost::GetPluginForContentProcess\n",
      "    mozilla::plugins::SetupBridge\n",
      "    IPDL::PContent::RecvLoadPlugin\n",
      "    Startup::XRE_Main\n",
      "\n",
      "  - 0.0069% (0.0016%):\n",
      "    mozilla::ipc::GeckoChildProcessHost::WaitUntilConnected\n",
      "    GetNewPluginLibrary\n",
      "    nsNPAPIPlugin::CreatePlugin\n",
      "    browser/content/sanitize.js:295\n",
      "    gre/modules/Promise-backend.js:335\n",
      "    self-hosted:666\n",
      "    gre/modules/Task.jsm:308\n",
      "    gre/modules/Promise-backend.js:792\n",
      "    gre/modules/Promise-backend.js:746\n",
      "    Startup::XRE_Main\n",
      "\n",
      "  - 0.0011% (0.0002%):\n",
      "    mozilla::ipc::GeckoChildProcessHost::WaitUntilConnected\n",
      "    GetNewPluginLibrary\n",
      "    nsNPAPIPlugin::CreatePlugin\n",
      "    (chrome script)\n",
      "    self-hosted:666\n",
      "    gre/modules/Task.jsm:308\n",
      "    gre/modules/Promise-backend.js:792\n",
      "    gre/modules/Promise-backend.js:746\n",
      "    Startup::XRE_Main\n",
      "\n"
     ]
    }
   ],
   "source": [
    "print_e10s_groups(25, 3)"
   ]
  },
  {
   "cell_type": "markdown",
   "metadata": {},
   "source": [
    "### Top stacks"
   ]
  },
  {
   "cell_type": "code",
   "execution_count": 23,
   "metadata": {
    "collapsed": true
   },
   "outputs": [],
   "source": [
    "def print_top_stacks(a_stacks, b_stacks, count):\n",
    "    from collections import Counter\n",
    "    a_total_count = sum(a_stacks.values())\n",
    "    b_total_count = sum(b_stacks.values())\n",
    "    for a_stack, a_stack_count in Counter(a_stacks).most_common(count):\n",
    "        b_stack_count = b_stacks.get(a_stack, 0)\n",
    "        print \"- {:.4f}% ({:.4f}%):\".format(\n",
    "            100.0 * a_stack_count / a_total_count,\n",
    "            100.0 * b_stack_count / b_total_count)\n",
    "        print \"  {}\\n\".format(\"\\n  \".join(reversed(a_stack)))"
   ]
  },
  {
   "cell_type": "markdown",
   "metadata": {},
   "source": [
    "#### e10s parent process stacks"
   ]
  },
  {
   "cell_type": "code",
   "execution_count": 24,
   "metadata": {
    "collapsed": false
   },
   "outputs": [
    {
     "name": "stdout",
     "output_type": "stream",
     "text": [
      "- 11.9541% (4.3365%):\n",
      "  Startup::XRE_Main\n",
      "\n",
      "- 7.4920% (1.0427%):\n",
      "  nsFilePicker::ShowFilePicker\n",
      "  Startup::XRE_Main\n",
      "\n",
      "- 2.4084% (0.0000%):\n",
      "  IPDL::PJavaScript::SendGet\n",
      "  CPOWProxyHandler::get\n",
      "  xpc::AddonWrapper<class js::CrossCompartmentWrapper>::get\n",
      "  saff/content/annotationEngine.js:152\n",
      "  Timer::Fire\n",
      "  Startup::XRE_Main\n",
      "\n",
      "- 1.8983% (0.0000%):\n",
      "  IPDL::PPrinting::RecvShowPrintDialog\n",
      "  Startup::XRE_Main\n",
      "\n",
      "- 1.6748% (0.4204%):\n",
      "  self-hosted:649\n",
      "  gre/modules/Task.jsm:308\n",
      "  gre/modules/Promise-backend.js:792\n",
      "  gre/modules/Promise-backend.js:746\n",
      "  Startup::XRE_Main\n",
      "\n",
      "- 1.6612% (0.5187%):\n",
      "  DisplayList::Draw\n",
      "  FrameLayerBuilder::DrawPaintedLayer\n",
      "  ClientPaintedLayer::PaintThebes\n",
      "  ClientLayerManager::EndTransactionInternal\n",
      "  nsDisplayList::PaintRoot\n",
      "  nsLayoutUtils::PaintFrame\n",
      "  PresShell::Paint\n",
      "  nsRefreshDriver::Tick\n",
      "  Startup::XRE_Main\n",
      "\n",
      "- 1.5931% (0.0000%):\n",
      "  IPDL::PJavaScript::SendGet\n",
      "  CPOWProxyHandler::get\n",
      "  xpc::AddonWrapper<class js::CrossCompartmentWrapper>::get\n",
      "  idmhelper5.js:99\n",
      "  idmhelper8.js:45\n",
      "  IPDL::PContent::RecvRpcMessage\n",
      "  Startup::XRE_Main\n",
      "\n",
      "- 1.5551% (6.5728%):\n",
      "  js::GCRuntime::collect\n",
      "  nsJSContext::GarbageCollectNow\n",
      "  Timer::Fire\n",
      "  Startup::XRE_Main\n",
      "\n",
      "- 1.4119% (0.0000%):\n",
      "  IPDL::PJavaScript::SendGet\n",
      "  CPOWProxyHandler::get\n",
      "  xpc::AddonWrapper<class js::CrossCompartmentWrapper>::get\n",
      "  Timer::Fire\n",
      "  Startup::XRE_Main\n",
      "\n",
      "- 1.1862% (0.0000%):\n",
      "  IPDL::PJavaScript::SendGetPropertyDescriptor\n",
      "  CPOWProxyHandler::getPropertyDescriptor\n",
      "  CPOWDOMQI\n",
      "  idmhelper5.js:91\n",
      "  Startup::XRE_Main\n",
      "\n",
      "- 1.1785% (0.4913%):\n",
      "  app/modules/WindowsJumpLists.jsm:316\n",
      "  app/modules/WindowsJumpLists.jsm:446\n",
      "  Startup::XRE_Main\n",
      "\n",
      "- 1.1422% (0.1606%):\n",
      "  app/modules/WindowsJumpLists.jsm:270\n",
      "  app/modules/WindowsJumpLists.jsm:316\n",
      "  app/modules/WindowsJumpLists.jsm:446\n",
      "  Startup::XRE_Main\n",
      "\n",
      "- 1.1325% (0.2768%):\n",
      "  (chrome script)\n",
      "  Startup::XRE_Main\n",
      "\n",
      "- 0.8857% (0.0000%):\n",
      "  IPDL::PJavaScript::SendCallOrConstruct\n",
      "  CPOWProxyHandler::call\n",
      "  saff/content/annotationEngine.js:152\n",
      "  Timer::Fire\n",
      "  Startup::XRE_Main\n",
      "\n",
      "- 0.8613% (0.1309%):\n",
      "  nsXREDirProvider::DoShutdown\n",
      "  Startup::XRE_Main\n",
      "\n",
      "- 0.8220% (0.0000%):\n",
      "  IPDL::PJavaScript::SendGet\n",
      "  CPOWProxyHandler::get\n",
      "  xpc::AddonWrapper<class js::CrossCompartmentWrapper>::get\n",
      "  saff/content/annotationEngine.js:148\n",
      "  Timer::Fire\n",
      "  Startup::XRE_Main\n",
      "\n",
      "- 0.8122% (0.2003%):\n",
      "  nsInputStreamPump::OnStateStop\n",
      "  nsInputStreamPump::OnInputStreamReady\n",
      "  Startup::XRE_Main\n",
      "\n",
      "- 0.7705% (4.8404%):\n",
      "  js::GCRuntime::collect\n",
      "  nsRefreshDriver::Tick\n",
      "  Startup::XRE_Main\n",
      "\n",
      "- 0.7550% (2.8363%):\n",
      "  IPDL::PLayerTransaction::SendUpdate\n",
      "  ShadowLayerForwarder::EndTransaction\n",
      "  nsDisplayList::PaintRoot\n",
      "  nsLayoutUtils::PaintFrame\n",
      "  PresShell::Paint\n",
      "  nsRefreshDriver::Tick\n",
      "  Startup::XRE_Main\n",
      "\n",
      "- 0.7484% (0.3146%):\n",
      "  gre/modules/TelemetryController.jsm:282\n",
      "  gre/modules/TelemetrySession.jsm:334\n",
      "  gre/modules/Timer.jsm:29\n",
      "  Timer::Fire\n",
      "  Startup::XRE_Main\n",
      "\n",
      "- 0.7463% (0.0000%):\n",
      "  IPDL::PJavaScript::SendGet\n",
      "  CPOWProxyHandler::get\n",
      "  xpc::AddonWrapper<class js::CrossCompartmentWrapper>::get\n",
      "  (chrome script)\n",
      "  Timer::Fire\n",
      "  Startup::XRE_Main\n",
      "\n",
      "- 0.7309% (0.0000%):\n",
      "  IPDL::PJavaScript::SendGet\n",
      "  CPOWProxyHandler::get\n",
      "  global/content/bindings/remote-browser.xml:164\n",
      "  gre/modules/RemoteAddonsParent.jsm:868\n",
      "  gre/components/multiprocessShims.js:165\n",
      "  xpc::AddonWrapper<class js::CrossCompartmentWrapper>::get\n",
      "  lvd-sae/js/modules/contentscript.js:22\n",
      "  gre/modules/Timer.jsm:29\n",
      "  Timer::Fire\n",
      "  Startup::XRE_Main\n",
      "\n",
      "- 0.6995% (0.0413%):\n",
      "  nsFilePicker::ShowFilePicker\n",
      "  gre/components/nsHelperAppDlg.js:311\n",
      "  gre/modules/DownloadLastDir.jsm:162\n",
      "  gre/modules/ContentPrefUtils.jsm:36\n",
      "  gre/modules/ContentPrefService2.jsm:146\n",
      "  gre/modules/ContentPrefService2.jsm:738\n",
      "  Startup::XRE_Main\n",
      "\n",
      "- 0.6976% (0.2934%):\n",
      "  Timer::Fire\n",
      "  Startup::XRE_Main\n",
      "\n",
      "- 0.6744% (0.0000%):\n",
      "  IPDL::PJavaScript::SendHas\n",
      "  CPOWProxyHandler::has\n",
      "  Timer::Fire\n",
      "  Startup::XRE_Main\n",
      "\n"
     ]
    }
   ],
   "source": [
    "print_top_stacks(we10s_stacks, ne10s_stacks, 25)"
   ]
  },
  {
   "cell_type": "markdown",
   "metadata": {},
   "source": [
    "#### non-e10s parent process stacks"
   ]
  },
  {
   "cell_type": "code",
   "execution_count": 25,
   "metadata": {
    "collapsed": false
   },
   "outputs": [
    {
     "name": "stdout",
     "output_type": "stream",
     "text": [
      "- 10.9645% (0.0204%):\n",
      "  (content script)\n",
      "  Timer::Fire\n",
      "  Startup::XRE_Main\n",
      "\n",
      "- 8.2198% (0.0592%):\n",
      "  (content script)\n",
      "  EventDispatcher::Dispatch\n",
      "  Startup::XRE_Main\n",
      "\n",
      "- 6.5728% (1.5551%):\n",
      "  js::GCRuntime::collect\n",
      "  nsJSContext::GarbageCollectNow\n",
      "  Timer::Fire\n",
      "  Startup::XRE_Main\n",
      "\n",
      "- 4.8404% (0.7705%):\n",
      "  js::GCRuntime::collect\n",
      "  nsRefreshDriver::Tick\n",
      "  Startup::XRE_Main\n",
      "\n",
      "- 4.3365% (11.9541%):\n",
      "  Startup::XRE_Main\n",
      "\n",
      "- 2.8363% (0.7550%):\n",
      "  IPDL::PLayerTransaction::SendUpdate\n",
      "  ShadowLayerForwarder::EndTransaction\n",
      "  nsDisplayList::PaintRoot\n",
      "  nsLayoutUtils::PaintFrame\n",
      "  PresShell::Paint\n",
      "  nsRefreshDriver::Tick\n",
      "  Startup::XRE_Main\n",
      "\n",
      "- 2.4174% (0.0021%):\n",
      "  (content script)\n",
      "  EventDispatcher::Dispatch\n",
      "  nsViewManager::DispatchEvent\n",
      "  Startup::XRE_Main\n",
      "\n",
      "- 2.2951% (0.0052%):\n",
      "  (content script)\n",
      "  EventDispatcher::Dispatch\n",
      "  nsXMLHttpRequest::OnStopRequest\n",
      "  nsHttpChannel::OnStopRequest\n",
      "  nsInputStreamPump::OnStateStop\n",
      "  nsInputStreamPump::OnInputStreamReady\n",
      "  Startup::XRE_Main\n",
      "\n",
      "- 2.0351% (0.0489%):\n",
      "  (content script)\n",
      "  nsJSUtils::EvaluateString\n",
      "  Startup::XRE_Main\n",
      "\n",
      "- 1.6465% (0.5408%):\n",
      "  nsCycleCollector::collectSlice\n",
      "  nsJSContext::RunCycleCollectorSlice\n",
      "  Timer::Fire\n",
      "  Startup::XRE_Main\n",
      "\n",
      "- 1.5739% (0.0563%):\n",
      "  (content script)\n",
      "  nsJSUtils::EvaluateString\n",
      "  nsHtml5TreeOpExecutor::RunFlushLoop\n",
      "  Startup::XRE_Main\n",
      "\n",
      "- 1.3244% (0.0000%):\n",
      "  IPDL::PPluginInstance::SendNPP_NewStream\n",
      "  PluginModuleParent::NPP_NewStream\n",
      "  nsNPAPIPluginStreamListener::OnStartBinding\n",
      "  nsPluginStreamListenerPeer::OnStartRequest\n",
      "  nsHttpChannel::OnStartRequest\n",
      "  nsInputStreamPump::OnStateStart\n",
      "  nsInputStreamPump::OnInputStreamReady\n",
      "  Startup::XRE_Main\n",
      "\n",
      "- 1.2178% (0.5562%):\n",
      "  PresShell::DoReflow\n",
      "  PresShell::Flush\n",
      "  nsRefreshDriver::Tick\n",
      "  Startup::XRE_Main\n",
      "\n",
      "- 1.0427% (7.4920%):\n",
      "  nsFilePicker::ShowFilePicker\n",
      "  Startup::XRE_Main\n",
      "\n",
      "- 1.0090% (0.0058%):\n",
      "  PresShell::DoReflow\n",
      "  PresShell::Flush\n",
      "  (content script)\n",
      "  Timer::Fire\n",
      "  Startup::XRE_Main\n",
      "\n",
      "- 0.9873% (0.2410%):\n",
      "  ClientPaintedLayer::PaintThebes\n",
      "  ClientLayerManager::EndTransactionInternal\n",
      "  nsDisplayList::PaintRoot\n",
      "  nsLayoutUtils::PaintFrame\n",
      "  PresShell::Paint\n",
      "  nsRefreshDriver::Tick\n",
      "  Startup::XRE_Main\n",
      "\n",
      "- 0.7799% (0.0142%):\n",
      "  (content script)\n",
      "  gre/modules/commonjs/sdk/timers.js:37\n",
      "  Timer::Fire\n",
      "  Startup::XRE_Main\n",
      "\n",
      "- 0.7657% (0.0006%):\n",
      "  (content script)\n",
      "  nsRefreshDriver::Tick\n",
      "  Startup::XRE_Main\n",
      "\n",
      "- 0.6308% (0.1204%):\n",
      "  IPDL::PLayerTransaction::SendUpdate\n",
      "  ShadowLayerForwarder::EndTransaction\n",
      "  nsDisplayList::PaintRoot\n",
      "  nsLayoutUtils::PaintFrame\n",
      "  PresShell::Paint\n",
      "  nsRefreshDriver::Tick\n",
      "  IPDL::PCompositor::RecvDidComposite\n",
      "  Startup::XRE_Main\n",
      "\n",
      "- 0.5993% (0.0000%):\n",
      "  IPDL::PPluginScriptableObject::SendHasProperty\n",
      "  NPObjWrapper_Resolve\n",
      "  (content script)\n",
      "  Timer::Fire\n",
      "  Startup::XRE_Main\n",
      "\n",
      "- 0.5626% (0.0000%):\n",
      "  IPDL::PPluginScriptableObject::SendHasMethod\n",
      "  NPObjWrapper_Resolve\n",
      "  (content script)\n",
      "  Timer::Fire\n",
      "  Startup::XRE_Main\n",
      "\n",
      "- 0.5569% (0.0000%):\n",
      "  IPDL::PPluginInstance::SendNPP_HandleEvent\n",
      "  nsNPAPIPluginInstance::HandleEvent\n",
      "  EventDispatcher::Dispatch\n",
      "  nsViewManager::DispatchEvent\n",
      "  Startup::XRE_Main\n",
      "\n",
      "- 0.5378% (0.0000%):\n",
      "  IPDL::PPluginInstance::SendNPP_Destroy\n",
      "  nsPluginHost::StopPluginInstance\n",
      "  nsObjectLoadingContent::StopPluginInstance\n",
      "  Startup::XRE_Main\n",
      "\n",
      "- 0.5322% (0.0370%):\n",
      "  nsDisplayText::Paint\n",
      "  DisplayList::Draw\n",
      "  FrameLayerBuilder::DrawPaintedLayer\n",
      "  ClientPaintedLayer::PaintThebes\n",
      "  ClientLayerManager::EndTransactionInternal\n",
      "  nsDisplayList::PaintRoot\n",
      "  nsLayoutUtils::PaintFrame\n",
      "  PresShell::Paint\n",
      "  nsRefreshDriver::Tick\n",
      "  Startup::XRE_Main\n",
      "\n",
      "- 0.5210% (0.3672%):\n",
      "  nsCycleCollector::forgetSkippable\n",
      "  Timer::Fire\n",
      "  Startup::XRE_Main\n",
      "\n"
     ]
    }
   ],
   "source": [
    "print_top_stacks(ne10s_stacks, we10s_stacks, 25)"
   ]
  }
 ],
 "metadata": {
  "kernelspec": {
   "display_name": "Python 2",
   "language": "python",
   "name": "python2"
  },
  "language_info": {
   "codemirror_mode": {
    "name": "ipython",
    "version": 2
   },
   "file_extension": ".py",
   "mimetype": "text/x-python",
   "name": "python",
   "nbconvert_exporter": "python",
   "pygments_lexer": "ipython2",
   "version": "2.7.10"
  }
 },
 "nbformat": 4,
 "nbformat_minor": 0
}
