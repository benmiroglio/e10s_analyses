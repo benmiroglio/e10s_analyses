{
 "cells": [
  {
   "cell_type": "markdown",
   "metadata": {},
   "source": [
    "### E10S Experiment Beta: Top hang stacks"
   ]
  },
  {
   "cell_type": "markdown",
   "metadata": {},
   "source": [
    "[Bug 1222972](https://bugzilla.mozilla.org/show_bug.cgi?id=1222972)\n",
    "\n",
    "This analysis compares e10s and non-e10s hang stacks and their frequencies."
   ]
  },
  {
   "cell_type": "code",
   "execution_count": 1,
   "metadata": {
    "collapsed": false
   },
   "outputs": [
    {
     "name": "stdout",
     "output_type": "stream",
     "text": [
      "Unable to parse whitelist (/home/hadoop/anaconda2/lib/python2.7/site-packages/moztelemetry/bucket-whitelist.json). Assuming all histograms are acceptable.\n",
      "Populating the interactive namespace from numpy and matplotlib\n"
     ]
    }
   ],
   "source": [
    "import ujson as json\n",
    "import matplotlib.pyplot as plt\n",
    "import pandas as pd\n",
    "import numpy as np\n",
    "import plotly.plotly as py\n",
    "import IPython\n",
    "import functools\n",
    "\n",
    "from __future__ import division\n",
    "from moztelemetry.spark import get_pings, get_one_ping_per_client, get_pings_properties\n",
    "from montecarlino import grouped_permutation_test\n",
    "\n",
    "%pylab inline\n",
    "IPython.core.pylabtools.figsize(16, 7)"
   ]
  },
  {
   "cell_type": "code",
   "execution_count": 2,
   "metadata": {
    "collapsed": false
   },
   "outputs": [
    {
     "data": {
      "text/plain": [
       "16"
      ]
     },
     "execution_count": 2,
     "metadata": {},
     "output_type": "execute_result"
    }
   ],
   "source": [
    "sc.defaultParallelism"
   ]
  },
  {
   "cell_type": "markdown",
   "metadata": {},
   "source": [
    "#### Get e10s and non-e10s partitions"
   ]
  },
  {
   "cell_type": "code",
   "execution_count": 3,
   "metadata": {
    "collapsed": false
   },
   "outputs": [],
   "source": [
    "dataset = sqlContext.read.load(\"s3://telemetry-parquet/e10s-experiment/e10s-enabled-beta-20151214@experiments.mozilla.org/generationDate=20160106\", \"parquet\")"
   ]
  },
  {
   "cell_type": "markdown",
   "metadata": {},
   "source": [
    "Only consider builds with [bug 1234618](https://bugzilla.mozilla.org/show_bug.cgi?id=1234618) BHR fix:"
   ]
  },
  {
   "cell_type": "code",
   "execution_count": 4,
   "metadata": {
    "collapsed": true
   },
   "outputs": [],
   "source": [
    "dataset = dataset.filter(dataset.buildId >= '20151228134903')"
   ]
  },
  {
   "cell_type": "markdown",
   "metadata": {},
   "source": [
    "How many pings do we have in each branch?"
   ]
  },
  {
   "cell_type": "code",
   "execution_count": 5,
   "metadata": {
    "collapsed": false
   },
   "outputs": [
    {
     "data": {
      "text/plain": [
       "60146"
      ]
     },
     "execution_count": 5,
     "metadata": {},
     "output_type": "execute_result"
    }
   ],
   "source": [
    "dataset.filter(dataset[\"experimentBranch\"] == \"experiment\").count()"
   ]
  },
  {
   "cell_type": "code",
   "execution_count": 6,
   "metadata": {
    "collapsed": false
   },
   "outputs": [
    {
     "data": {
      "text/plain": [
       "61770"
      ]
     },
     "execution_count": 6,
     "metadata": {},
     "output_type": "execute_result"
    }
   ],
   "source": [
    "dataset.filter(dataset[\"experimentBranch\"] == \"control\").count()"
   ]
  },
  {
   "cell_type": "markdown",
   "metadata": {},
   "source": [
    "Transform Dataframe to RDD of pings"
   ]
  },
  {
   "cell_type": "code",
   "execution_count": 7,
   "metadata": {
    "collapsed": true
   },
   "outputs": [],
   "source": [
    "def row_2_ping(row):\n",
    "    ping = {\"payload\": {\"threadHangStats\": json.loads(row.threadHangStats)},\n",
    "            \"e10s\": True if row.experimentBranch == \"experiment\" else False}\n",
    "    return ping"
   ]
  },
  {
   "cell_type": "code",
   "execution_count": 8,
   "metadata": {
    "collapsed": false
   },
   "outputs": [],
   "source": [
    "subset = dataset.rdd.map(row_2_ping)"
   ]
  },
  {
   "cell_type": "markdown",
   "metadata": {},
   "source": [
    "### Thread activity"
   ]
  },
  {
   "cell_type": "code",
   "execution_count": 9,
   "metadata": {
    "collapsed": true
   },
   "outputs": [],
   "source": [
    "def chi2_distance(xs, ys, eps = 1e-10, normalize = True):\n",
    "    histA = xs.sum(axis=0)\n",
    "    histB = ys.sum(axis=0)\n",
    "    \n",
    "    if normalize:\n",
    "        histA = histA/histA.sum()\n",
    "        histB = histB/histB.sum()\n",
    "    \n",
    "    d = 0.5 * np.sum([((a - b) ** 2) / (a + b + eps)\n",
    "        for (a, b) in zip(histA, histB)])\n",
    "\n",
    "    return d\n",
    "\n",
    "def ignore_below_(min_limit, histogram):\n",
    "    histogram = histogram.ix[65:].set_value(0, histogram.ix[0: 64].sum()).sort_index()\n",
    "    histogram = histogram.ix[min_limit:]\n",
    "    return histogram\n",
    "\n",
    "def ignore_below(histograms, min_limit=0):\n",
    "    return histograms.map(functools.partial(ignore_below_, min_limit))\n",
    "\n",
    "def normalize(histograms):\n",
    "    return histograms.map(lambda h: h/max(h.sum(), 1))\n",
    "\n",
    "def compare_histogram(histogram, e10s, none10s):\n",
    "    pvalue = grouped_permutation_test(chi2_distance, [e10s, none10s], num_samples=100)\n",
    "    \n",
    "    eTotal = e10s.sum()\n",
    "    nTotal = none10s.sum()\n",
    "        \n",
    "    eTotal = 100*eTotal/eTotal.sum()\n",
    "    nTotal = 100*nTotal/nTotal.sum()\n",
    "        \n",
    "    fig = plt.figure()\n",
    "    fig.subplots_adjust(hspace=0.3)\n",
    "        \n",
    "    ax = fig.add_subplot(1, 1, 1)\n",
    "    ax2 = ax.twinx()\n",
    "    width = 0.4\n",
    "    ylim = max(eTotal.max(), nTotal.max())\n",
    "        \n",
    "    eTotal.plot(kind=\"bar\", alpha=0.5, color=\"green\", label=\"e10s\", ax=ax, width=width, position=0, ylim=(0, ylim + 1))\n",
    "    nTotal.plot(kind=\"bar\", alpha=0.5, color=\"blue\", label=\"non e10s\", ax=ax2, width=width, position=1, grid=False, ylim=ax.get_ylim())\n",
    "        \n",
    "    ax.legend(ax.get_legend_handles_labels()[0] + ax2.get_legend_handles_labels()[0],\n",
    "              [\"e10s ({} samples\".format(len(e10s)), \"non e10s ({} samples)\".format(len(none10s))])\n",
    "\n",
    "    plt.title(histogram)\n",
    "    plt.xlabel(histogram)\n",
    "    plt.ylabel(\"Frequency %\")\n",
    "    plt.show()\n",
    "        \n",
    "    print \"The probability that the distributions for {} are differing by chance is {:.2f}.\".format(histogram, pvalue)\n",
    "\n",
    "def compare_histograms(histogram, e10s, none10s, min_limit):\n",
    "    e10s = ignore_below(e10s, min_limit)\n",
    "    none10s = ignore_below(none10s, min_limit)\n",
    "    compare_histogram(histogram + \" (normalized)\", normalize(e10s), normalize(none10s))\n",
    "    compare_histogram(histogram + \" (absolute)\", e10s, none10s)"
   ]
  },
  {
   "cell_type": "code",
   "execution_count": 10,
   "metadata": {
    "collapsed": false
   },
   "outputs": [],
   "source": [
    "# Manually massage the thread activity histogram into payload/histograms so that\n",
    "# get_pings_properties will treat is a histogram.\n",
    "def get_activity(ping):\n",
    "    for thread in ping[\"payload\"][\"threadHangStats\"]:\n",
    "        if thread[\"name\"] != \"Gecko\":\n",
    "            continue\n",
    "\n",
    "        values = {str(int(k) + 1): v for k, v in thread[\"activity\"][\"values\"].iteritems()}                                        \n",
    "        yield {\"e10s\": ping[\"e10s\"], \"payload\": {\"histograms\": {\"GECKO_THREAD_ACTIVITY_MS\": {\"values\": values}}}}\n",
    "\n",
    "def compare_thread_activity(pings, name, min_limit=0, normalize=True):\n",
    "    histograms = json.loads(\"\"\"\n",
    "    {\n",
    "      \"GECKO_THREAD_ACTIVITY_MS\": {\n",
    "        \"expires_in_version\": \"default\",\n",
    "        \"kind\": \"exponential\",\n",
    "        \"high\": \"2**24\",\n",
    "        \"n_buckets\": 26,\n",
    "        \"description\": \"\"\n",
    "      }\n",
    "    }\n",
    "    \"\"\")\n",
    "                \n",
    "    histogram = \"payload/histograms/GECKO_THREAD_ACTIVITY_MS\"\n",
    "    props = get_pings_properties(pings.flatMap(get_activity), [\"e10s\", histogram], additional_histograms=histograms)\n",
    "    frame = pd.DataFrame(props.collect())\n",
    "    \n",
    "    e10s = frame[frame[\"e10s\"] == True]\n",
    "    none10s = frame[frame[\"e10s\"] == False]\n",
    "    \n",
    "    compare_histograms(histogram, e10s[histogram].dropna(), none10s[histogram].dropna(), min_limit)"
   ]
  },
  {
   "cell_type": "markdown",
   "metadata": {},
   "source": [
    "#### Parent main thread activity with 64ms and below buckets merged into the 0 bucket"
   ]
  },
  {
   "cell_type": "code",
   "execution_count": 11,
   "metadata": {
    "collapsed": false
   },
   "outputs": [
    {
     "data": {
      "image/png": "[encoded data removed]",
      "text/plain": [
       "<matplotlib.figure.Figure at 0x7f21a278ca90>"
      ]
     },
     "metadata": {},
     "output_type": "display_data"
    },
    {
     "name": "stdout",
     "output_type": "stream",
     "text": [
      "The probability that the distributions for payload/histograms/GECKO_THREAD_ACTIVITY_MS (normalized) are differing by chance is 0.00.\n"
     ]
    },
    {
     "data": {
      "image/png": "[encoded data removed]",
      "text/plain": [
       "<matplotlib.figure.Figure at 0x7f21943c6090>"
      ]
     },
     "metadata": {},
     "output_type": "display_data"
    },
    {
     "name": "stdout",
     "output_type": "stream",
     "text": [
      "The probability that the distributions for payload/histograms/GECKO_THREAD_ACTIVITY_MS (absolute) are differing by chance is 0.00.\n"
     ]
    }
   ],
   "source": [
    "compare_thread_activity(subset, \"Gecko\", 0)"
   ]
  },
  {
   "cell_type": "markdown",
   "metadata": {},
   "source": [
    "#### Parent main thread activity with sub-128ms buckets ignored completely"
   ]
  },
  {
   "cell_type": "code",
   "execution_count": 12,
   "metadata": {
    "collapsed": false
   },
   "outputs": [
    {
     "data": {
      "image/png": "[encoded data removed]",
      "text/plain": [
       "<matplotlib.figure.Figure at 0x7f2191ca3c10>"
      ]
     },
     "metadata": {},
     "output_type": "display_data"
    },
    {
     "name": "stdout",
     "output_type": "stream",
     "text": [
      "The probability that the distributions for payload/histograms/GECKO_THREAD_ACTIVITY_MS (normalized) are differing by chance is 0.00.\n"
     ]
    },
    {
     "data": {
      "image/png": "[encoded data removed]",
      "text/plain": [
       "<matplotlib.figure.Figure at 0x7f21948a5e50>"
      ]
     },
     "metadata": {},
     "output_type": "display_data"
    },
    {
     "name": "stdout",
     "output_type": "stream",
     "text": [
      "The probability that the distributions for payload/histograms/GECKO_THREAD_ACTIVITY_MS (absolute) are differing by chance is 0.00.\n"
     ]
    }
   ],
   "source": [
    "compare_thread_activity(subset, \"Gecko\", 128)"
   ]
  },
  {
   "cell_type": "markdown",
   "metadata": {},
   "source": [
    "#### Get top stacks"
   ]
  },
  {
   "cell_type": "code",
   "execution_count": 13,
   "metadata": {
    "collapsed": false
   },
   "outputs": [],
   "source": [
    "def get_stacks(subset):\n",
    "    def yield_ping_stacks(ping):\n",
    "        for thread in ping[\"payload\"][\"threadHangStats\"]:\n",
    "            if thread[\"name\"] != \"Gecko\":\n",
    "                continue\n",
    "            for hang in thread[\"hangs\"]:\n",
    "                if not hang[\"stack\"]:\n",
    "                    continue\n",
    "                values = hang[\"histogram\"][\"values\"]\n",
    "                histogram = pd.Series(values.values(), index=map(int, values.keys())).sort_index()\n",
    "                min_ms = 100\n",
    "                over_min_ms_count = histogram[histogram.index > min_ms].sum()\n",
    "                yield (tuple(hang[\"stack\"]), over_min_ms_count)\n",
    "    return subset.flatMap(yield_ping_stacks).reduceByKey(lambda a, b: a + b).collectAsMap()"
   ]
  },
  {
   "cell_type": "code",
   "execution_count": 14,
   "metadata": {
    "collapsed": false
   },
   "outputs": [],
   "source": [
    "we10s_stacks = get_stacks(subset.filter(lambda p: p[\"e10s\"]))"
   ]
  },
  {
   "cell_type": "code",
   "execution_count": 15,
   "metadata": {
    "collapsed": false
   },
   "outputs": [],
   "source": [
    "ne10s_stacks = get_stacks(subset.filter(lambda p: not p[\"e10s\"]))"
   ]
  },
  {
   "cell_type": "code",
   "execution_count": 16,
   "metadata": {
    "collapsed": true
   },
   "outputs": [],
   "source": [
    "def group_by_top_frame(stacks):\n",
    "    total_hits = 0\n",
    "    top_frames = {}\n",
    "    for stack, hits in stacks.iteritems():\n",
    "        stack_top_frame = stack[-1]\n",
    "        if not stack_top_frame in top_frames:\n",
    "            top_frames[stack_top_frame] = { \"frame\": stack_top_frame, \"stacks\": [], \"hits\": 0 }\n",
    "\n",
    "        top_frame = top_frames[stack_top_frame]\n",
    "\n",
    "        # Keep stacks sorted by hits.\n",
    "        top_frame[\"stacks\"].append((stack, hits))\n",
    "        top_frame[\"stacks\"].sort(key=lambda d: d[1], reverse=True)\n",
    "\n",
    "        top_frame[\"hits\"] += hits\n",
    "        total_hits += hits\n",
    "\n",
    "    return top_frames, total_hits\n",
    "\n",
    "def get_stack_hits(stacks, stack):\n",
    "    for s, h in stacks:\n",
    "        if s == stack:\n",
    "            return h\n",
    "    return 0"
   ]
  },
  {
   "cell_type": "code",
   "execution_count": 17,
   "metadata": {
    "collapsed": false
   },
   "outputs": [],
   "source": [
    "we10s_groups, we10s_total_hits = group_by_top_frame(we10s_stacks)"
   ]
  },
  {
   "cell_type": "code",
   "execution_count": 18,
   "metadata": {
    "collapsed": false
   },
   "outputs": [],
   "source": [
    "ne10s_groups, ne10s_total_hits = group_by_top_frame(ne10s_stacks)"
   ]
  },
  {
   "cell_type": "markdown",
   "metadata": {},
   "source": [
    "### Top stacks grouped by top frame"
   ]
  },
  {
   "cell_type": "code",
   "execution_count": 19,
   "metadata": {
    "collapsed": false
   },
   "outputs": [],
   "source": [
    "we10s_sorted_groups = sorted(we10s_groups.values(), key=lambda d: d[\"hits\"], reverse=True)\n",
    "\n",
    "def print_e10s_groups(group_count, stack_count):\n",
    "    for we10s_group in we10s_sorted_groups[0:group_count]:\n",
    "        ne10s_group = ne10s_groups.get(we10s_group[\"frame\"], {})\n",
    "        ne10s_stacks = ne10s_group.get(\"stacks\", [])\n",
    "        ne10s_hits = ne10s_group.get(\"hits\", 0)\n",
    "\n",
    "        print \"{:.2f}% ({:.2f}%): {} ({})\".format(\n",
    "            100.0 * we10s_group[\"hits\"] / we10s_total_hits,\n",
    "            100.0 * ne10s_hits / ne10s_total_hits,\n",
    "            we10s_group[\"frame\"],\n",
    "            we10s_groups[\"hits\"])\n",
    "        for we10s_stack, we10s_stack_hits in we10s_group[\"stacks\"][0:stack_count]:\n",
    "            ne10s_stack_hits = get_stack_hits(ne10s_stacks, we10s_stack)\n",
    "            print \"  - {:.4f}% ({:.4f}%):\".format(\n",
    "                100.0 * we10s_stack_hits / we10s_total_hits,\n",
    "                100.0 * ne10s_stack_hits / ne10s_total_hits)\n",
    "            print \"    {}\\n\".format(\"\\n    \".join(reversed(we10s_stack)))"
   ]
  },
  {
   "cell_type": "markdown",
   "metadata": {},
   "source": [
    "#### Parent process top frames"
   ]
  },
  {
   "cell_type": "markdown",
   "metadata": {},
   "source": [
    "The results are in the form: `e10s% (non-e10s%): top frame (total e10s hits)`"
   ]
  },
  {
   "cell_type": "code",
   "execution_count": 20,
   "metadata": {
    "collapsed": false,
    "scrolled": false
   },
   "outputs": [
    {
     "name": "stdout",
     "output_type": "stream",
     "text": [
      "47.20% (23.04%): Startup::XRE_Main (16701333)\n",
      "15.56% (17.10%): Timer::Fire (5505676)\n",
      "12.99% (0.00%): IPDL::PCookieService::RecvGetCookieString (4595635)\n",
      "3.95% (0.01%): IPDL::PScreenManager::RecvScreenForBrowser (1396863)\n",
      "3.21% (0.15%): nsHttpChannel::OnDataAvailable (1137112)\n",
      "2.90% (4.88%): nsCycleCollector::forgetSkippable (1027088)\n",
      "1.21% (0.15%): nsHttpChannel::OnStartRequest (427250)\n",
      "0.93% (0.00%): IPDL::PHttpChannel::AsyncSendOnProgress (330764)\n",
      "0.86% (0.00%): IPDL::PNecko::RecvPHttpChannelConstructor (305463)\n",
      "0.70% (0.00%): IPDL::PBrowser::RecvAsyncMessage (247683)\n",
      "0.68% (0.03%): nsInputStreamPump::OnStateTransfer (239824)\n",
      "0.50% (0.00%): IPDL::PJavaScript::SendGet (176236)\n",
      "0.44% (6.81%): js::GCRuntime::collect (154701)\n",
      "0.42% (0.00%): IPDL::PCookieService::RecvSetCookieString (147245)\n",
      "0.36% (0.19%): nsViewManager::DispatchEvent (128959)\n",
      "0.31% (0.00%): IPDL::PContent::RecvScriptError (110099)\n",
      "0.29% (0.72%): PresShell::Flush (103274)\n",
      "0.27% (1.04%): nsCycleCollector::collectSlice (96807)\n",
      "0.27% (0.00%): IPDL::PHttpChannel::AsyncSendOnTransportAndData (95697)\n",
      "0.26% (0.00%): IPDL::PJavaScript::SendGetPropertyDescriptor (91277)\n",
      "0.24% (0.50%): self-hosted:661 (85679)\n",
      "0.24% (0.02%): nsLayoutUtils::GetFramesForArea (83961)\n",
      "0.22% (0.39%): gre/components/nsPrompter.js:78 (76226)\n",
      "0.20% (0.00%): IPDL::PContent::RecvSyncMessage (71587)\n",
      "0.20% (0.44%): (chrome script) (70854)\n"
     ]
    }
   ],
   "source": [
    "print_e10s_groups(25, 0)"
   ]
  },
  {
   "cell_type": "markdown",
   "metadata": {},
   "source": [
    "#### Parent process top stacks for top frames"
   ]
  },
  {
   "cell_type": "code",
   "execution_count": 21,
   "metadata": {
    "collapsed": false
   },
   "outputs": [
    {
     "name": "stdout",
     "output_type": "stream",
     "text": [
      "47.20% (23.04%): Startup::XRE_Main (16701333)\n",
      "  - 47.1973% (23.0354%):\n",
      "    Startup::XRE_Main\n",
      "\n",
      "15.56% (17.10%): Timer::Fire (5505676)\n",
      "  - 15.4949% (16.7587%):\n",
      "    Timer::Fire\n",
      "    Startup::XRE_Main\n",
      "\n",
      "  - 0.0122% (0.1450%):\n",
      "    Timer::Fire\n",
      "    gre/components/nsPrompter.js:78\n",
      "    app/components/nsBrowserGlue.js:1226\n",
      "    Startup::XRE_Main\n",
      "\n",
      "  - 0.0099% (0.0070%):\n",
      "    Timer::Fire\n",
      "    services-common/async.js:156\n",
      "    gre/modules/services-sync/browserid_identity.js:693\n",
      "    services-sync/resource.js:432\n",
      "    gre/modules/services-sync/service.js:558\n",
      "    services-sync/stages/enginesync.js:35\n",
      "    gre/modules/services-sync/service.js:1302\n",
      "    services-sync/util.js:146\n",
      "    services-sync/util.js:98\n",
      "    gre/modules/services-sync/service.js:1299\n",
      "    gre/modules/services-sync/service.js:1279\n",
      "    services-sync/util.js:76\n",
      "    gre/modules/services-sync/service.js:1272\n",
      "    Startup::XRE_Main\n",
      "\n",
      "12.99% (0.00%): IPDL::PCookieService::RecvGetCookieString (4595635)\n",
      "  - 12.9645% (0.0002%):\n",
      "    IPDL::PCookieService::RecvGetCookieString\n",
      "    Startup::XRE_Main\n",
      "\n",
      "  - 0.0085% (0.0000%):\n",
      "    IPDL::PCookieService::RecvGetCookieString\n",
      "    gre/components/nsPrompter.js:78\n",
      "    app/components/nsBrowserGlue.js:1226\n",
      "    Startup::XRE_Main\n",
      "\n",
      "  - 0.0068% (0.0000%):\n",
      "    IPDL::PCookieService::RecvGetCookieString\n",
      "    services-common/async.js:156\n",
      "    gre/modules/services-sync/browserid_identity.js:693\n",
      "    services-sync/resource.js:432\n",
      "    gre/modules/services-sync/service.js:558\n",
      "    services-sync/stages/enginesync.js:35\n",
      "    gre/modules/services-sync/service.js:1302\n",
      "    services-sync/util.js:146\n",
      "    services-sync/util.js:98\n",
      "    gre/modules/services-sync/service.js:1299\n",
      "    gre/modules/services-sync/service.js:1279\n",
      "    services-sync/util.js:76\n",
      "    gre/modules/services-sync/service.js:1272\n",
      "    Startup::XRE_Main\n",
      "\n",
      "3.95% (0.01%): IPDL::PScreenManager::RecvScreenForBrowser (1396863)\n",
      "  - 3.9430% (0.0066%):\n",
      "    IPDL::PScreenManager::RecvScreenForBrowser\n",
      "    Startup::XRE_Main\n",
      "\n",
      "  - 0.0020% (0.0000%):\n",
      "    IPDL::PScreenManager::RecvScreenForBrowser\n",
      "    gre/components/nsPrompter.js:78\n",
      "    app/components/nsBrowserGlue.js:1226\n",
      "    Startup::XRE_Main\n",
      "\n",
      "  - 0.0017% (0.0000%):\n",
      "    IPDL::PScreenManager::RecvScreenForBrowser\n",
      "    services-common/async.js:156\n",
      "    gre/modules/services-sync/service.js:979\n",
      "    services-sync/util.js:146\n",
      "    services-sync/util.js:98\n",
      "    services-sync/util.js:76\n",
      "    gre/modules/services-sync/service.js:1279\n",
      "    services-sync/util.js:76\n",
      "    gre/modules/services-sync/service.js:1272\n",
      "    Startup::XRE_Main\n",
      "\n",
      "3.21% (0.15%): nsHttpChannel::OnDataAvailable (1137112)\n",
      "  - 3.2117% (0.1447%):\n",
      "    nsHttpChannel::OnDataAvailable\n",
      "    nsInputStreamPump::OnStateTransfer\n",
      "    nsInputStreamPump::OnInputStreamReady\n",
      "    Startup::XRE_Main\n",
      "\n",
      "  - 0.0007% (0.0001%):\n",
      "    nsHttpChannel::OnDataAvailable\n",
      "    nsInputStreamPump::OnStateTransfer\n",
      "    nsInputStreamPump::OnInputStreamReady\n",
      "    services-common/async.js:156\n",
      "    gre/modules/services-sync/service.js:979\n",
      "    services-sync/util.js:146\n",
      "    services-sync/util.js:98\n",
      "    services-sync/util.js:76\n",
      "    gre/modules/services-sync/service.js:1279\n",
      "    services-sync/util.js:76\n",
      "    gre/modules/services-sync/service.js:1272\n",
      "    Startup::XRE_Main\n",
      "\n",
      "  - 0.0003% (0.0000%):\n",
      "    nsHttpChannel::OnDataAvailable\n",
      "    nsInputStreamPump::OnStateTransfer\n",
      "    nsInputStreamPump::OnInputStreamReady\n",
      "    gre/components/nsPrompter.js:78\n",
      "    app/components/nsBrowserGlue.js:1226\n",
      "    Startup::XRE_Main\n",
      "\n",
      "2.90% (4.88%): nsCycleCollector::forgetSkippable (1027088)\n",
      "  - 2.8906% (4.8032%):\n",
      "    nsCycleCollector::forgetSkippable\n",
      "    Timer::Fire\n",
      "    Startup::XRE_Main\n",
      "\n",
      "  - 0.0037% (0.0113%):\n",
      "    nsCycleCollector::forgetSkippable\n",
      "    Timer::Fire\n",
      "    gre/components/nsPrompter.js:78\n",
      "    app/components/nsBrowserGlue.js:1226\n",
      "    Startup::XRE_Main\n",
      "\n",
      "  - 0.0022% (0.0003%):\n",
      "    nsCycleCollector::forgetSkippable\n",
      "    Timer::Fire\n",
      "    gre/components/nsPrompter.js:107\n",
      "    gre/components/nsLoginManagerPrompter.js:105\n",
      "    Startup::XRE_Main\n",
      "\n",
      "1.21% (0.15%): nsHttpChannel::OnStartRequest (427250)\n",
      "  - 1.2048% (0.1424%):\n",
      "    nsHttpChannel::OnStartRequest\n",
      "    nsInputStreamPump::OnStateStart\n",
      "    nsInputStreamPump::OnInputStreamReady\n",
      "    Startup::XRE_Main\n",
      "\n",
      "  - 0.0008% (0.0001%):\n",
      "    nsHttpChannel::OnStartRequest\n",
      "    nsInputStreamPump::OnStateStart\n",
      "    nsInputStreamPump::OnInputStreamReady\n",
      "    services-common/async.js:156\n",
      "    gre/modules/services-sync/service.js:979\n",
      "    services-sync/util.js:146\n",
      "    services-sync/util.js:98\n",
      "    services-sync/util.js:76\n",
      "    gre/modules/services-sync/service.js:1279\n",
      "    services-sync/util.js:76\n",
      "    gre/modules/services-sync/service.js:1272\n",
      "    Startup::XRE_Main\n",
      "\n",
      "  - 0.0004% (0.0007%):\n",
      "    nsHttpChannel::OnStartRequest\n",
      "    nsInputStreamPump::OnStateStart\n",
      "    nsInputStreamPump::OnInputStreamReady\n",
      "    gre/components/nsPrompter.js:78\n",
      "    app/components/nsBrowserGlue.js:1226\n",
      "    Startup::XRE_Main\n",
      "\n",
      "0.93% (0.00%): IPDL::PHttpChannel::AsyncSendOnProgress (330764)\n",
      "  - 0.9281% (0.0000%):\n",
      "    IPDL::PHttpChannel::AsyncSendOnProgress\n",
      "    nsHttpChannel::OnDataAvailable\n",
      "    nsInputStreamPump::OnStateTransfer\n",
      "    nsInputStreamPump::OnInputStreamReady\n",
      "    Startup::XRE_Main\n",
      "\n",
      "  - 0.0063% (0.0000%):\n",
      "    IPDL::PHttpChannel::AsyncSendOnProgress\n",
      "    Startup::XRE_Main\n",
      "\n",
      "  - 0.0001% (0.0000%):\n",
      "    IPDL::PHttpChannel::AsyncSendOnProgress\n",
      "    nsHttpChannel::OnDataAvailable\n",
      "    nsInputStreamPump::OnStateTransfer\n",
      "    nsInputStreamPump::OnInputStreamReady\n",
      "    services-common/async.js:156\n",
      "    gre/modules/services-sync/service.js:979\n",
      "    services-sync/util.js:146\n",
      "    services-sync/util.js:98\n",
      "    services-sync/util.js:76\n",
      "    gre/modules/services-sync/service.js:1279\n",
      "    services-sync/util.js:76\n",
      "    gre/modules/services-sync/service.js:1272\n",
      "    Startup::XRE_Main\n",
      "\n",
      "0.86% (0.00%): IPDL::PNecko::RecvPHttpChannelConstructor (305463)\n",
      "  - 0.8609% (0.0007%):\n",
      "    IPDL::PNecko::RecvPHttpChannelConstructor\n",
      "    Startup::XRE_Main\n",
      "\n",
      "  - 0.0016% (0.0000%):\n",
      "    IPDL::PNecko::RecvPHttpChannelConstructor\n",
      "    gre/components/nsPrompter.js:78\n",
      "    app/components/nsBrowserGlue.js:1226\n",
      "    Startup::XRE_Main\n",
      "\n",
      "  - 0.0004% (0.0000%):\n",
      "    IPDL::PNecko::RecvPHttpChannelConstructor\n",
      "    Events::ProcessGeckoEvents\n",
      "    Startup::XRE_Main\n",
      "\n",
      "0.70% (0.00%): IPDL::PBrowser::RecvAsyncMessage (247683)\n",
      "  - 0.6989% (0.0000%):\n",
      "    IPDL::PBrowser::RecvAsyncMessage\n",
      "    Startup::XRE_Main\n",
      "\n",
      "  - 0.0003% (0.0000%):\n",
      "    IPDL::PBrowser::RecvAsyncMessage\n",
      "    gre/components/nsPrompter.js:78\n",
      "    app/components/nsBrowserGlue.js:1226\n",
      "    Startup::XRE_Main\n",
      "\n",
      "  - 0.0002% (0.0000%):\n",
      "    IPDL::PBrowser::RecvAsyncMessage\n",
      "    services-common/async.js:156\n",
      "    gre/modules/services-sync/service.js:979\n",
      "    services-sync/util.js:146\n",
      "    services-sync/util.js:98\n",
      "    services-sync/util.js:76\n",
      "    gre/modules/services-sync/service.js:1279\n",
      "    services-sync/util.js:76\n",
      "    gre/modules/services-sync/service.js:1272\n",
      "    Startup::XRE_Main\n",
      "\n",
      "0.68% (0.03%): nsInputStreamPump::OnStateTransfer (239824)\n",
      "  - 0.6765% (0.0272%):\n",
      "    nsInputStreamPump::OnStateTransfer\n",
      "    nsInputStreamPump::OnInputStreamReady\n",
      "    Startup::XRE_Main\n",
      "\n",
      "  - 0.0005% (0.0000%):\n",
      "    nsInputStreamPump::OnStateTransfer\n",
      "    nsInputStreamPump::OnInputStreamReady\n",
      "    services-common/async.js:156\n",
      "    gre/modules/services-sync/service.js:979\n",
      "    services-sync/util.js:146\n",
      "    services-sync/util.js:98\n",
      "    services-sync/util.js:76\n",
      "    gre/modules/services-sync/service.js:1279\n",
      "    services-sync/util.js:76\n",
      "    gre/modules/services-sync/service.js:1272\n",
      "    Startup::XRE_Main\n",
      "\n",
      "  - 0.0001% (0.0002%):\n",
      "    nsInputStreamPump::OnStateTransfer\n",
      "    nsInputStreamPump::OnInputStreamReady\n",
      "    Events::ProcessGeckoEvents\n",
      "    Startup::XRE_Main\n",
      "\n",
      "0.50% (0.00%): IPDL::PJavaScript::SendGet (176236)\n",
      "  - 0.1106% (0.0000%):\n",
      "    IPDL::PJavaScript::SendGet\n",
      "    idmhelper5.js:99\n",
      "    idmhelper8.js:46\n",
      "    IPDL::PContent::RecvRpcMessage\n",
      "    Startup::XRE_Main\n",
      "\n",
      "  - 0.0318% (0.0000%):\n",
      "    IPDL::PJavaScript::SendGet\n",
      "    idmhelper5.js:130\n",
      "    Startup::XRE_Main\n",
      "\n",
      "  - 0.0161% (0.0000%):\n",
      "    IPDL::PJavaScript::SendGet\n",
      "    idmhelper5.js:179\n",
      "    Startup::XRE_Main\n",
      "\n",
      "0.44% (6.81%): js::GCRuntime::collect (154701)\n",
      "  - 0.3343% (3.4762%):\n",
      "    js::GCRuntime::collect\n",
      "    nsJSContext::GarbageCollectNow\n",
      "    Timer::Fire\n",
      "    Startup::XRE_Main\n",
      "\n",
      "  - 0.0258% (2.0817%):\n",
      "    js::GCRuntime::collect\n",
      "    nsRefreshDriver::Tick\n",
      "    Startup::XRE_Main\n",
      "\n",
      "  - 0.0243% (0.0962%):\n",
      "    js::GCRuntime::collect\n",
      "    Startup::XRE_Main\n",
      "\n",
      "0.42% (0.00%): IPDL::PCookieService::RecvSetCookieString (147245)\n",
      "  - 0.4136% (0.0000%):\n",
      "    IPDL::PCookieService::RecvSetCookieString\n",
      "    Startup::XRE_Main\n",
      "\n",
      "  - 0.0021% (0.0000%):\n",
      "    IPDL::PCookieService::RecvSetCookieString\n",
      "    gre/components/nsPrompter.js:78\n",
      "    app/components/nsBrowserGlue.js:1226\n",
      "    Startup::XRE_Main\n",
      "\n",
      "  - 0.0001% (0.0000%):\n",
      "    IPDL::PCookieService::RecvSetCookieString\n",
      "    gre/components/nsPrompter.js:602\n",
      "    gre/components/nsSearchService.js:346\n",
      "    nsHttpChannel::OnStopRequest\n",
      "    nsInputStreamPump::OnStateStop\n",
      "    nsInputStreamPump::OnInputStreamReady\n",
      "    Startup::XRE_Main\n",
      "\n",
      "0.36% (0.19%): nsViewManager::DispatchEvent (128959)\n",
      "  - 0.3616% (0.1750%):\n",
      "    nsViewManager::DispatchEvent\n",
      "    Startup::XRE_Main\n",
      "\n",
      "  - 0.0022% (0.0064%):\n",
      "    nsViewManager::DispatchEvent\n",
      "    nsRefreshDriver::Tick\n",
      "    Startup::XRE_Main\n",
      "\n",
      "  - 0.0002% (0.0000%):\n",
      "    nsViewManager::DispatchEvent\n",
      "    services-common/async.js:156\n",
      "    gre/modules/services-sync/service.js:979\n",
      "    services-sync/util.js:146\n",
      "    services-sync/util.js:98\n",
      "    services-sync/util.js:76\n",
      "    gre/modules/services-sync/service.js:1279\n",
      "    services-sync/util.js:76\n",
      "    gre/modules/services-sync/service.js:1272\n",
      "    Startup::XRE_Main\n",
      "\n",
      "0.31% (0.00%): IPDL::PContent::RecvScriptError (110099)\n",
      "  - 0.3110% (0.0001%):\n",
      "    IPDL::PContent::RecvScriptError\n",
      "    Startup::XRE_Main\n",
      "\n",
      "  - 0.0001% (0.0000%):\n",
      "    IPDL::PContent::RecvScriptError\n",
      "    Events::ProcessGeckoEvents\n",
      "    Startup::XRE_Main\n",
      "\n",
      "  - 0.0000% (0.0000%):\n",
      "    IPDL::PContent::RecvScriptError\n",
      "    gre/components/nsPrompter.js:107\n",
      "    gre/components/nsLoginManagerPrompter.js:105\n",
      "    Startup::XRE_Main\n",
      "\n",
      "0.29% (0.72%): PresShell::Flush (103274)\n",
      "  - 0.2070% (0.0362%):\n",
      "    PresShell::Flush\n",
      "    Timer::Fire\n",
      "    Startup::XRE_Main\n",
      "\n",
      "  - 0.0491% (0.0995%):\n",
      "    PresShell::Flush\n",
      "    browser/content/newtab/newTab.js:715\n",
      "    browser/content/newtab/newTab.js:419\n",
      "    Timer::Fire\n",
      "    Startup::XRE_Main\n",
      "\n",
      "  - 0.0095% (0.0084%):\n",
      "    PresShell::Flush\n",
      "    nsViewManager::DispatchEvent\n",
      "    Startup::XRE_Main\n",
      "\n",
      "0.27% (1.04%): nsCycleCollector::collectSlice (96807)\n",
      "  - 0.1976% (0.9813%):\n",
      "    nsCycleCollector::collectSlice\n",
      "    nsJSContext::RunCycleCollectorSlice\n",
      "    Timer::Fire\n",
      "    Startup::XRE_Main\n",
      "\n",
      "  - 0.0746% (0.0341%):\n",
      "    nsCycleCollector::collectSlice\n",
      "    nsJSContext::RunCycleCollectorSlice\n",
      "    Timer::Fire\n",
      "    Events::ProcessGeckoEvents\n",
      "    Startup::XRE_Main\n",
      "\n",
      "  - 0.0005% (0.0047%):\n",
      "    nsCycleCollector::collectSlice\n",
      "    nsJSContext::RunCycleCollectorSlice\n",
      "    Timer::Fire\n",
      "    gre/components/nsPrompter.js:78\n",
      "    app/components/nsBrowserGlue.js:1226\n",
      "    Startup::XRE_Main\n",
      "\n",
      "0.27% (0.00%): IPDL::PHttpChannel::AsyncSendOnTransportAndData (95697)\n",
      "  - 0.2698% (0.0008%):\n",
      "    IPDL::PHttpChannel::AsyncSendOnTransportAndData\n",
      "    nsHttpChannel::OnDataAvailable\n",
      "    nsInputStreamPump::OnStateTransfer\n",
      "    nsInputStreamPump::OnInputStreamReady\n",
      "    Startup::XRE_Main\n",
      "\n",
      "  - 0.0005% (0.0000%):\n",
      "    IPDL::PHttpChannel::AsyncSendOnTransportAndData\n",
      "    idmhelper9.js:37\n",
      "    nsHttpChannel::OnDataAvailable\n",
      "    nsInputStreamPump::OnStateTransfer\n",
      "    nsInputStreamPump::OnInputStreamReady\n",
      "    Startup::XRE_Main\n",
      "\n",
      "  - 0.0001% (0.0000%):\n",
      "    IPDL::PHttpChannel::AsyncSendOnTransportAndData\n",
      "    nsHttpChannel::OnDataAvailable\n",
      "    nsInputStreamPump::OnStateTransfer\n",
      "    nsInputStreamPump::OnInputStreamReady\n",
      "    services-common/async.js:156\n",
      "    gre/modules/services-sync/service.js:979\n",
      "    services-sync/util.js:146\n",
      "    services-sync/util.js:98\n",
      "    services-sync/util.js:76\n",
      "    gre/modules/services-sync/service.js:1279\n",
      "    services-sync/util.js:76\n",
      "    gre/modules/services-sync/service.js:1272\n",
      "    Startup::XRE_Main\n",
      "\n",
      "0.26% (0.00%): IPDL::PJavaScript::SendGetPropertyDescriptor (91277)\n",
      "  - 0.1903% (0.0000%):\n",
      "    IPDL::PJavaScript::SendGetPropertyDescriptor\n",
      "    idmhelper5.js:91\n",
      "    Startup::XRE_Main\n",
      "\n",
      "  - 0.0114% (0.0000%):\n",
      "    IPDL::PJavaScript::SendGetPropertyDescriptor\n",
      "    idmhelper5.js:130\n",
      "    Startup::XRE_Main\n",
      "\n",
      "  - 0.0069% (0.0000%):\n",
      "    IPDL::PJavaScript::SendGetPropertyDescriptor\n",
      "    idmhelper5.js:145\n",
      "    Startup::XRE_Main\n",
      "\n",
      "0.24% (0.50%): self-hosted:661 (85679)\n",
      "  - 0.2008% (0.4174%):\n",
      "    self-hosted:661\n",
      "    gre/modules/Task.jsm:309\n",
      "    gre/modules/Promise-backend.js:805\n",
      "    gre/modules/Promise-backend.js:747\n",
      "    Startup::XRE_Main\n",
      "\n",
      "  - 0.0148% (0.0153%):\n",
      "    self-hosted:661\n",
      "    gre/modules/Task.jsm:309\n",
      "    gre/modules/Promise-backend.js:805\n",
      "    gre/modules/Promise-backend.js:747\n",
      "    Events::ProcessGeckoEvents\n",
      "    Startup::XRE_Main\n",
      "\n",
      "  - 0.0079% (0.0187%):\n",
      "    self-hosted:661\n",
      "    gre/modules/Task.jsm:226\n",
      "    gre/components/nsBlocklistService.js:611\n",
      "    EventDispatcher::Dispatch\n",
      "    nsXMLHttpRequest::OnStopRequest\n",
      "    nsHttpChannel::OnStopRequest\n",
      "    nsInputStreamPump::OnStateStop\n",
      "    nsInputStreamPump::OnInputStreamReady\n",
      "    Startup::XRE_Main\n",
      "\n",
      "0.24% (0.02%): nsLayoutUtils::GetFramesForArea (83961)\n",
      "  - 0.2366% (0.0155%):\n",
      "    nsLayoutUtils::GetFramesForArea\n",
      "    nsLayoutUtils::GetFrameForPoint\n",
      "    nsViewManager::DispatchEvent\n",
      "    Startup::XRE_Main\n",
      "\n",
      "  - 0.0002% (0.0000%):\n",
      "    nsLayoutUtils::GetFramesForArea\n",
      "    nsLayoutUtils::GetFrameForPoint\n",
      "    nsViewManager::DispatchEvent\n",
      "    gre/components/nsPrompter.js:78\n",
      "    app/components/nsBrowserGlue.js:1226\n",
      "    Startup::XRE_Main\n",
      "\n",
      "  - 0.0002% (0.0014%):\n",
      "    nsLayoutUtils::GetFramesForArea\n",
      "    nsLayoutUtils::GetFrameForPoint\n",
      "    nsViewManager::DispatchEvent\n",
      "    nsRefreshDriver::Tick\n",
      "    Startup::XRE_Main\n",
      "\n",
      "0.22% (0.39%): gre/components/nsPrompter.js:78 (76226)\n",
      "  - 0.1901% (0.3647%):\n",
      "    gre/components/nsPrompter.js:78\n",
      "    app/components/nsBrowserGlue.js:1226\n",
      "    Startup::XRE_Main\n",
      "\n",
      "  - 0.0120% (0.0130%):\n",
      "    gre/components/nsPrompter.js:78\n",
      "    browser/content/tabbrowser.xml:1975\n",
      "    app/components/nsBrowserGlue.js:275\n",
      "    browser/content/browser.xul:1\n",
      "    EventDispatcher::Dispatch\n",
      "    Startup::XRE_Main\n",
      "\n",
      "  - 0.0087% (0.0000%):\n",
      "    gre/components/nsPrompter.js:78\n",
      "    browser/content/tabbrowser.xml:1975\n",
      "    app/components/nsBrowserGlue.js:275\n",
      "    browser/content/browser.xul:1\n",
      "    EventDispatcher::Dispatch\n",
      "    gre/components/nsPrompter.js:78\n",
      "    browser/content/browser.xul:1\n",
      "    EventDispatcher::Dispatch\n",
      "    Startup::XRE_Main\n",
      "\n",
      "0.20% (0.00%): IPDL::PContent::RecvSyncMessage (71587)\n",
      "  - 0.2022% (0.0001%):\n",
      "    IPDL::PContent::RecvSyncMessage\n",
      "    Startup::XRE_Main\n",
      "\n",
      "  - 0.0000% (0.0000%):\n",
      "    IPDL::PContent::RecvSyncMessage\n",
      "    services-common/async.js:98\n",
      "    services-sync/resource.js:432\n",
      "    gre/modules/services-sync/service.js:558\n",
      "    services-sync/stages/enginesync.js:35\n",
      "    gre/modules/services-sync/service.js:1302\n",
      "    services-sync/util.js:146\n",
      "    services-sync/util.js:98\n",
      "    gre/modules/services-sync/service.js:1299\n",
      "    gre/modules/services-sync/service.js:1279\n",
      "    services-sync/util.js:76\n",
      "    gre/modules/services-sync/service.js:1272\n",
      "    Startup::XRE_Main\n",
      "\n",
      "  - 0.0000% (0.0000%):\n",
      "    IPDL::PContent::RecvSyncMessage\n",
      "    services-common/async.js:156\n",
      "    gre/modules/services-sync/service.js:979\n",
      "    services-sync/util.js:146\n",
      "    services-sync/util.js:98\n",
      "    services-sync/util.js:76\n",
      "    gre/modules/services-sync/service.js:1279\n",
      "    services-sync/util.js:76\n",
      "    gre/modules/services-sync/service.js:1272\n",
      "    Startup::XRE_Main\n",
      "\n",
      "0.20% (0.44%): (chrome script) (70854)\n",
      "  - 0.0694% (0.1466%):\n",
      "    (chrome script)\n",
      "    Startup::XRE_Main\n",
      "\n",
      "  - 0.0168% (0.0395%):\n",
      "    (chrome script)\n",
      "    gre/modules/Promise-backend.js:747\n",
      "    Startup::XRE_Main\n",
      "\n",
      "  - 0.0071% (0.0186%):\n",
      "    (chrome script)\n",
      "    EventDispatcher::Dispatch\n",
      "    IPDL::PCompositor::RecvDidComposite\n",
      "    Startup::XRE_Main\n",
      "\n"
     ]
    }
   ],
   "source": [
    "print_e10s_groups(25, 3)"
   ]
  },
  {
   "cell_type": "markdown",
   "metadata": {},
   "source": [
    "### Top stacks"
   ]
  },
  {
   "cell_type": "code",
   "execution_count": 22,
   "metadata": {
    "collapsed": true
   },
   "outputs": [],
   "source": [
    "def print_top_stacks(a_stacks, b_stacks, count):\n",
    "    from collections import Counter\n",
    "    a_total_count = sum(a_stacks.values())\n",
    "    b_total_count = sum(b_stacks.values())\n",
    "    for a_stack, a_stack_count in Counter(a_stacks).most_common(count):\n",
    "        b_stack_count = b_stacks.get(a_stack, 0)\n",
    "        print \"- {:.4f}% ({:.4f}%):\".format(\n",
    "            100.0 * a_stack_count / a_total_count,\n",
    "            100.0 * b_stack_count / b_total_count)\n",
    "        print \"  {}\\n\".format(\"\\n  \".join(reversed(a_stack)))"
   ]
  },
  {
   "cell_type": "markdown",
   "metadata": {},
   "source": [
    "#### e10s parent process stacks"
   ]
  },
  {
   "cell_type": "code",
   "execution_count": 23,
   "metadata": {
    "collapsed": false
   },
   "outputs": [
    {
     "name": "stdout",
     "output_type": "stream",
     "text": [
      "- 47.1973% (23.0354%):\n",
      "  Startup::XRE_Main\n",
      "\n",
      "- 15.4949% (16.7587%):\n",
      "  Timer::Fire\n",
      "  Startup::XRE_Main\n",
      "\n",
      "- 12.9645% (0.0002%):\n",
      "  IPDL::PCookieService::RecvGetCookieString\n",
      "  Startup::XRE_Main\n",
      "\n",
      "- 3.9430% (0.0066%):\n",
      "  IPDL::PScreenManager::RecvScreenForBrowser\n",
      "  Startup::XRE_Main\n",
      "\n",
      "- 3.2117% (0.1447%):\n",
      "  nsHttpChannel::OnDataAvailable\n",
      "  nsInputStreamPump::OnStateTransfer\n",
      "  nsInputStreamPump::OnInputStreamReady\n",
      "  Startup::XRE_Main\n",
      "\n",
      "- 2.8906% (4.8032%):\n",
      "  nsCycleCollector::forgetSkippable\n",
      "  Timer::Fire\n",
      "  Startup::XRE_Main\n",
      "\n",
      "- 1.2048% (0.1424%):\n",
      "  nsHttpChannel::OnStartRequest\n",
      "  nsInputStreamPump::OnStateStart\n",
      "  nsInputStreamPump::OnInputStreamReady\n",
      "  Startup::XRE_Main\n",
      "\n",
      "- 0.9281% (0.0000%):\n",
      "  IPDL::PHttpChannel::AsyncSendOnProgress\n",
      "  nsHttpChannel::OnDataAvailable\n",
      "  nsInputStreamPump::OnStateTransfer\n",
      "  nsInputStreamPump::OnInputStreamReady\n",
      "  Startup::XRE_Main\n",
      "\n",
      "- 0.8609% (0.0007%):\n",
      "  IPDL::PNecko::RecvPHttpChannelConstructor\n",
      "  Startup::XRE_Main\n",
      "\n",
      "- 0.6989% (0.0000%):\n",
      "  IPDL::PBrowser::RecvAsyncMessage\n",
      "  Startup::XRE_Main\n",
      "\n",
      "- 0.6765% (0.0272%):\n",
      "  nsInputStreamPump::OnStateTransfer\n",
      "  nsInputStreamPump::OnInputStreamReady\n",
      "  Startup::XRE_Main\n",
      "\n",
      "- 0.4136% (0.0000%):\n",
      "  IPDL::PCookieService::RecvSetCookieString\n",
      "  Startup::XRE_Main\n",
      "\n",
      "- 0.3616% (0.1750%):\n",
      "  nsViewManager::DispatchEvent\n",
      "  Startup::XRE_Main\n",
      "\n",
      "- 0.3343% (3.4762%):\n",
      "  js::GCRuntime::collect\n",
      "  nsJSContext::GarbageCollectNow\n",
      "  Timer::Fire\n",
      "  Startup::XRE_Main\n",
      "\n",
      "- 0.3110% (0.0001%):\n",
      "  IPDL::PContent::RecvScriptError\n",
      "  Startup::XRE_Main\n",
      "\n",
      "- 0.2698% (0.0008%):\n",
      "  IPDL::PHttpChannel::AsyncSendOnTransportAndData\n",
      "  nsHttpChannel::OnDataAvailable\n",
      "  nsInputStreamPump::OnStateTransfer\n",
      "  nsInputStreamPump::OnInputStreamReady\n",
      "  Startup::XRE_Main\n",
      "\n",
      "- 0.2366% (0.0155%):\n",
      "  nsLayoutUtils::GetFramesForArea\n",
      "  nsLayoutUtils::GetFrameForPoint\n",
      "  nsViewManager::DispatchEvent\n",
      "  Startup::XRE_Main\n",
      "\n",
      "- 0.2070% (0.0362%):\n",
      "  PresShell::Flush\n",
      "  Timer::Fire\n",
      "  Startup::XRE_Main\n",
      "\n",
      "- 0.2022% (0.0001%):\n",
      "  IPDL::PContent::RecvSyncMessage\n",
      "  Startup::XRE_Main\n",
      "\n",
      "- 0.2008% (0.4174%):\n",
      "  self-hosted:661\n",
      "  gre/modules/Task.jsm:309\n",
      "  gre/modules/Promise-backend.js:805\n",
      "  gre/modules/Promise-backend.js:747\n",
      "  Startup::XRE_Main\n",
      "\n",
      "- 0.1976% (0.9813%):\n",
      "  nsCycleCollector::collectSlice\n",
      "  nsJSContext::RunCycleCollectorSlice\n",
      "  Timer::Fire\n",
      "  Startup::XRE_Main\n",
      "\n",
      "- 0.1903% (0.0000%):\n",
      "  IPDL::PJavaScript::SendGetPropertyDescriptor\n",
      "  idmhelper5.js:91\n",
      "  Startup::XRE_Main\n",
      "\n",
      "- 0.1901% (0.3647%):\n",
      "  gre/components/nsPrompter.js:78\n",
      "  app/components/nsBrowserGlue.js:1226\n",
      "  Startup::XRE_Main\n",
      "\n",
      "- 0.1747% (0.0000%):\n",
      "  IPDL::PStorage::RecvAsyncUpdateItem\n",
      "  Startup::XRE_Main\n",
      "\n",
      "- 0.1646% (0.0001%):\n",
      "  IPDL::PContent::RecvAsyncMessage\n",
      "  Startup::XRE_Main\n",
      "\n"
     ]
    }
   ],
   "source": [
    "print_top_stacks(we10s_stacks, ne10s_stacks, 25)"
   ]
  },
  {
   "cell_type": "markdown",
   "metadata": {},
   "source": [
    "#### non-e10s parent process stacks"
   ]
  },
  {
   "cell_type": "code",
   "execution_count": 24,
   "metadata": {
    "collapsed": false
   },
   "outputs": [
    {
     "name": "stdout",
     "output_type": "stream",
     "text": [
      "- 23.0354% (47.1973%):\n",
      "  Startup::XRE_Main\n",
      "\n",
      "- 16.7587% (15.4949%):\n",
      "  Timer::Fire\n",
      "  Startup::XRE_Main\n",
      "\n",
      "- 7.6513% (0.0483%):\n",
      "  (content script)\n",
      "  Timer::Fire\n",
      "  Startup::XRE_Main\n",
      "\n",
      "- 4.8032% (2.8906%):\n",
      "  nsCycleCollector::forgetSkippable\n",
      "  Timer::Fire\n",
      "  Startup::XRE_Main\n",
      "\n",
      "- 3.4762% (0.3343%):\n",
      "  js::GCRuntime::collect\n",
      "  nsJSContext::GarbageCollectNow\n",
      "  Timer::Fire\n",
      "  Startup::XRE_Main\n",
      "\n",
      "- 3.0751% (0.0053%):\n",
      "  (content script)\n",
      "  EventDispatcher::Dispatch\n",
      "  Startup::XRE_Main\n",
      "\n",
      "- 2.0817% (0.0258%):\n",
      "  js::GCRuntime::collect\n",
      "  nsRefreshDriver::Tick\n",
      "  Startup::XRE_Main\n",
      "\n",
      "- 1.3873% (0.0587%):\n",
      "  IPDL::PLayerTransaction::SendUpdate\n",
      "  ShadowLayerForwarder::EndTransaction\n",
      "  nsDisplayList::PaintRoot\n",
      "  nsLayoutUtils::PaintFrame\n",
      "  PresShell::Paint\n",
      "  nsRefreshDriver::Tick\n",
      "  Startup::XRE_Main\n",
      "\n",
      "- 1.3311% (0.0000%):\n",
      "  (content script)\n",
      "  EventDispatcher::Dispatch\n",
      "  nsViewManager::DispatchEvent\n",
      "  Startup::XRE_Main\n",
      "\n",
      "- 1.0433% (0.0043%):\n",
      "  (content script)\n",
      "  nsJSUtils::EvaluateString\n",
      "  Startup::XRE_Main\n",
      "\n",
      "- 1.0089% (0.0004%):\n",
      "  (content script)\n",
      "  EventDispatcher::Dispatch\n",
      "  nsXMLHttpRequest::OnStopRequest\n",
      "  nsHttpChannel::OnStopRequest\n",
      "  nsInputStreamPump::OnStateStop\n",
      "  nsInputStreamPump::OnInputStreamReady\n",
      "  Startup::XRE_Main\n",
      "\n",
      "- 0.9813% (0.1976%):\n",
      "  nsCycleCollector::collectSlice\n",
      "  nsJSContext::RunCycleCollectorSlice\n",
      "  Timer::Fire\n",
      "  Startup::XRE_Main\n",
      "\n",
      "- 0.9666% (0.0063%):\n",
      "  (content script)\n",
      "  gre/modules/commonjs/sdk/timers.js:37\n",
      "  Timer::Fire\n",
      "  Startup::XRE_Main\n",
      "\n",
      "- 0.9159% (0.0000%):\n",
      "  IPDL::PPluginInstance::SendNPP_NewStream\n",
      "  PluginModuleParent::NPP_NewStream\n",
      "  nsPluginStreamListenerPeer::OnStartRequest\n",
      "  nsHttpChannel::OnStartRequest\n",
      "  nsInputStreamPump::OnStateStart\n",
      "  nsInputStreamPump::OnInputStreamReady\n",
      "  Startup::XRE_Main\n",
      "\n",
      "- 0.8274% (0.0183%):\n",
      "  DisplayList::Draw\n",
      "  FrameLayerBuilder::DrawPaintedLayer\n",
      "  ClientPaintedLayer::PaintThebes\n",
      "  ClientLayerManager::EndTransactionInternal\n",
      "  nsDisplayList::PaintRoot\n",
      "  nsLayoutUtils::PaintFrame\n",
      "  PresShell::Paint\n",
      "  nsRefreshDriver::Tick\n",
      "  Startup::XRE_Main\n",
      "\n",
      "- 0.8176% (0.0039%):\n",
      "  (content script)\n",
      "  nsJSUtils::EvaluateString\n",
      "  nsHtml5TreeOpExecutor::RunFlushLoop\n",
      "  Startup::XRE_Main\n",
      "\n",
      "- 0.6263% (0.0000%):\n",
      "  IPDL::PPluginInstance::SendNPP_HandleEvent\n",
      "  EventDispatcher::Dispatch\n",
      "  nsViewManager::DispatchEvent\n",
      "  Startup::XRE_Main\n",
      "\n",
      "- 0.5774% (0.0000%):\n",
      "  PresShell::DoReflow\n",
      "  PresShell::Flush\n",
      "  (content script)\n",
      "  Timer::Fire\n",
      "  Startup::XRE_Main\n",
      "\n",
      "- 0.5152% (0.0301%):\n",
      "  PresShell::DoReflow\n",
      "  PresShell::Flush\n",
      "  nsRefreshDriver::Tick\n",
      "  Startup::XRE_Main\n",
      "\n",
      "- 0.4430% (0.0236%):\n",
      "  ViewportFrame::BuildDisplayList\n",
      "  nsLayoutUtils::PaintFrame::BuildDisplayList\n",
      "  nsLayoutUtils::PaintFrame\n",
      "  PresShell::Paint\n",
      "  nsRefreshDriver::Tick\n",
      "  Startup::XRE_Main\n",
      "\n",
      "- 0.4174% (0.2008%):\n",
      "  self-hosted:661\n",
      "  gre/modules/Task.jsm:309\n",
      "  gre/modules/Promise-backend.js:805\n",
      "  gre/modules/Promise-backend.js:747\n",
      "  Startup::XRE_Main\n",
      "\n",
      "- 0.3821% (0.0009%):\n",
      "  js::GCRuntime::collect\n",
      "  nsRefreshDriver::Tick\n",
      "  IPDL::PCompositor::RecvDidComposite\n",
      "  Startup::XRE_Main\n",
      "\n",
      "- 0.3647% (0.1901%):\n",
      "  gre/components/nsPrompter.js:78\n",
      "  app/components/nsBrowserGlue.js:1226\n",
      "  Startup::XRE_Main\n",
      "\n",
      "- 0.3583% (0.0195%):\n",
      "  IPDL::PLayerTransaction::SendUpdate\n",
      "  ShadowLayerForwarder::EndTransaction\n",
      "  nsDisplayList::PaintRoot\n",
      "  nsLayoutUtils::PaintFrame\n",
      "  PresShell::Paint\n",
      "  nsRefreshDriver::Tick\n",
      "  IPDL::PCompositor::RecvDidComposite\n",
      "  Startup::XRE_Main\n",
      "\n",
      "- 0.3525% (0.0000%):\n",
      "  IPDL::PPluginScriptableObject::RecvGetParentProperty\n",
      "  Startup::XRE_Main\n",
      "\n"
     ]
    }
   ],
   "source": [
    "print_top_stacks(ne10s_stacks, we10s_stacks, 25)"
   ]
  }
 ],
 "metadata": {
  "kernelspec": {
   "display_name": "Python 2",
   "language": "python",
   "name": "python2"
  },
  "language_info": {
   "codemirror_mode": {
    "name": "ipython",
    "version": 2
   },
   "file_extension": ".py",
   "mimetype": "text/x-python",
   "name": "python",
   "nbconvert_exporter": "python",
   "pygments_lexer": "ipython2",
   "version": "2.7.10"
  }
 },
 "nbformat": 4,
 "nbformat_minor": 0
}
