{
 "cells": [
  {
   "cell_type": "markdown",
   "metadata": {},
   "source": [
    "### E10S Experiment Beta: Top extensions"
   ]
  },
  {
   "cell_type": "markdown",
   "metadata": {},
   "source": [
    "[Bug 1224518](https://bugzilla.mozilla.org/show_bug.cgi?id=1224518)\n",
    "\n",
    "This analysis lists the top extensions in the Telemetry pings and compares them to the [whitelisted e10s addon list](https://wiki.mozilla.org/Electrolysis/Addons)."
   ]
  },
  {
   "cell_type": "code",
   "execution_count": 1,
   "metadata": {
    "collapsed": false
   },
   "outputs": [
    {
     "name": "stdout",
     "output_type": "stream",
     "text": [
      "Unable to parse whitelist (/home/hadoop/anaconda2/lib/python2.7/site-packages/moztelemetry/bucket-whitelist.json). Assuming all histograms are acceptable.\n",
      "Populating the interactive namespace from numpy and matplotlib\n"
     ]
    }
   ],
   "source": [
    "import ujson as json\n",
    "import matplotlib.pyplot as plt\n",
    "import pandas as pd\n",
    "import numpy as np\n",
    "import plotly.plotly as py\n",
    "import IPython\n",
    "\n",
    "from __future__ import division\n",
    "from moztelemetry.spark import get_pings, get_one_ping_per_client, get_pings_properties\n",
    "from montecarlino import grouped_permutation_test\n",
    "\n",
    "from whitelist import ADDON_WHITELIST\n",
    "\n",
    "%pylab inline\n",
    "IPython.core.pylabtools.figsize(16, 7)"
   ]
  },
  {
   "cell_type": "code",
   "execution_count": 2,
   "metadata": {
    "collapsed": false
   },
   "outputs": [
    {
     "data": {
      "text/plain": [
       "16"
      ]
     },
     "execution_count": 2,
     "metadata": {},
     "output_type": "execute_result"
    }
   ],
   "source": [
    "sc.defaultParallelism"
   ]
  },
  {
   "cell_type": "markdown",
   "metadata": {},
   "source": [
    "#### Get addons"
   ]
  },
  {
   "cell_type": "code",
   "execution_count": 3,
   "metadata": {
    "collapsed": false
   },
   "outputs": [],
   "source": [
    "dataset = sqlContext.read.load(\"s3://telemetry-parquet/e10s-experiment/e10s-enabled-beta-20151214@experiments.mozilla.org/generationDate=20160106\", \"parquet\")"
   ]
  },
  {
   "cell_type": "markdown",
   "metadata": {},
   "source": [
    "Transform Dataframe to RDD of pings"
   ]
  },
  {
   "cell_type": "code",
   "execution_count": 4,
   "metadata": {
    "collapsed": true
   },
   "outputs": [],
   "source": [
    "def row_2_ping(row):\n",
    "    ping = {\"environment\": {\"addons\": json.loads(row.addons)}}\n",
    "    return ping"
   ]
  },
  {
   "cell_type": "code",
   "execution_count": 5,
   "metadata": {
    "collapsed": false
   },
   "outputs": [],
   "source": [
    "subset = dataset.rdd.map(row_2_ping)\n",
    "subset_count = subset.count()"
   ]
  },
  {
   "cell_type": "code",
   "execution_count": 6,
   "metadata": {
    "collapsed": false
   },
   "outputs": [
    {
     "data": {
      "text/plain": [
       "450968"
      ]
     },
     "execution_count": 6,
     "metadata": {},
     "output_type": "execute_result"
    }
   ],
   "source": [
    "subset_count"
   ]
  },
  {
   "cell_type": "code",
   "execution_count": 7,
   "metadata": {
    "collapsed": false
   },
   "outputs": [],
   "source": [
    "def ping_has_addons(ping, check_id_func):\n",
    "    activeAddons = ping[\"environment\"][\"addons\"].get(\"activeAddons\", {})\n",
    "    if not activeAddons:\n",
    "        return False\n",
    "    for k, v in activeAddons.iteritems():\n",
    "        if not check_id_func(k):\n",
    "            return False\n",
    "    return True"
   ]
  },
  {
   "cell_type": "markdown",
   "metadata": {},
   "source": [
    "How many clients had at least one addon?"
   ]
  },
  {
   "cell_type": "code",
   "execution_count": 8,
   "metadata": {
    "collapsed": false
   },
   "outputs": [],
   "source": [
    "any_subset = subset.filter(lambda p: ping_has_addons(p, lambda k: True))\n",
    "any_subset_count = any_subset.count()"
   ]
  },
  {
   "cell_type": "code",
   "execution_count": 9,
   "metadata": {
    "collapsed": false
   },
   "outputs": [
    {
     "name": "stdout",
     "output_type": "stream",
     "text": [
      "47.50%\n"
     ]
    }
   ],
   "source": [
    "print \"{:.2f}%\".format(100.0 * any_subset_count / subset_count)"
   ]
  },
  {
   "cell_type": "markdown",
   "metadata": {},
   "source": [
    "How many clients had only whitelisted addons?"
   ]
  },
  {
   "cell_type": "code",
   "execution_count": 10,
   "metadata": {
    "collapsed": false
   },
   "outputs": [],
   "source": [
    "whitelisted_subset = subset.filter(lambda p: ping_has_addons(p, lambda k: k in ADDON_WHITELIST))\n",
    "whitelisted_subset_count = whitelisted_subset.count()"
   ]
  },
  {
   "cell_type": "code",
   "execution_count": 11,
   "metadata": {
    "collapsed": false
   },
   "outputs": [
    {
     "name": "stdout",
     "output_type": "stream",
     "text": [
      "9.40%\n"
     ]
    }
   ],
   "source": [
    "print \"{:.2f}%\".format(100.0 * whitelisted_subset_count / subset_count)"
   ]
  },
  {
   "cell_type": "markdown",
   "metadata": {},
   "source": [
    "How many clients had at least one unwhitelisted addon?"
   ]
  },
  {
   "cell_type": "code",
   "execution_count": 12,
   "metadata": {
    "collapsed": false
   },
   "outputs": [
    {
     "name": "stdout",
     "output_type": "stream",
     "text": [
      "38.10%\n"
     ]
    }
   ],
   "source": [
    "print \"{:.2f}%\".format(100.0 * (any_subset_count - whitelisted_subset_count) / subset_count)"
   ]
  },
  {
   "cell_type": "code",
   "execution_count": 13,
   "metadata": {
    "collapsed": true
   },
   "outputs": [],
   "source": [
    "def get_ping_addons(ping):\n",
    "    activeAddons = ping[\"environment\"][\"addons\"].get(\"activeAddons\", {})\n",
    "    for k, v in activeAddons.iteritems():\n",
    "        if v.get(\"name\"):\n",
    "            yield (k, v[\"name\"].encode(\"ascii\", \"ignore\"))\n",
    "\n",
    "addons = subset.flatMap(get_ping_addons)"
   ]
  },
  {
   "cell_type": "code",
   "execution_count": 14,
   "metadata": {
    "collapsed": false
   },
   "outputs": [],
   "source": [
    "addon_counts = addons.countByKey()"
   ]
  },
  {
   "cell_type": "markdown",
   "metadata": {},
   "source": [
    "How many addons did the clients have installed in total?"
   ]
  },
  {
   "cell_type": "code",
   "execution_count": 15,
   "metadata": {
    "collapsed": false
   },
   "outputs": [
    {
     "data": {
      "text/plain": [
       "492721"
      ]
     },
     "execution_count": 15,
     "metadata": {},
     "output_type": "execute_result"
    }
   ],
   "source": [
    "total_addons = sum(addon_counts.values())\n",
    "total_addons"
   ]
  },
  {
   "cell_type": "markdown",
   "metadata": {},
   "source": [
    "Which whitelisted addons did not appear in the pings?"
   ]
  },
  {
   "cell_type": "code",
   "execution_count": 16,
   "metadata": {
    "collapsed": false,
    "scrolled": false
   },
   "outputs": [
    {
     "name": "stdout",
     "output_type": "stream",
     "text": [
      "Vertical Tabs\n"
     ]
    }
   ],
   "source": [
    "for addon in ADDON_WHITELIST:\n",
    "    if not addon in addon_counts:\n",
    "        print ADDON_WHITELIST[addon]"
   ]
  },
  {
   "cell_type": "markdown",
   "metadata": {},
   "source": [
    "#### Top whitelisted addons"
   ]
  },
  {
   "cell_type": "code",
   "execution_count": 17,
   "metadata": {
    "collapsed": false
   },
   "outputs": [
    {
     "name": "stdout",
     "output_type": "stream",
     "text": [
      "7.589%: Adblock Plus\n",
      "2.932%: IDM CC\n",
      "2.070%: Avast Online Security\n",
      "2.010%: Video DownloadHelper\n",
      "1.327%: Download YouTube Videos as MP4\n",
      "1.141%: Firebug\n",
      "1.038%: 1-Click YouTube Video Downloader\n",
      "1.014%: McAfee WebAdvisor\n",
      "1.011%: YouTube Video and Audio Downloader\n",
      "0.892%: Flash Video Downloader - YouTube HD Download [4K]\n",
      "0.731%: DownThemAll!\n",
      "0.712%: Kaspersky URL Advisor\n",
      "0.614%: Greasemonkey\n",
      "0.519%: Adblock Plus Pop-up Addon\n",
      "0.442%: Yandex Visual Bookmarks\n",
      "0.432%: Yandex Elements\n",
      "0.381%: Avira Browser Safety\n",
      "0.370%: FlashGot\n",
      "0.355%: Ghostery\n",
      "0.354%: MEGA\n",
      "0.308%: LastPass\n",
      "0.300%: WOT\n",
      "0.292%: AVG SafeGuard toolbar\n",
      "0.265%: NoScript\n",
      "0.263%: Google Translator for Firefox\n",
      "0.205%: Element Hiding Helper for Adblock Plus\n",
      "0.205%: Adblock Edge\n",
      "0.188%: Pin It button\n",
      "0.186%: Tab Mix Plus\n",
      "0.184%: Download Status Bar\n",
      "0.181%: Flagfox\n",
      "0.164%: IE Tab 2\n",
      "0.164%: Stylish\n",
      "0.135%: Personas Plus\n",
      "0.118%: FireFTP\n",
      "0.107%: Yahoo! Toolbar\n",
      "0.091%: Xmarks\n",
      "0.087%: Garmin Communicator\n",
      "0.072%: Flashblock\n",
      "0.071%: uBlock\n",
      "0.068%: ColorfulTabs\n",
      "0.039%: 1Password\n",
      "0.034%: HTTPS-Everywhere\n",
      "0.033%: Amazon 1Button App for Firefox\n",
      "0.014%: McAfee Security Scan Plus\n",
      "0.013%: OneTab\n",
      "0.012%: FoxTab\n",
      "0.007%: Aol Toolbar\n",
      "0.001%: Cliqz\n",
      "0.000%: CCK2\n",
      "0.000%: GBBD Banco Santander (Brasil) S.A.\n"
     ]
    }
   ],
   "source": [
    "from collections import Counter\n",
    "\n",
    "for addon, addon_count in Counter(addon_counts).most_common():\n",
    "    if addon in ADDON_WHITELIST:\n",
    "        print \"{:.3f}%: {}\".format(100.0 * addon_count / total_addons, ADDON_WHITELIST[addon])"
   ]
  },
  {
   "cell_type": "markdown",
   "metadata": {},
   "source": [
    "#### Top unwhitelisted addons"
   ]
  },
  {
   "cell_type": "code",
   "execution_count": 18,
   "metadata": {
    "collapsed": false
   },
   "outputs": [],
   "source": [
    "# An addon ID might have multiple names. Pick the longer one because some addons appear to have\n",
    "# invalid names (e.g. single space).\n",
    "addon_names = addons.reduceByKey(lambda a, b: a if len(a) > len(b) else b).collectAsMap()"
   ]
  },
  {
   "cell_type": "code",
   "execution_count": 19,
   "metadata": {
    "collapsed": false
   },
   "outputs": [
    {
     "name": "stdout",
     "output_type": "stream",
     "text": [
      "9.659%: Test Pilot (testpilot@labs.mozilla.com)\n",
      "2.299%: Skype Click to Call ({82AF8DCA-6DE9-405D-BD5E-43525BDAD38A})\n",
      "1.402%: VideoDownloadConverter (_4zMembers_@www.videodownloadconverter.com)\n",
      "1.380%: SaveFrom.net - helper (helper-sig@savefrom.net)\n",
      "1.371%: iLivid (LVD-SAE@iacsearchandmedia.com)\n",
      "1.277%: FromDocToPDF (_65Members_@download.fromdoctopdf.com)\n",
      "1.122%: Module de blocage des sites Internet dangereux (content_blocker@kaspersky.com)\n",
      "1.059%: anonymoX (client@anonymox.net)\n",
      "0.878%: Module de blocage des sites Internet dangereux (content_blocker_663BE84DBCC949E88C7600F63CA7F098@kaspersky.com)\n",
      "0.877%: Virtuellt tangentbord (virtual_keyboard_07402848C2F6470194F131B0F3DE025E@kaspersky.com)\n",
      "0.738%: PConverter (_dzMembers_@www.pconverter.com)\n",
      "0.723%: Blokowanie banerw (anti_banner@kaspersky.com)\n",
      "0.717%: Klawiatura wirtualna (virtual_keyboard@kaspersky.com)\n",
      "0.717%: Sicherer Zahlungsverkehr (online_banking@kaspersky.com)\n",
      "0.712%: Sicherer Zahlungsverkehr (online_banking_08806E753BE44495B44E90AA2513BDC5@kaspersky.com)\n",
      "0.706%: Music Box (MUB-SAE@iacsearchandmedia.com)\n",
      "0.691%: goMovix - Movies And More (caa1-aDOiCAxFFMOVIX@jetpack)\n",
      "0.668%: Kaspersky Bescherming (light_plugin_D772DC8D6FAF43A29B25C4EBAA5AD1DE@kaspersky.com)\n",
      "0.638%: Easy Youtube Video Downloader Express ({b9acf540-acba-11e1-8ccb-001fd0e08bd4})\n",
      "0.576%: Avast SafePrice (sp@avast.com)\n",
      "0.501%: ADB Helper (adbhelper@mozilla.org)\n",
      "0.468%: GamingWonderland (_gtMembers_@free.gamingwonderland.com)\n",
      "0.446%: Allin1Convert (_8hMembers_@download.allin1convert.com)\n",
      "0.445%: Flash and Video Download ({bee6eb20-01e0-ebd1-da83-080329fb9a3a})\n",
      "0.420%: Valence (fxdevtools-adapters@mozilla.org)\n",
      "0.412%: ProductivityBoss (_e5Members_@www.productivityboss.com)\n",
      "0.412%: Virtueel Toetsenbord (virtual_keyboard_294FF26A1D5B455495946778FDE7CEDB@kaspersky.com)\n",
      "0.412%: Module de blocage des sites Internet dangereux (content_blocker_6418E0D362104DADA084DC312DFA8ABC@kaspersky.com)\n",
      "0.389%: Free Games Zone (FGZ-SAE@iacsearchandmedia.com)\n",
      "0.384%: MySmartPrice (@mysmartprice-ff)\n",
      "0.364%: Ant Video Downloader (anttoolbar@ant.com)\n",
      "0.363%: TelevisionFanatic (_64Members_@download.televisionfanatic.com)\n",
      "0.350%: FirefixTab (deskCutv2@gmail.com)\n",
      "0.332%: ZenMate Security, Privacy & Unblock VPN (firefox@zenmate.com)\n",
      "0.331%: Internet Speed Tracker (_9tMembers_@download.internetspeedtracker.com)\n",
      "0.329%: ERail Plugin for Firefox (ERAIL.IN.FFPLUGIN@jetpack)\n",
      "0.319%: YouTube Flash Player (jid1-HAV2inXAnQPIeA@jetpack)\n",
      "0.315%: YouTube mp3 (info@youtube-mp3.org)\n",
      "0.307%: Sicherer Zahlungsverkehr (online_banking_69A4E213815F42BD863D889007201D82@kaspersky.com)\n",
      "0.307%: DownSpeedTest (_dqMembers_@www.downspeedtest.com)\n",
      "0.303%: YahooToolsProtected (yahooprotected@gmail.com)\n",
      "0.284%: VideoScavenger (_1eMembers_@www.videoscavenger.com)\n",
      "0.272%:  . (sovetnik@metabar.ru)\n",
      "0.270%: musixlib (jid1-lpoiffmusixlib@jetpack)\n",
      "0.270%: YouTube Flash Video Player ({f3bd3dd2-2888-44c5-91a2-2caeb33fb898})\n",
      "0.249%: Video Downloader professional (ffext_basicvideoext@startpage24)\n",
      "0.240%: Bing Search Engine (bingsearch.full@microsoft.com)\n",
      "0.237%: FilmFanatic (_paMembers_@www.filmfanatic.com)\n",
      "0.236%: uBlock Origin (uBlock0@raymondhill.net)\n",
      "0.231%: Youtube Downloader - 4K Download (paulsaintuzb@gmail.com)\n",
      "0.222%: Proteccin de Internet 360 (WebProtection@360safe.com)\n",
      "0.210%: OnlineMapFinder (_9pMembers_@free.onlinemapfinder.com)\n",
      "0.206%: ReadingFanatic (_6xMembers_@www.readingfanatic.com)\n",
      "0.204%:   @Mail.Ru ({a38384b3-2d1d-4f36-bc22-0f7ae402bcd7})\n",
      "0.198%: Youtube and more - Easy Video Downloader (vdpure@link64)\n",
      "0.195%: EPUBReader ({5384767E-00D9-40E9-B72F-9CC39D655D6F})\n",
      "0.180%: YouTube High Definition ({7b1bf0b6-a1b9-42b0-b75d-252036438bdc})\n",
      "0.178%: Youtube Best Video Downloader 2 ({170503FA-3349-4F17-BC86-001888A5C8E2})\n",
      "0.177%: AdBlock for YouTube (jid1-q4sG8pYhq8KGHs@jetpack)\n",
      "0.175%: Awesome screenshot: Capture and Annotate (jid0-GXjLLfbCoAx0LcltEdFrEkQdQPI@jetpack)\n",
      "0.169%:   Mail.Ru (homepage@mail.ru)\n",
      "0.164%: MP4 Downloader (mp4downloader@jeff.net)\n",
      "0.156%: Google+ (plus.google.com@services.mozilla.org)\n",
      "0.155%: Web Developer ({c45c406e-ab73-11d8-be73-000a95be3b12})\n",
      "0.152%: Default NewTab (default_newtabff@gmail.com)\n",
      "0.151%: @Mail.Ru (search@mail.ru)\n",
      "0.151%: thumbnailZoomdadlergithubcom (thumbnailZoom@dadler.github.com)\n"
     ]
    }
   ],
   "source": [
    "for addon, addon_count in Counter(addon_counts).most_common(100):\n",
    "    if not addon in ADDON_WHITELIST:\n",
    "        print \"{:.3f}%: {} ({})\".format(100.0 * addon_count / total_addons, addon_names[addon], addon)"
   ]
  }
 ],
 "metadata": {
  "kernelspec": {
   "display_name": "Python 2",
   "language": "python",
   "name": "python2"
  },
  "language_info": {
   "codemirror_mode": {
    "name": "ipython",
    "version": 2
   },
   "file_extension": ".py",
   "mimetype": "text/x-python",
   "name": "python",
   "nbconvert_exporter": "python",
   "pygments_lexer": "ipython2",
   "version": "2.7.10"
  }
 },
 "nbformat": 4,
 "nbformat_minor": 0
}
