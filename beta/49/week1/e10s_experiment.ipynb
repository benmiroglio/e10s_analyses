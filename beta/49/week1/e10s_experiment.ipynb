{
 "cells": [
  {
   "cell_type": "markdown",
   "metadata": {
    "collapsed": true
   },
   "source": [
    "# e10s-addons-beta49-week1: Main analysis\n",
    "\n",
    "(This covers data from 2016-08-03 to 2016-08-13 on Beta 49)"
   ]
  },
  {
   "cell_type": "markdown",
   "metadata": {},
   "source": [
    "## Data processing"
   ]
  },
  {
   "cell_type": "code",
   "execution_count": 1,
   "metadata": {
    "collapsed": false
   },
   "outputs": [
    {
     "name": "stdout",
     "output_type": "stream",
     "text": [
      "Unable to parse whitelist (/home/hadoop/anaconda2/lib/python2.7/site-packages/moztelemetry/histogram-whitelists.json). Assuming all histograms are acceptable.\n",
      "Populating the interactive namespace from numpy and matplotlib\n"
     ]
    }
   ],
   "source": [
    "import ujson as json\n",
    "import matplotlib.pyplot as plt\n",
    "import pandas as pd\n",
    "import numpy as np\n",
    "import math\n",
    "import plotly.plotly as py\n",
    "import IPython\n",
    "import pyspark.sql.functions as fun\n",
    "from pyspark.sql import Row\n",
    "\n",
    "from __future__ import division\n",
    "from moztelemetry.spark import get_pings, get_one_ping_per_client, get_pings_properties\n",
    "from montecarlino import grouped_permutation_test\n",
    "\n",
    "%pylab inline\n",
    "IPython.core.pylabtools.figsize(16, 7)"
   ]
  },
  {
   "cell_type": "code",
   "execution_count": 2,
   "metadata": {
    "collapsed": false
   },
   "outputs": [
    {
     "data": {
      "text/plain": [
       "128"
      ]
     },
     "execution_count": 2,
     "metadata": {},
     "output_type": "execute_result"
    }
   ],
   "source": [
    "sc.defaultParallelism"
   ]
  },
  {
   "cell_type": "code",
   "execution_count": 33,
   "metadata": {
    "collapsed": true
   },
   "outputs": [],
   "source": [
    "def chi2_distance(xs, ys, eps = 1e-10, normalize = True):\n",
    "    \"\"\" The comparison metric for histograms. \"\"\"\n",
    "    histA = xs.sum(axis=0)\n",
    "    histB = ys.sum(axis=0)\n",
    "    \n",
    "    if normalize:\n",
    "        histA = histA/histA.sum()\n",
    "        histB = histB/histB.sum()\n",
    "    \n",
    "    d = 0.5 * np.sum([((a - b) ** 2) / (a + b + eps)\n",
    "        for (a, b) in zip(histA, histB)])\n",
    "\n",
    "    return d\n",
    "\n",
    "def median_diff(xs, ys):\n",
    "    return np.median(xs) - np.median(ys)\n",
    "\n",
    "def compare_histogram(histogram, e10s, none10s, include_diff = True):\n",
    "    \"\"\" Compare an e10s histogram to a non-e10s one, and graph the results.\n",
    "        \n",
    "        Plots the two histograms overlaid on the same graph, and prints a p-value\n",
    "        for testing whether they are different. If 'include_diff' is True, also\n",
    "        draw a plot of the frequency differences for each bin.\n",
    "    \"\"\"\n",
    "    ## Convert frequency counts to relative frequency for each client histogram.\n",
    "    e10s = e10s.map(lambda x: x/x.sum())\n",
    "    none10s = none10s.map(lambda x: x/x.sum())\n",
    "    \n",
    "    ## Merge the group's client histograms by adding up the frequencies over all clients\n",
    "    ## in the group, separately for each bin.\n",
    "    eTotal = e10s.sum()\n",
    "    nTotal = none10s.sum()\n",
    "    \n",
    "    ## Convert the merged bin frequencies to relative percentages.\n",
    "    eTotal = 100*eTotal/eTotal.sum()\n",
    "    nTotal = 100*nTotal/nTotal.sum()\n",
    "    \n",
    "    fig = plt.figure()\n",
    "    fig.subplots_adjust(hspace=0.3)\n",
    "    \n",
    "    nrows = 2 if include_diff else 1\n",
    "    ax = fig.add_subplot(nrows, 1, 1)\n",
    "    ax2 = ax.twinx()\n",
    "    width = 0.4\n",
    "    ylim = max(eTotal.max(), nTotal.max())\n",
    "        \n",
    "    eTotal.plot(kind=\"bar\", alpha=0.5, color=\"green\", label=\"e10s\", ax=ax, width=width, position=0, ylim=(0, ylim + 1))\n",
    "    nTotal.plot(kind=\"bar\", alpha=0.5, color=\"blue\", label=\"non-e10s\", ax=ax2, width=width, position=1, grid=False, ylim=ax.get_ylim())\n",
    "    \n",
    "    ## Combine legend info from both Axes.\n",
    "    ax_lhl = ax.get_legend_handles_labels()\n",
    "    ax2_lhl = ax2.get_legend_handles_labels()\n",
    "    ax.legend(ax_lhl[0] + ax2_lhl[0], ax_lhl[1] + ax2_lhl[1], loc = 0)\n",
    " \n",
    "    plt.title(histogram)\n",
    "    ax.set_ylabel(\"Frequency %\")\n",
    "    \n",
    "    if include_diff:\n",
    "        ## Add a second barplot of the difference in frequency for each bucket.\n",
    "        fig.add_subplot(2, 1, 2)\n",
    "        enDiff = eTotal - nTotal\n",
    "        enDiff.plot(kind=\"bar\")\n",
    "        \n",
    "        plt.title(\"e10s/non-e10s difference (more e10s in bucket when > 0)\")\n",
    "        plt.ylabel(\"Diff in frequency %\")\n",
    "    \n",
    "    # Only display at most 100 tick labels on the x axis.\n",
    "    xticklabs = plt.gca().get_xticklabels()\n",
    "    max_x_ticks = 100\n",
    "    if len(xticklabs) > max_x_ticks:\n",
    "        step_size = math.ceil(float(len(xticklabs)) / max_x_ticks)\n",
    "        for i, tl in enumerate(xticklabs):\n",
    "            if i % step_size != 0:\n",
    "                tl.set_visible(False)\n",
    "    \n",
    "    plt.show()\n",
    "    \n",
    "    ## Compute a p-value for the chi-square distance between the groups' combined histograms.\n",
    "   # pvalue = grouped_permutation_test(chi2_distance, [e10s, none10s], num_samples=100)\n",
    "   # print \"The probability that the distributions for {} are differing by chance is {:.2f}.\".format(histogram, pvalue)\n",
    "\n",
    "def normalize_uptime_hour(frame):\n",
    "    \"\"\" Convert metrics to rates per hour of uptime. \"\"\"\n",
    "    frame = frame[frame[\"payload/simpleMeasurements/totalTime\"] > 60]\n",
    "    frame = 60 * 60 * frame.apply(lambda x: x / frame[\"payload/simpleMeasurements/totalTime\"]) # Metric per hour\n",
    "    frame.drop('payload/simpleMeasurements/totalTime', axis=1, inplace=True)\n",
    "    return frame\n",
    "    \n",
    "def compare_e10s_count_histograms(pings, cohort_sizes = {}, *histogram_names):\n",
    "    \"\"\" Read multiple count histograms from a collection of pings, and compare e10s/non-e10s for each.\n",
    "    \n",
    "        Treats count histograms as scalars for comparison purposes, without distinguishing between\n",
    "        parent and child processes. Expects a dict containing overall cohort sizes\n",
    "        for computing sample size proportions.\n",
    "    \"\"\"\n",
    "    properties = histogram_names + (\"payload/simpleMeasurements/totalTime\", \"e10s\")\n",
    "    frame = pd.DataFrame(get_pings_properties(pings, properties).collect())\n",
    "\n",
    "    e10s = frame[frame[\"e10s\"] == True]\n",
    "    e10s = normalize_uptime_hour(e10s)\n",
    "    \n",
    "    none10s = frame[frame[\"e10s\"] == False]\n",
    "    none10s = normalize_uptime_hour(none10s)\n",
    "    \n",
    "    for histogram in histogram_names:\n",
    "        if histogram not in none10s.columns:\n",
    "            continue\n",
    "        \n",
    "        ## Remove the property path from the histogram name for display purposes.\n",
    "        hist_name = hist_base_name(histogram)\n",
    "        ## Print a header for the block of graphs, including a link to the histogram definition.\n",
    "        print_with_markdown(\"Comparison for {} (count histogram):\".format(link_to_histogram(hist_name)))\n",
    "        \n",
    "        e10s_hist = e10s[histogram].dropna()\n",
    "        non_e10s_hist = none10s[histogram].dropna()\n",
    "        \n",
    "        ## Print some information on sample sizes.\n",
    "        print(\"{} non-e10s profiles have this histogram.\".format(\n",
    "                sample_size_str(len(non_e10s_hist), cohort_sizes.get(\"addons-set2a-control\"))))\n",
    "        print(\"{} e10s profiles have this histogram.\".format(\n",
    "                sample_size_str(len(e10s_hist), cohort_sizes.get(\"addons-set2a-test\"))))\n",
    "        ## If either group has no data, nothing more to do.\n",
    "        if len(non_e10s_hist) == 0 or len(e10s_hist) == 0:\n",
    "            continue\n",
    "        \n",
    "        print(\"\")\n",
    "        compare_scalars(hist_name + \" per hour\", e10s_hist, non_e10s_hist)\n",
    " \n",
    "def compare_e10s_histograms(pings, cohort_sizes = {}, *histogram_names):\n",
    "    \"\"\" Read multiple histograms from a collection of pings, and compare e10s/non-e10s for each.\n",
    "    \n",
    "        Outputs separate comparisons for parent process, child processes, and merged histograms.\n",
    "        Expects a dict containing overall cohort sizes for computing sample\n",
    "        size proportions.\n",
    "    \"\"\"\n",
    "    ## Load histogram data from the ping set, separating parent & child processes for e10s.\n",
    "    frame = pd.DataFrame(get_pings_properties(pings, histogram_names + (\"e10s\",) , with_processes=True).collect())\n",
    "    e10s = frame[frame[\"e10s\"] == True]\n",
    "    none10s = frame[frame[\"e10s\"] == False]\n",
    "    \n",
    "    for histogram in histogram_names:\n",
    "        if histogram not in none10s.columns:\n",
    "            continue\n",
    "        \n",
    "        ## Remove the property path from the histogram name for display purposes.\n",
    "        hist_name = hist_base_name(histogram)\n",
    "        ## Print a header for the block of graphs, including a link to the histogram definition.\n",
    "        print_with_markdown(\"Comparison for {}:\".format(link_to_histogram(hist_name)))\n",
    "        \n",
    "        ## Compare the main histogram for non-e10s against each of 3 for e10s.\n",
    "        hist_data = {\n",
    "            \"non_e10s\": none10s[histogram],\n",
    "            \"e10s_merged\": e10s[histogram],\n",
    "            \"e10s_parent\": e10s[histogram + \"_parent\"],\n",
    "            \"e10s_children\": e10s[histogram + \"_children\"]\n",
    "        }\n",
    "        for htype in hist_data:\n",
    "            hist_data[htype] = hist_data[htype].dropna()\n",
    "        \n",
    "        ## Print some information on sample sizes.\n",
    "        sample_sizes = { htype: len(hdata) for htype, hdata in hist_data.iteritems() }\n",
    "        print(\"{} non-e10s profiles have this histogram.\".format(\n",
    "                sample_size_str(sample_sizes[\"non_e10s\"], cohort_sizes.get(\"addons-set2a-control\"))))\n",
    "        print(\"{} e10s profiles have this histogram.\".format(\n",
    "                sample_size_str(sample_sizes[\"e10s_merged\"], cohort_sizes.get(\"addons-set2a-test\"))))\n",
    "        ## If either group has no data, nothing more to do.\n",
    "        if sample_sizes[\"non_e10s\"] == 0 or sample_sizes[\"e10s_merged\"] == 0:\n",
    "            continue\n",
    "        \n",
    "        print(\"{} e10s profiles have the parent histogram.\".format(\n",
    "                sample_size_str(sample_sizes[\"e10s_parent\"], cohort_sizes.get(\"addons-set2a-test\"))))\n",
    "        print(\"{} e10s profiles have the children histogram.\".format(\n",
    "                sample_size_str(sample_sizes[\"e10s_children\"], cohort_sizes.get(\"addons-set2a-test\"))))\n",
    "        \n",
    "        has_parent = sample_sizes[\"e10s_parent\"] > 0\n",
    "        has_children = sample_sizes[\"e10s_children\"] > 0\n",
    "        \n",
    "        ## Compare merged histograms, unless e10s group has either no parents or no children.\n",
    "        if has_children and has_parent:\n",
    "            compare_histogram(hist_name + \" (e10s merged)\", hist_data[\"e10s_merged\"], hist_data[\"non_e10s\"])\n",
    "        \n",
    "        if has_parent:\n",
    "            compare_histogram(hist_name + \" (parent)\", hist_data[\"e10s_parent\"], hist_data[\"non_e10s\"])\n",
    "\n",
    "        if has_children:\n",
    "            compare_histogram(hist_name + \" (children)\", hist_data[\"e10s_children\"], hist_data[\"non_e10s\"])\n",
    "\n",
    "def compare_scalars(metric, e10s_data, non_e10s_data, unit = \"units\"):\n",
    "    \"\"\" Prints info about the median difference between the groups, together with a p-value\n",
    "        for testing the difference.\n",
    "        \n",
    "        Optionally include a string indicating the units the metric is measured in.\n",
    "    \"\"\"\n",
    "    e10s_data = e10s_data.dropna()\n",
    "    non_e10s_data = non_e10s_data.dropna()\n",
    "    if len(e10s_data) == 0 or len(non_e10s_data) == 0:\n",
    "        print(\"Cannot run comparison: one of the groups has no non-missing observations.\")\n",
    "        return\n",
    "    \n",
    "    print(\"Comparison for {}{}:\\n\".format(metric, \" ({})\".format(unit) if unit != \"units\" else \"\"))\n",
    "    e10s_median = np.median(e10s_data)\n",
    "    non_e10s_median = np.median(non_e10s_data)\n",
    "    mdiff = median_diff(e10s_data, non_e10s_data)\n",
    "    print(\"- Median for e10s group is {:.3g} {} different from median for non-e10s group (e10s median is {}).\"\\\n",
    "         .format(mdiff, unit, \"higher\" if mdiff >= 0 else \"lower\"))\n",
    "    print(\"- This is a relative difference of {:.1f}%.\".format(float(mdiff) / non_e10s_median * 100))\n",
    "    print(\"- E10s group median is {:.4g}, non-e10s group median is {:.4g}.\".format(e10s_median, non_e10s_median))\n",
    "    print(\"\\nThe probability of this difference occurring purely by chance is {:.3f}.\"\\\n",
    "        .format(grouped_permutation_test(median_diff, [e10s_data, non_e10s_data], num_samples=10000)))\n",
    "\n",
    "    \n",
    "def link_to_histogram(hist_name):\n",
    "    \"\"\" Create a link to the histogram definition in Markdown. \"\"\"\n",
    "    return \"[{}](https://dxr.mozilla.org/mozilla-central/search?q={}+file%3AHistograms.json&redirect=true)\"\\\n",
    "            .format(hist_name, hist_name)\n",
    "\n",
    "def hist_base_name(path_to_histogram):\n",
    "    \"\"\" Remove any path components from histogram name.\n",
    "    \n",
    "        If histogram is specified as a path in the payload, with separator '/',\n",
    "        remove everything but the last component (the actual name).\n",
    "    \"\"\"\n",
    "    return path_to_histogram.rsplit(\"/\")[-1]\n",
    "\n",
    "## Hack to render links in code output.\n",
    "from IPython.display import Markdown, display\n",
    "def print_with_markdown(md_text):\n",
    "    \"\"\" Print Markdown text so that it renders correctly in the cell output. \"\"\"\n",
    "    display(Markdown(md_text))\n",
    "\n",
    "def sample_size_str(sample_size, cohort_size=None):\n",
    "    \"\"\" Convert a sample size to a string representation, including a percentage if available. \"\"\"\n",
    "    if sample_size == 0:\n",
    "        return \"No\"\n",
    "    if cohort_size:\n",
    "        if sample_size == cohort_size:\n",
    "            return \"All\"\n",
    "        return \"{} ({:.1f}%)\".format(sample_size, float(sample_size) / cohort_size * 100)\n",
    "    return str(sample_size)"
   ]
  },
  {
   "cell_type": "markdown",
   "metadata": {},
   "source": [
    "### Get e10s/non-e10s cohorts for the add-ons experiment"
   ]
  },
  {
   "cell_type": "markdown",
   "metadata": {},
   "source": [
    "The derived dataset is computed from profiles on Beta 49 who have e10sCohort set. It contains a single record (ping) per client, which is randomly selected from among the client's pings during the date range."
   ]
  },
  {
   "cell_type": "code",
   "execution_count": 4,
   "metadata": {
    "collapsed": false
   },
   "outputs": [
    {
     "name": "stdout",
     "output_type": "stream",
     "text": [
      "root\n",
      " |-- clientId: string (nullable = false)\n",
      " |-- e10sCohort: string (nullable = false)\n",
      " |-- creationTimestamp: string (nullable = false)\n",
      " |-- submissionDate: string (nullable = false)\n",
      " |-- documentId: string (nullable = false)\n",
      " |-- sampleId: integer (nullable = false)\n",
      " |-- buildId: string (nullable = false)\n",
      " |-- simpleMeasurements: string (nullable = false)\n",
      " |-- settings: string (nullable = false)\n",
      " |-- addons: string (nullable = false)\n",
      " |-- system: string (nullable = false)\n",
      " |-- build: string (nullable = false)\n",
      " |-- threadHangStats: string (nullable = false)\n",
      " |-- histograms: string (nullable = false)\n",
      " |-- keyedHistograms: string (nullable = false)\n",
      " |-- childPayloads: string (nullable = false)\n",
      " |-- processes: string (nullable = false)\n",
      "\n"
     ]
    }
   ],
   "source": [
    "dataset = sqlContext.read.parquet(\"s3://telemetry-parquet/e10s_experiment_view/e10s_addons_beta49_cohorts/v20160803_20160813/\")\n",
    "dataset.printSchema()"
   ]
  },
  {
   "cell_type": "markdown",
   "metadata": {},
   "source": [
    "How many records are in the overall dataset?"
   ]
  },
  {
   "cell_type": "code",
   "execution_count": 5,
   "metadata": {
    "collapsed": false
   },
   "outputs": [
    {
     "data": {
      "text/plain": [
       "2326301"
      ]
     },
     "execution_count": 5,
     "metadata": {},
     "output_type": "execute_result"
    }
   ],
   "source": [
    "dataset.count()"
   ]
  },
  {
   "cell_type": "markdown",
   "metadata": {},
   "source": [
    "What are the cohorts, and how many clients do we have in each cohort?"
   ]
  },
  {
   "cell_type": "code",
   "execution_count": 6,
   "metadata": {
    "collapsed": false
   },
   "outputs": [
    {
     "name": "stdout",
     "output_type": "stream",
     "text": [
      "CPU times: user 8 ms, sys: 0 ns, total: 8 ms\n",
      "Wall time: 12.2 s\n",
      "\n",
      "Total number of clients: 2326301\n"
     ]
    },
    {
     "data": {
      "text/plain": [
       "[(u'addons-set2a-control', 28762, '1.24%'),\n",
       " (u'addons-set2a-test', 28890, '1.24%'),\n",
       " (u'control', 453473, '19.49%'),\n",
       " (u'disqualified', 15, '0.00%'),\n",
       " (u'disqualified-control', 679339, '29.20%'),\n",
       " (u'disqualified-test', 679175, '29.20%'),\n",
       " (u'optedIn', 2794, '0.12%'),\n",
       " (u'optedOut', 9893, '0.43%'),\n",
       " (u'test', 441768, '18.99%'),\n",
       " (u'unknown', 2123, '0.09%'),\n",
       " (u'unsupportedChannel', 69, '0.00%')]"
      ]
     },
     "execution_count": 6,
     "metadata": {},
     "output_type": "execute_result"
    }
   ],
   "source": [
    "%time cohort_counts = dataset.groupby(\"e10sCohort\").count().collect()\n",
    "dataset_count = sum(map(lambda r: r[\"count\"], cohort_counts))\n",
    "\n",
    "def cohort_proportions(r):\n",
    "    prop = r[\"count\"] * 100.0 / dataset_count\n",
    "    return (r[\"e10sCohort\"], r[\"count\"], \"{:.2f}%\".format(prop))\n",
    "\n",
    "print(\"\\nTotal number of clients: {}\".format(dataset_count))\n",
    "sorted(map(cohort_proportions, cohort_counts), key = lambda r: r[0])"
   ]
  },
  {
   "cell_type": "markdown",
   "metadata": {},
   "source": [
    "Restrict to pings belonging to the e10s add-ons experiment. Also include the standard e10s test/control for comparison."
   ]
  },
  {
   "cell_type": "code",
   "execution_count": 16,
   "metadata": {
    "collapsed": false
   },
   "outputs": [],
   "source": [
    "addons_exp_dataset = dataset.filter(\n",
    "        \"e10sCohort in ('addons-set2a-test', 'addons-set2a-control', 'test', 'control')\")"
   ]
  },
  {
   "cell_type": "markdown",
   "metadata": {},
   "source": [
    "How many clients are left?"
   ]
  },
  {
   "cell_type": "code",
   "execution_count": 10,
   "metadata": {
    "collapsed": false
   },
   "outputs": [
    {
     "data": {
      "text/plain": [
       "952893"
      ]
     },
     "execution_count": 10,
     "metadata": {},
     "output_type": "execute_result"
    }
   ],
   "source": [
    "addons_exp_dataset.count()"
   ]
  },
  {
   "cell_type": "markdown",
   "metadata": {},
   "source": [
    "We want to make sure that the pings tagged into the two cohorts satisfy the basic assumptions of the experiment, as this not guaranteed. All pings should have active addons, and e10s should be enabled if and only if the ping belongs to the test cohort."
   ]
  },
  {
   "cell_type": "code",
   "execution_count": 17,
   "metadata": {
    "collapsed": false
   },
   "outputs": [],
   "source": [
    "def e10s_status_check(settings, addons):\n",
    "    \"\"\" Check whether e10s is enabled, and whether there are add-ons. \"\"\"\n",
    "    e10sEnabled = json.loads(settings).get(\"e10sEnabled\")\n",
    "    active_addons = json.loads(addons).get(\"activeAddons\")\n",
    "    return Row(\n",
    "        e10s_enabled = bool(e10sEnabled), \n",
    "        has_addons = bool(active_addons)\n",
    "    )\n",
    "\n",
    "def bad_ping(cohort, settings, addons):\n",
    "    \"\"\" e10s should be enabled iff the profile is in the test cohort, and profiles should have active add-ons\n",
    "        iff they are in the addons cohorts. \n",
    "    \"\"\"\n",
    "    check_data = e10s_status_check(settings, addons)\n",
    "    is_bad = cohort.endswith(\"test\") != check_data.e10s_enabled\n",
    "    if cohort.startswith(\"addons\"):\n",
    "        is_bad = is_bad or not check_data.has_addons\n",
    "    return is_bad\n",
    "\n",
    "## Add a Column to the DF with the outcome of the check.\n",
    "## This will be used to remove any bad rows after examining them.\n",
    "from pyspark.sql.types import BooleanType\n",
    "status_check_udf = fun.udf(bad_ping, BooleanType())\n",
    "addons_exp_dataset_check = addons_exp_dataset.withColumn(\"badPing\",\n",
    "    status_check_udf(addons_exp_dataset.e10sCohort, addons_exp_dataset.settings, addons_exp_dataset.addons))"
   ]
  },
  {
   "cell_type": "markdown",
   "metadata": {},
   "source": [
    "If there are any bad pings, describe the problems and remove them from the dataset."
   ]
  },
  {
   "cell_type": "code",
   "execution_count": 18,
   "metadata": {
    "collapsed": false
   },
   "outputs": [
    {
     "name": "stdout",
     "output_type": "stream",
     "text": [
      "Issues:\n",
      "(u'addons-set2a-test', Row(e10s_enabled=False, has_addons=True)): 9\n",
      "(u'addons-set2a-test', Row(e10s_enabled=True, has_addons=False)): 60\n",
      "(u'addons-set2a-control', Row(e10s_enabled=False, has_addons=False)): 79\n",
      "\n",
      "Removing these pings from the dataset.\n",
      "The dataset now contains 952745 clients\n"
     ]
    }
   ],
   "source": [
    "addons_exp_dataset_bad = addons_exp_dataset_check.filter(addons_exp_dataset_check.badPing)\\\n",
    "    .select(\"e10sCohort\", \"settings\", \"addons\")\\\n",
    "    .rdd\n",
    "\n",
    "if addons_exp_dataset_bad.isEmpty():\n",
    "    print(\"No issues\")\n",
    "else:\n",
    "    check_counts = addons_exp_dataset_bad\\\n",
    "        .map(lambda r: (r.e10sCohort, e10s_status_check(r.settings, r.addons)))\\\n",
    "        .countByValue()\n",
    "    print(\"Issues:\")\n",
    "    for k, v in check_counts.iteritems():\n",
    "        print(\"{}: {}\".format(k, v))\n",
    "    print(\"\\nRemoving these pings from the dataset.\")\n",
    "    addons_exp_dataset = addons_exp_dataset_check.filter(~addons_exp_dataset_check.badPing).drop(\"badPing\")\n",
    "    print(\"The dataset now contains {} clients\".format(addons_exp_dataset.count()))"
   ]
  },
  {
   "cell_type": "markdown",
   "metadata": {},
   "source": [
    "### Transform Dataframe to RDD of pings"
   ]
  },
  {
   "cell_type": "code",
   "execution_count": 23,
   "metadata": {
    "collapsed": false
   },
   "outputs": [],
   "source": [
    "def row_2_ping(row):\n",
    "    ping = {\n",
    "        \"payload\": {\"simpleMeasurements\": json.loads(row.simpleMeasurements) if row.simpleMeasurements else {},\n",
    "                    \"histograms\": json.loads(row.histograms) if row.histograms else {},\n",
    "                    \"keyedHistograms\": json.loads(row.keyedHistograms) if row.keyedHistograms else {},\n",
    "                    \"childPayloads\": json.loads(row.childPayloads) if row.childPayloads else {},\n",
    "                    \"threadHangStats\": json.loads(row.threadHangStats)} if row.threadHangStats else {},\n",
    "       \"e10s\": True if row.e10sCohort.endswith(\"test\") else False,\n",
    "       \"system\": json.loads(row.system),\n",
    "       \"cohort\": row.e10sCohort\n",
    "    }\n",
    "    return ping"
   ]
  },
  {
   "cell_type": "code",
   "execution_count": 34,
   "metadata": {
    "collapsed": false,
    "scrolled": true
   },
   "outputs": [],
   "source": [
    "def notxp(p):\n",
    "    os = p.get(\"system\", {}).get(\"os\", {})\n",
    "    return os[\"name\"] != \"Windows_NT\" or os[\"version\"] != \"5.1\"\n",
    "\n",
    "subset = addons_exp_dataset.rdd.map(row_2_ping).filter(notxp)"
   ]
  },
  {
   "cell_type": "code",
   "execution_count": 35,
   "metadata": {
    "collapsed": false
   },
   "outputs": [],
   "source": [
    "def add_gecko_activity(ping):\n",
    "    uptime = ping[\"payload\"].get(\"simpleMeasurements\", {}).get(\"totalTime\", -1) / 60\n",
    "    if uptime <= 0:\n",
    "        return ping\n",
    "\n",
    "    def get_hangs_per_minute(threads, thread_name, uptime):\n",
    "        for thread in threads:\n",
    "            if thread[\"name\"] == thread_name:\n",
    "                activity = thread[\"activity\"][\"values\"]\n",
    "                if activity:\n",
    "                    histogram = pd.Series(activity.values(), index=map(int, activity.keys())).sort_index()\n",
    "                    # 255 is upper bound for 128-255ms bucket.\n",
    "                    return histogram[histogram.index >= 255].sum() / uptime\n",
    "        return None\n",
    "\n",
    "    threads = ping[\"payload\"].get(\"threadHangStats\", {})\n",
    "    ping[\"parent_hangs_per_minute\"] = get_hangs_per_minute(threads, \"Gecko\", uptime)\n",
    "\n",
    "    child_payloads = ping[\"payload\"].get(\"childPayloads\", [])\n",
    "    child_hangs_per_minute = []\n",
    "    for payload in child_payloads:\n",
    "        child_uptime = payload.get(\"simpleMeasurements\", {}).get(\"totalTime\", -1) / 60\n",
    "        if child_uptime <= 0:\n",
    "            continue\n",
    "        child_threads = payload.get(\"threadHangStats\", {})\n",
    "        child_hangs = get_hangs_per_minute(child_threads, \"Gecko_Child\", child_uptime)\n",
    "        if child_hangs:\n",
    "            child_hangs_per_minute.append(child_hangs)\n",
    "\n",
    "    if len(child_hangs_per_minute) > 0:\n",
    "        ping[\"child_hangs_per_minute\"] = sum(child_hangs_per_minute) / len(child_hangs_per_minute)\n",
    "\n",
    "    return ping\n",
    "\n",
    "subset = subset.map(add_gecko_activity)"
   ]
  },
  {
   "cell_type": "markdown",
   "metadata": {},
   "source": [
    "At this point, how many clients are left in each cohort?"
   ]
  },
  {
   "cell_type": "code",
   "execution_count": 36,
   "metadata": {
    "collapsed": false
   },
   "outputs": [
    {
     "data": {
      "text/plain": [
       "defaultdict(int,\n",
       "            {u'addons-set2a-control': 28639,\n",
       "             u'addons-set2a-test': 28746,\n",
       "             u'control': 452717,\n",
       "             u'test': 441044})"
      ]
     },
     "execution_count": 36,
     "metadata": {},
     "output_type": "execute_result"
    }
   ],
   "source": [
    "subset = subset.map(lambda r: (r[\"cohort\"], r))\n",
    "cohort_sizes = subset.countByKey()\n",
    "cohort_sizes"
   ]
  },
  {
   "cell_type": "markdown",
   "metadata": {},
   "source": [
    "We include the standard e10s cohorts to provide an additional comparison to the addon cohorts. If we see an e10s-related difference for profiles with add-ons, we want to see whether the difference is specific to having add-ons, or whether it occurs regardless.\n",
    "\n",
    "Since the addon cohorts are much smaller than the standard ones, we draw samples from the standard ones to make them approximately the same size."
   ]
  },
  {
   "cell_type": "code",
   "execution_count": 37,
   "metadata": {
    "collapsed": true
   },
   "outputs": [],
   "source": [
    "target_prop_test = cohort_sizes[\"addons-set2a-test\"] / cohort_sizes[\"test\"]\n",
    "target_prop_control = cohort_sizes[\"addons-set2a-control\"] / cohort_sizes[\"control\"]\n",
    "sampling_props = {\n",
    "    \"addons-set2a-test\": 1.0,\n",
    "    \"addons-set2a-control\": 1.0,\n",
    "    \"test\": target_prop_test,\n",
    "    \"control\": target_prop_control    \n",
    "}\n",
    "subset = subset.sampleByKey(False, sampling_props)"
   ]
  },
  {
   "cell_type": "markdown",
   "metadata": {},
   "source": [
    "Now compute the final cohort sizes, and wrap them into the histogram comparison functions."
   ]
  },
  {
   "cell_type": "code",
   "execution_count": 38,
   "metadata": {
    "collapsed": false
   },
   "outputs": [
    {
     "name": "stdout",
     "output_type": "stream",
     "text": [
      "Cohort sizes:\n",
      " - e10s (with add-ons): 28746\n",
      " - non-e10s (with add-ons): 28639\n",
      " - e10s (no add-ons): 28659\n",
      " - non-e10s (no add-ons): 28588\n"
     ]
    }
   ],
   "source": [
    "e10s_addon_cohort_sizes = subset.countByKey()\n",
    "\n",
    "print(\"Cohort sizes:\")\n",
    "print(\" - e10s (with add-ons): {}\".format(e10s_addon_cohort_sizes[\"addons-set2a-test\"]))\n",
    "print(\" - non-e10s (with add-ons): {}\".format(e10s_addon_cohort_sizes[\"addons-set2a-control\"]))\n",
    "print(\" - e10s (no add-ons): {}\".format(e10s_addon_cohort_sizes[\"test\"]))\n",
    "print(\" - non-e10s (no add-ons): {}\".format(e10s_addon_cohort_sizes[\"control\"]))\n",
    "\n",
    "def compare_histograms(pings, *histogram_names):\n",
    "    return compare_e10s_histograms(pings, e10s_addon_cohort_sizes, *histogram_names)\n",
    "    \n",
    "def compare_count_histograms(pings, *histogram_names):\n",
    "    return compare_e10s_count_histograms(pings, e10s_addon_cohort_sizes, *histogram_names)\n",
    "\n",
    "## Remove the cohort label key from the dataset.\n",
    "subset = subset.map(lambda r: r[1])\\\n",
    "    .persist(StorageLevel.MEMORY_AND_DISK_SER)"
   ]
  },
  {
   "cell_type": "markdown",
   "metadata": {},
   "source": [
    "## 1.3 Jank"
   ]
  },
  {
   "cell_type": "code",
   "execution_count": null,
   "metadata": {
    "collapsed": false
   },
   "outputs": [],
   "source": [
    "compare_histograms(subset,  \n",
    "                   \"payload/histograms/GC_MAX_PAUSE_MS\",\n",
    "                   \"payload/histograms/CYCLE_COLLECTOR_MAX_PAUSE\",\n",
    "                   \"payload/histograms/INPUT_EVENT_RESPONSE_MS\")"
   ]
  },
  {
   "cell_type": "markdown",
   "metadata": {},
   "source": [
    "## 1.4 Page load"
   ]
  },
  {
   "cell_type": "code",
   "execution_count": null,
   "metadata": {
    "collapsed": false
   },
   "outputs": [],
   "source": [
    "compare_histograms(subset, \"payload/histograms/FX_PAGE_LOAD_MS\")"
   ]
  },
  {
   "cell_type": "markdown",
   "metadata": {},
   "source": [
    "## 1.5 Startup/shutdown time"
   ]
  },
  {
   "cell_type": "code",
   "execution_count": null,
   "metadata": {
    "collapsed": false
   },
   "outputs": [],
   "source": [
    "simple = pd.DataFrame(get_pings_properties(subset, [\n",
    "    \"payload/simpleMeasurements/firstPaint\",\n",
    "    \"payload/simpleMeasurements/sessionRestored\",\n",
    "    \"payload/simpleMeasurements/shutdownDuration\",\n",
    "    \"e10s\"]).collect())\n",
    "\n",
    "eSimple = simple[simple[\"e10s\"] == True]\n",
    "nSimple = simple[simple[\"e10s\"] == False]\n",
    "len(eSimple), len(nSimple)"
   ]
  },
  {
   "cell_type": "code",
   "execution_count": null,
   "metadata": {
    "collapsed": false
   },
   "outputs": [],
   "source": [
    "compare_scalars(\"firstPaint time\",\n",
    "                eSimple[\"payload/simpleMeasurements/firstPaint\"],\n",
    "                nSimple[\"payload/simpleMeasurements/firstPaint\"],\n",
    "               \"ms\")"
   ]
  },
  {
   "cell_type": "code",
   "execution_count": null,
   "metadata": {
    "collapsed": false
   },
   "outputs": [],
   "source": [
    "compare_scalars(\"sessionRestored time\",\n",
    "                eSimple[\"payload/simpleMeasurements/sessionRestored\"],\n",
    "                nSimple[\"payload/simpleMeasurements/sessionRestored\"],\n",
    "               \"ms\")"
   ]
  },
  {
   "cell_type": "code",
   "execution_count": null,
   "metadata": {
    "collapsed": false
   },
   "outputs": [],
   "source": [
    "compare_scalars(\"shutdownDuration time\",\n",
    "                eSimple[\"payload/simpleMeasurements/shutdownDuration\"],\n",
    "                nSimple[\"payload/simpleMeasurements/shutdownDuration\"],\n",
    "               \"ms\")"
   ]
  },
  {
   "cell_type": "markdown",
   "metadata": {},
   "source": [
    "## 1.6 Scrolling"
   ]
  },
  {
   "cell_type": "code",
   "execution_count": null,
   "metadata": {
    "collapsed": false,
    "scrolled": true
   },
   "outputs": [],
   "source": [
    "compare_histograms(subset, \"payload/histograms/FX_REFRESH_DRIVER_SYNC_SCROLL_FRAME_DELAY_MS\")"
   ]
  },
  {
   "cell_type": "markdown",
   "metadata": {},
   "source": [
    "## 1.7 Plugin jank"
   ]
  },
  {
   "cell_type": "code",
   "execution_count": null,
   "metadata": {
    "collapsed": false
   },
   "outputs": [],
   "source": [
    "compare_histograms(subset,\n",
    "                   \"payload/histograms/BLOCKED_ON_PLUGIN_MODULE_INIT_MS\",\n",
    "                   \"payload/histograms/BLOCKED_ON_PLUGIN_INSTANCE_INIT_MS\",\n",
    "                   \"payload/histograms/BLOCKED_ON_PLUGIN_INSTANCE_DESTROY_MS\")"
   ]
  },
  {
   "cell_type": "markdown",
   "metadata": {},
   "source": [
    "## 1.8 Memory usage"
   ]
  },
  {
   "cell_type": "code",
   "execution_count": null,
   "metadata": {
    "collapsed": false
   },
   "outputs": [],
   "source": [
    "compare_histograms(subset,\n",
    "                   \"payload/histograms/MEMORY_TOTAL\",\n",
    "                   \"payload/histograms/MEMORY_VSIZE_MAX_CONTIGUOUS\")"
   ]
  },
  {
   "cell_type": "markdown",
   "metadata": {},
   "source": [
    "## 1.9 UI Smoothness"
   ]
  },
  {
   "cell_type": "code",
   "execution_count": null,
   "metadata": {
    "collapsed": false
   },
   "outputs": [],
   "source": [
    "compare_histograms(subset, \"payload/histograms/FX_TAB_SWITCH_TOTAL_MS\")"
   ]
  },
  {
   "cell_type": "markdown",
   "metadata": {},
   "source": [
    "## 1.11 Slow Scripts"
   ]
  },
  {
   "cell_type": "code",
   "execution_count": null,
   "metadata": {
    "collapsed": false
   },
   "outputs": [],
   "source": [
    "compare_count_histograms(subset, \"payload/histograms/SLOW_SCRIPT_PAGE_COUNT\")"
   ]
  },
  {
   "cell_type": "markdown",
   "metadata": {},
   "source": [
    "----------"
   ]
  },
  {
   "cell_type": "markdown",
   "metadata": {},
   "source": [
    "# Previous metrics"
   ]
  },
  {
   "cell_type": "markdown",
   "metadata": {},
   "source": [
    "## 1. Generic stuff"
   ]
  },
  {
   "cell_type": "code",
   "execution_count": null,
   "metadata": {
    "collapsed": false
   },
   "outputs": [],
   "source": [
    "simple = pd.DataFrame(get_pings_properties(subset, [\n",
    "    \"payload/simpleMeasurements/firstPaint\",\n",
    "    \"payload/simpleMeasurements/firstLoadURI\",\n",
    "    \"payload/simpleMeasurements/sessionRestored\",\n",
    "    \"payload/simpleMeasurements/sessionRestoreInit\",\n",
    "    \"payload/simpleMeasurements/shutdownDuration\",\n",
    "    \"e10s\",\n",
    "    \"parent_hangs_per_minute\",\n",
    "    \"child_hangs_per_minute\"]).collect())\n",
    "\n",
    "eSimple = simple[simple[\"e10s\"] == True]\n",
    "nSimple = simple[simple[\"e10s\"] == False]\n",
    "len(eSimple), len(nSimple)"
   ]
  },
  {
   "cell_type": "markdown",
   "metadata": {},
   "source": [
    "#### a) Startup time evaluation:"
   ]
  },
  {
   "cell_type": "code",
   "execution_count": null,
   "metadata": {
    "collapsed": false
   },
   "outputs": [],
   "source": [
    "compare_scalars(\"startup time\", eSimple[\"payload/simpleMeasurements/firstPaint\"].dropna(), nSimple[\"payload/simpleMeasurements/firstPaint\"].dropna())"
   ]
  },
  {
   "cell_type": "code",
   "execution_count": null,
   "metadata": {
    "collapsed": false
   },
   "outputs": [],
   "source": [
    "compare_scalars(\"startup time\", eSimple[\"payload/simpleMeasurements/firstLoadURI\"].dropna(), nSimple[\"payload/simpleMeasurements/firstLoadURI\"].dropna())"
   ]
  },
  {
   "cell_type": "markdown",
   "metadata": {},
   "source": [
    "#### b) Shutdown time evaluation:"
   ]
  },
  {
   "cell_type": "code",
   "execution_count": null,
   "metadata": {
    "collapsed": false
   },
   "outputs": [],
   "source": [
    "compare_scalars(\"shutdown duration\", eSimple[\"payload/simpleMeasurements/shutdownDuration\"].dropna(), nSimple[\"payload/simpleMeasurements/shutdownDuration\"].dropna())"
   ]
  },
  {
   "cell_type": "markdown",
   "metadata": {},
   "source": [
    "#### c) Animation smoothness:"
   ]
  },
  {
   "cell_type": "code",
   "execution_count": null,
   "metadata": {
    "collapsed": false
   },
   "outputs": [],
   "source": [
    "compare_histograms(subset,\n",
    "                   \"payload/histograms/FX_TAB_ANIM_ANY_FRAME_INTERVAL_MS\",\n",
    "                   \"payload/histograms/FX_TAB_ANIM_OPEN_FRAME_INTERVAL_MS\",\n",
    "                   \"payload/histograms/FX_TAB_ANIM_OPEN_PREVIEW_FRAME_INTERVAL_MS\")"
   ]
  },
  {
   "cell_type": "markdown",
   "metadata": {},
   "source": [
    "#### d) Graphics:"
   ]
  },
  {
   "cell_type": "code",
   "execution_count": null,
   "metadata": {
    "collapsed": false
   },
   "outputs": [],
   "source": [
    "compare_histograms(subset, \"payload/histograms/REFRESH_DRIVER_TICK\",\n",
    "                           \"payload/histograms/FX_REFRESH_DRIVER_CHROME_FRAME_DELAY_MS\")"
   ]
  },
  {
   "cell_type": "markdown",
   "metadata": {},
   "source": [
    "## 2. Responsivness"
   ]
  },
  {
   "cell_type": "markdown",
   "metadata": {},
   "source": [
    "#### a) Event processing"
   ]
  },
  {
   "cell_type": "code",
   "execution_count": null,
   "metadata": {
    "collapsed": false,
    "scrolled": false
   },
   "outputs": [],
   "source": [
    "compare_histograms(subset, \"payload/histograms/EVENTLOOP_UI_ACTIVITY_EXP_MS\",\n",
    "                           \"payload/histograms/INPUT_EVENT_RESPONSE_MS\")"
   ]
  },
  {
   "cell_type": "code",
   "execution_count": null,
   "metadata": {
    "collapsed": false
   },
   "outputs": [],
   "source": [
    "compare_scalars(\"hangs over 100ms per minute (parent)\",\n",
    "                eSimple[\"parent_hangs_per_minute\"].dropna(),\n",
    "                nSimple[\"parent_hangs_per_minute\"].dropna())"
   ]
  },
  {
   "cell_type": "code",
   "execution_count": null,
   "metadata": {
    "collapsed": false
   },
   "outputs": [],
   "source": [
    "compare_scalars(\"hangs over 100ms per minute (parent + child)\",\n",
    "                (eSimple[\"child_hangs_per_minute\"] + eSimple[\"parent_hangs_per_minute\"]).dropna(),\n",
    "                nSimple[\"parent_hangs_per_minute\"].dropna())"
   ]
  },
  {
   "cell_type": "markdown",
   "metadata": {},
   "source": [
    "#### b) Plugins"
   ]
  },
  {
   "cell_type": "code",
   "execution_count": null,
   "metadata": {
    "collapsed": false
   },
   "outputs": [],
   "source": [
    "compare_count_histograms(subset, \"payload/keyedHistograms/SUBPROCESS_ABNORMAL_ABORT/plugin\")"
   ]
  },
  {
   "cell_type": "markdown",
   "metadata": {},
   "source": [
    "#### c) Page load"
   ]
  },
  {
   "cell_type": "code",
   "execution_count": null,
   "metadata": {
    "collapsed": false
   },
   "outputs": [],
   "source": [
    "compare_histograms(subset, \"payload/histograms/FX_PAGE_LOAD_MS\")"
   ]
  },
  {
   "cell_type": "markdown",
   "metadata": {},
   "source": [
    "#### d) Slow scripts"
   ]
  },
  {
   "cell_type": "code",
   "execution_count": null,
   "metadata": {
    "collapsed": false
   },
   "outputs": [],
   "source": [
    "compare_count_histograms(subset, \"payload/histograms/SLOW_SCRIPT_NOTICE_COUNT\")"
   ]
  },
  {
   "cell_type": "code",
   "execution_count": null,
   "metadata": {
    "collapsed": false
   },
   "outputs": [],
   "source": [
    "compare_count_histograms(subset, \"payload/histograms/SLOW_SCRIPT_PAGE_COUNT\")"
   ]
  },
  {
   "cell_type": "markdown",
   "metadata": {},
   "source": [
    "#### e) Window open time"
   ]
  },
  {
   "cell_type": "code",
   "execution_count": null,
   "metadata": {
    "collapsed": false
   },
   "outputs": [],
   "source": [
    "compare_histograms(subset, \"payload/histograms/FX_NEW_WINDOW_MS\")"
   ]
  },
  {
   "cell_type": "markdown",
   "metadata": {},
   "source": [
    "#### f) Garbage collection"
   ]
  },
  {
   "cell_type": "code",
   "execution_count": null,
   "metadata": {
    "collapsed": false,
    "scrolled": false
   },
   "outputs": [],
   "source": [
    "compare_histograms(subset, \n",
    "                   \"payload/histograms/GC_MS\", \n",
    "                   \"payload/histograms/GC_MAX_PAUSE_MS\", \n",
    "                   \"payload/histograms/GC_MARK_MS\", \n",
    "                   \"payload/histograms/GC_SWEEP_MS\", \n",
    "                   \"payload/histograms/GC_MARK_ROOTS_MS\")"
   ]
  },
  {
   "cell_type": "code",
   "execution_count": null,
   "metadata": {
    "collapsed": false,
    "scrolled": false
   },
   "outputs": [],
   "source": [
    "compare_histograms(subset,\n",
    "                   \"payload/histograms/GC_MMU_50\",\n",
    "                   \"payload/histograms/GC_MARK_GRAY_MS\",\n",
    "                   \"payload/histograms/GC_SLICE_MS\",\n",
    "                   \"payload/histograms/GC_SCC_SWEEP_TOTAL_MS\",\n",
    "                   \"payload/histograms/GC_SCC_SWEEP_MAX_PAUSE_MS\")"
   ]
  },
  {
   "cell_type": "markdown",
   "metadata": {},
   "source": [
    "#### g) Cycle Collector"
   ]
  },
  {
   "cell_type": "code",
   "execution_count": null,
   "metadata": {
    "collapsed": false
   },
   "outputs": [],
   "source": [
    "compare_histograms(subset,\n",
    "                   \"payload/histograms/CYCLE_COLLECTOR\",\n",
    "                   \"payload/histograms/CYCLE_COLLECTOR_WORKER\",\n",
    "                   \"payload/histograms/CYCLE_COLLECTOR_FULL\",\n",
    "                   \"payload/histograms/CYCLE_COLLECTOR_MAX_PAUSE\",\n",
    "                   \"payload/histograms/CYCLE_COLLECTOR_TIME_BETWEEN\")"
   ]
  },
  {
   "cell_type": "markdown",
   "metadata": {},
   "source": [
    "## 3. Memory"
   ]
  },
  {
   "cell_type": "markdown",
   "metadata": {},
   "source": [
    "#### a) Usage (bytes)"
   ]
  },
  {
   "cell_type": "code",
   "execution_count": null,
   "metadata": {
    "collapsed": false,
    "scrolled": false
   },
   "outputs": [],
   "source": [
    "compare_histograms(subset,\n",
    "                #   \"payload/histograms/MEMORY_TOTAL\",\n",
    "                 #  \"payload/histograms/MEMORY_VSIZE\",\n",
    "                  # \"payload/histograms/MEMORY_VSIZE_MAX_CONTIGUOUS\",\n",
    "                  # \"payload/histograms/MEMORY_HEAP_ALLOCATED\",\n",
    "                   \"payload/histograms/MEMORY_JS_GC_HEAP\")"
   ]
  },
  {
   "cell_type": "code",
   "execution_count": null,
   "metadata": {
    "collapsed": false,
    "scrolled": false
   },
   "outputs": [],
   "source": [
    "compare_histograms(subset,\n",
    "                   \"payload/histograms/MEMORY_IMAGES_CONTENT_USED_UNCOMPRESSED\",\n",
    "                   \"payload/histograms/MEMORY_STORAGE_SQLITE\")"
   ]
  },
  {
   "cell_type": "markdown",
   "metadata": {},
   "source": [
    "#### c) JS compartments"
   ]
  },
  {
   "cell_type": "code",
   "execution_count": null,
   "metadata": {
    "collapsed": false
   },
   "outputs": [],
   "source": [
    "compare_histograms(subset,\n",
    "                   \"payload/histograms/MEMORY_JS_COMPARTMENTS_SYSTEM\",\n",
    "                   \"payload/histograms/MEMORY_JS_COMPARTMENTS_USER\")"
   ]
  },
  {
   "cell_type": "markdown",
   "metadata": {},
   "source": [
    "#### d) Low memory events"
   ]
  },
  {
   "cell_type": "code",
   "execution_count": null,
   "metadata": {
    "collapsed": false
   },
   "outputs": [],
   "source": [
    "compare_histograms(subset,\n",
    "                   \"payload/histograms/LOW_MEMORY_EVENTS_VIRTUAL\",\n",
    "                   \"payload/histograms/LOW_MEMORY_EVENTS_PHYSICAL\")"
   ]
  },
  {
   "cell_type": "markdown",
   "metadata": {},
   "source": [
    "#### e) Page faults"
   ]
  },
  {
   "cell_type": "code",
   "execution_count": null,
   "metadata": {
    "collapsed": false
   },
   "outputs": [],
   "source": [
    "compare_histograms(subset,\n",
    "                   \"payload/histograms/PAGE_FAULTS_HARD\")"
   ]
  },
  {
   "cell_type": "markdown",
   "metadata": {},
   "source": [
    "#### f) Ghost windows"
   ]
  },
  {
   "cell_type": "code",
   "execution_count": null,
   "metadata": {
    "collapsed": false
   },
   "outputs": [],
   "source": [
    "compare_histograms(subset,\n",
    "                   \"payload/histograms/GHOST_WINDOWS\")"
   ]
  },
  {
   "cell_type": "markdown",
   "metadata": {},
   "source": [
    "## 3. Other"
   ]
  },
  {
   "cell_type": "markdown",
   "metadata": {},
   "source": [
    "Differences discovered by comparing all histograms (see Bug [1198638](https://bugzilla.mozilla.org/show_bug.cgi?id=1198638))"
   ]
  },
  {
   "cell_type": "code",
   "execution_count": null,
   "metadata": {
    "collapsed": false
   },
   "outputs": [],
   "source": [
    "compare_histograms(subset,\n",
    "                   \"payload/histograms/STARTUP_HTTP_CACHE_DISPOSITION_2_V2\",\n",
    "                   \"payload/histograms/STARTUP_NETWORK_CACHE_METADATA_FIRST_READ_TIME_MS\",\n",
    "                   \"payload/histograms/STARTUP_NETWORK_CACHE_V2_HIT_TIME_MS\")"
   ]
  },
  {
   "cell_type": "code",
   "execution_count": null,
   "metadata": {
    "collapsed": false
   },
   "outputs": [],
   "source": [
    "compare_histograms(subset,\n",
    "                   \"payload/histograms/HTTP_PAGE_OPEN_TO_FIRST_FROM_CACHE_V2\",\n",
    "                   \"payload/histograms/HTTP_PAGE_COMPLETE_LOAD_CACHED_V2\",\n",
    "                   \"payload/histograms/HTTP_PAGE_COMPLETE_LOAD\",\n",
    "                   \"payload/histograms/HTTP_SUB_COMPLETE_LOAD_CACHED_V2\",\n",
    "                   \"payload/histograms/HTTP_SUB_COMPLETE_LOAD\",                   \n",
    "                   \"payload/histograms/HTTP_SUB_REVALIDATION\",\n",
    "                   \"payload/histograms/HTTP_SUB_OPEN_TO_FIRST_FROM_CACHE_V2\")"
   ]
  },
  {
   "cell_type": "code",
   "execution_count": null,
   "metadata": {
    "collapsed": false
   },
   "outputs": [],
   "source": [
    "compare_histograms(subset, \n",
    "                   \"payload/histograms/FX_THUMBNAILS_CAPTURE_TIME_MS\",                   \n",
    "                   \"payload/histograms/LOCALDOMSTORAGE_GETVALUE_BLOCKING_MS\",\n",
    "                   \"payload/histograms/FX_SESSION_RESTORE_RESTORE_WINDOW_MS\",\n",
    "                   \"payload/histograms/FX_SESSION_RESTORE_STARTUP_ONLOAD_INITIAL_WINDOW_MS\")"
   ]
  },
  {
   "cell_type": "code",
   "execution_count": null,
   "metadata": {
    "collapsed": false
   },
   "outputs": [],
   "source": [
    "compare_histograms(subset, \n",
    "                   \"payload/histograms/IMAGE_DECODE_ON_DRAW_LATENCY\",\n",
    "                   \"payload/histograms/IMAGE_DECODE_SPEED_GIF\",\n",
    "                   \"payload/histograms/AUDIOSTREAM_LATER_OPEN_MS\",\n",
    "                   \"payload/histograms/AUDIOSTREAM_FIRST_OPEN_MS\")"
   ]
  },
  {
   "cell_type": "code",
   "execution_count": null,
   "metadata": {
    "collapsed": false
   },
   "outputs": [],
   "source": [
    "compare_histograms(subset, \n",
    "                   \"payload/histograms/MEMORY_STORAGE_SQLITE\",\n",
    "                   \"payload/histograms/BLOCKED_ON_PLUGIN_INSTANCE_INIT_MS\")"
   ]
  },
  {
   "cell_type": "code",
   "execution_count": null,
   "metadata": {
    "collapsed": false
   },
   "outputs": [],
   "source": [
    "IPython.core.pylabtools.figsize(32, 7)\n",
    "compare_histograms(subset, \n",
    "                   \"payload/histograms/CERT_VALIDATION_HTTP_REQUEST_CANCELED_TIME\",\n",
    "                   \"payload/histograms/STARTUP_NETWORK_CACHE_METADATA_SIZE\",\n",
    "                   \"payload/histograms/STARTUP_NETWORK_CACHE_METADATA_FIRST_READ_SIZE\")\n",
    "IPython.core.pylabtools.figsize(16, 7)"
   ]
  },
  {
   "cell_type": "markdown",
   "metadata": {},
   "source": [
    "**bug 1226564** - please compare `HTTP_*_COMPLETE_LOAD_NET_V2`"
   ]
  },
  {
   "cell_type": "code",
   "execution_count": null,
   "metadata": {
    "collapsed": false,
    "scrolled": false
   },
   "outputs": [],
   "source": [
    "compare_histograms(subset,\n",
    "                   \"payload/histograms/HTTP_PAGE_COMPLETE_LOAD_NET_V2\",\n",
    "                   \"payload/histograms/HTTP_SUB_COMPLETE_LOAD_NET_V2\")"
   ]
  },
  {
   "cell_type": "markdown",
   "metadata": {},
   "source": [
    "**bug 1255159** - Please look at FX_REFRESH_DRIVER_SYNC_SCROLL_FRAME_DELAY_MS"
   ]
  },
  {
   "cell_type": "code",
   "execution_count": null,
   "metadata": {
    "collapsed": false
   },
   "outputs": [],
   "source": [
    "compare_histograms(subset, \"payload/histograms/FX_REFRESH_DRIVER_SYNC_SCROLL_FRAME_DELAY_MS\")"
   ]
  },
  {
   "cell_type": "markdown",
   "metadata": {},
   "source": [
    "**bug 1273847** - Please look at SLOW_SCRIPT_NOTIFY_DELAY, SHUTDOWN_OK"
   ]
  },
  {
   "cell_type": "code",
   "execution_count": null,
   "metadata": {
    "collapsed": false
   },
   "outputs": [],
   "source": [
    "compare_histograms(subset, \"payload/histograms/SLOW_SCRIPT_NOTIFY_DELAY\")"
   ]
  },
  {
   "cell_type": "code",
   "execution_count": null,
   "metadata": {
    "collapsed": false
   },
   "outputs": [],
   "source": [
    "compare_histograms(subset, \"payload/histograms/SHUTDOWN_OK\")"
   ]
  }
 ],
 "metadata": {
  "kernelspec": {
   "display_name": "Python 2",
   "language": "python",
   "name": "python2"
  },
  "language_info": {
   "codemirror_mode": {
    "name": "ipython",
    "version": 2
   },
   "file_extension": ".py",
   "mimetype": "text/x-python",
   "name": "python",
   "nbconvert_exporter": "python",
   "pygments_lexer": "ipython2",
   "version": "2.7.11"
  }
 },
 "nbformat": 4,
 "nbformat_minor": 0
}
